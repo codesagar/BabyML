{
 "cells": [
  {
   "cell_type": "code",
   "execution_count": 1,
   "metadata": {
    "collapsed": true
   },
   "outputs": [],
   "source": [
    "import pandas as pd"
   ]
  },
  {
   "cell_type": "code",
   "execution_count": 2,
   "metadata": {
    "collapsed": true
   },
   "outputs": [],
   "source": [
    "credit = pd.read_csv(\"/home/sagar/insofe/acads/decision_trees/UniversalBank.csv\")"
   ]
  },
  {
   "cell_type": "code",
   "execution_count": 68,
   "metadata": {
    "collapsed": false
   },
   "outputs": [
    {
     "data": {
      "text/html": [
       "<div>\n",
       "<table border=\"1\" class=\"dataframe\">\n",
       "  <thead>\n",
       "    <tr style=\"text-align: right;\">\n",
       "      <th></th>\n",
       "      <th>Age</th>\n",
       "      <th>Experience</th>\n",
       "      <th>Income</th>\n",
       "      <th>Family</th>\n",
       "      <th>CCAvg</th>\n",
       "      <th>Education</th>\n",
       "      <th>Mortgage</th>\n",
       "      <th>Personal Loan</th>\n",
       "      <th>Securities Account</th>\n",
       "      <th>CD Account</th>\n",
       "      <th>Online</th>\n",
       "      <th>CreditCard</th>\n",
       "    </tr>\n",
       "  </thead>\n",
       "  <tbody>\n",
       "    <tr>\n",
       "      <th>0</th>\n",
       "      <td>25</td>\n",
       "      <td>1</td>\n",
       "      <td>49</td>\n",
       "      <td>?</td>\n",
       "      <td>1.6</td>\n",
       "      <td>1</td>\n",
       "      <td>0</td>\n",
       "      <td>0</td>\n",
       "      <td>1</td>\n",
       "      <td>0</td>\n",
       "      <td>0</td>\n",
       "      <td>0</td>\n",
       "    </tr>\n",
       "    <tr>\n",
       "      <th>1</th>\n",
       "      <td>45</td>\n",
       "      <td>19</td>\n",
       "      <td>34</td>\n",
       "      <td>3</td>\n",
       "      <td>1.5</td>\n",
       "      <td>1</td>\n",
       "      <td>0</td>\n",
       "      <td>0</td>\n",
       "      <td>1</td>\n",
       "      <td>0</td>\n",
       "      <td>0</td>\n",
       "      <td>0</td>\n",
       "    </tr>\n",
       "    <tr>\n",
       "      <th>2</th>\n",
       "      <td>39</td>\n",
       "      <td>15</td>\n",
       "      <td>11</td>\n",
       "      <td>1</td>\n",
       "      <td>1.0</td>\n",
       "      <td>1</td>\n",
       "      <td>0</td>\n",
       "      <td>0</td>\n",
       "      <td>0</td>\n",
       "      <td>0</td>\n",
       "      <td>0</td>\n",
       "      <td>0</td>\n",
       "    </tr>\n",
       "    <tr>\n",
       "      <th>3</th>\n",
       "      <td>35</td>\n",
       "      <td>9</td>\n",
       "      <td>100</td>\n",
       "      <td>1</td>\n",
       "      <td>2.7</td>\n",
       "      <td>2</td>\n",
       "      <td>0</td>\n",
       "      <td>0</td>\n",
       "      <td>0</td>\n",
       "      <td>0</td>\n",
       "      <td>0</td>\n",
       "      <td>0</td>\n",
       "    </tr>\n",
       "    <tr>\n",
       "      <th>4</th>\n",
       "      <td>35</td>\n",
       "      <td>8</td>\n",
       "      <td>45</td>\n",
       "      <td>4</td>\n",
       "      <td>1.0</td>\n",
       "      <td>2</td>\n",
       "      <td>0</td>\n",
       "      <td>0</td>\n",
       "      <td>0</td>\n",
       "      <td>0</td>\n",
       "      <td>0</td>\n",
       "      <td>1</td>\n",
       "    </tr>\n",
       "  </tbody>\n",
       "</table>\n",
       "</div>"
      ],
      "text/plain": [
       "   Age  Experience  Income Family  CCAvg Education  Mortgage  Personal Loan  \\\n",
       "0   25           1      49      ?    1.6         1         0              0   \n",
       "1   45          19      34      3    1.5         1         0              0   \n",
       "2   39          15      11      1    1.0         1         0              0   \n",
       "3   35           9     100      1    2.7         2         0              0   \n",
       "4   35           8      45      4    1.0         2         0              0   \n",
       "\n",
       "   Securities Account  CD Account  Online  CreditCard  \n",
       "0                   1           0       0           0  \n",
       "1                   1           0       0           0  \n",
       "2                   0           0       0           0  \n",
       "3                   0           0       0           0  \n",
       "4                   0           0       0           1  "
      ]
     },
     "execution_count": 68,
     "metadata": {},
     "output_type": "execute_result"
    }
   ],
   "source": [
    "credit.head()"
   ]
  },
  {
   "cell_type": "code",
   "execution_count": 69,
   "metadata": {
    "collapsed": false
   },
   "outputs": [
    {
     "data": {
      "text/html": [
       "<div>\n",
       "<table border=\"1\" class=\"dataframe\">\n",
       "  <thead>\n",
       "    <tr style=\"text-align: right;\">\n",
       "      <th></th>\n",
       "      <th>Age</th>\n",
       "      <th>Experience</th>\n",
       "      <th>Income</th>\n",
       "      <th>CCAvg</th>\n",
       "      <th>Mortgage</th>\n",
       "      <th>Personal Loan</th>\n",
       "      <th>Securities Account</th>\n",
       "      <th>CD Account</th>\n",
       "      <th>Online</th>\n",
       "      <th>CreditCard</th>\n",
       "    </tr>\n",
       "  </thead>\n",
       "  <tbody>\n",
       "    <tr>\n",
       "      <th>count</th>\n",
       "      <td>5000.000000</td>\n",
       "      <td>5000.000000</td>\n",
       "      <td>5000.000000</td>\n",
       "      <td>5000.000000</td>\n",
       "      <td>5000.000000</td>\n",
       "      <td>5000.000000</td>\n",
       "      <td>5000.000000</td>\n",
       "      <td>5000.00000</td>\n",
       "      <td>5000.000000</td>\n",
       "      <td>5000.000000</td>\n",
       "    </tr>\n",
       "    <tr>\n",
       "      <th>mean</th>\n",
       "      <td>45.338400</td>\n",
       "      <td>20.104600</td>\n",
       "      <td>73.774200</td>\n",
       "      <td>1.937938</td>\n",
       "      <td>56.498800</td>\n",
       "      <td>0.096000</td>\n",
       "      <td>0.104400</td>\n",
       "      <td>0.06040</td>\n",
       "      <td>0.596800</td>\n",
       "      <td>0.294000</td>\n",
       "    </tr>\n",
       "    <tr>\n",
       "      <th>std</th>\n",
       "      <td>11.463166</td>\n",
       "      <td>11.467954</td>\n",
       "      <td>46.033729</td>\n",
       "      <td>1.747659</td>\n",
       "      <td>101.713802</td>\n",
       "      <td>0.294621</td>\n",
       "      <td>0.305809</td>\n",
       "      <td>0.23825</td>\n",
       "      <td>0.490589</td>\n",
       "      <td>0.455637</td>\n",
       "    </tr>\n",
       "    <tr>\n",
       "      <th>min</th>\n",
       "      <td>23.000000</td>\n",
       "      <td>-3.000000</td>\n",
       "      <td>8.000000</td>\n",
       "      <td>0.000000</td>\n",
       "      <td>0.000000</td>\n",
       "      <td>0.000000</td>\n",
       "      <td>0.000000</td>\n",
       "      <td>0.00000</td>\n",
       "      <td>0.000000</td>\n",
       "      <td>0.000000</td>\n",
       "    </tr>\n",
       "    <tr>\n",
       "      <th>25%</th>\n",
       "      <td>35.000000</td>\n",
       "      <td>10.000000</td>\n",
       "      <td>39.000000</td>\n",
       "      <td>0.700000</td>\n",
       "      <td>0.000000</td>\n",
       "      <td>0.000000</td>\n",
       "      <td>0.000000</td>\n",
       "      <td>0.00000</td>\n",
       "      <td>0.000000</td>\n",
       "      <td>0.000000</td>\n",
       "    </tr>\n",
       "    <tr>\n",
       "      <th>50%</th>\n",
       "      <td>45.000000</td>\n",
       "      <td>20.000000</td>\n",
       "      <td>64.000000</td>\n",
       "      <td>1.500000</td>\n",
       "      <td>0.000000</td>\n",
       "      <td>0.000000</td>\n",
       "      <td>0.000000</td>\n",
       "      <td>0.00000</td>\n",
       "      <td>1.000000</td>\n",
       "      <td>0.000000</td>\n",
       "    </tr>\n",
       "    <tr>\n",
       "      <th>75%</th>\n",
       "      <td>55.000000</td>\n",
       "      <td>30.000000</td>\n",
       "      <td>98.000000</td>\n",
       "      <td>2.500000</td>\n",
       "      <td>101.000000</td>\n",
       "      <td>0.000000</td>\n",
       "      <td>0.000000</td>\n",
       "      <td>0.00000</td>\n",
       "      <td>1.000000</td>\n",
       "      <td>1.000000</td>\n",
       "    </tr>\n",
       "    <tr>\n",
       "      <th>max</th>\n",
       "      <td>67.000000</td>\n",
       "      <td>43.000000</td>\n",
       "      <td>224.000000</td>\n",
       "      <td>10.000000</td>\n",
       "      <td>635.000000</td>\n",
       "      <td>1.000000</td>\n",
       "      <td>1.000000</td>\n",
       "      <td>1.00000</td>\n",
       "      <td>1.000000</td>\n",
       "      <td>1.000000</td>\n",
       "    </tr>\n",
       "  </tbody>\n",
       "</table>\n",
       "</div>"
      ],
      "text/plain": [
       "               Age   Experience       Income        CCAvg     Mortgage  \\\n",
       "count  5000.000000  5000.000000  5000.000000  5000.000000  5000.000000   \n",
       "mean     45.338400    20.104600    73.774200     1.937938    56.498800   \n",
       "std      11.463166    11.467954    46.033729     1.747659   101.713802   \n",
       "min      23.000000    -3.000000     8.000000     0.000000     0.000000   \n",
       "25%      35.000000    10.000000    39.000000     0.700000     0.000000   \n",
       "50%      45.000000    20.000000    64.000000     1.500000     0.000000   \n",
       "75%      55.000000    30.000000    98.000000     2.500000   101.000000   \n",
       "max      67.000000    43.000000   224.000000    10.000000   635.000000   \n",
       "\n",
       "       Personal Loan  Securities Account  CD Account       Online   CreditCard  \n",
       "count    5000.000000         5000.000000  5000.00000  5000.000000  5000.000000  \n",
       "mean        0.096000            0.104400     0.06040     0.596800     0.294000  \n",
       "std         0.294621            0.305809     0.23825     0.490589     0.455637  \n",
       "min         0.000000            0.000000     0.00000     0.000000     0.000000  \n",
       "25%         0.000000            0.000000     0.00000     0.000000     0.000000  \n",
       "50%         0.000000            0.000000     0.00000     1.000000     0.000000  \n",
       "75%         0.000000            0.000000     0.00000     1.000000     1.000000  \n",
       "max         1.000000            1.000000     1.00000     1.000000     1.000000  "
      ]
     },
     "execution_count": 69,
     "metadata": {},
     "output_type": "execute_result"
    }
   ],
   "source": [
    "credit.describe()"
   ]
  },
  {
   "cell_type": "code",
   "execution_count": 4,
   "metadata": {
    "collapsed": false
   },
   "outputs": [
    {
     "data": {
      "text/plain": [
       "Index(['Age', 'Experience', 'Income', 'Family', 'CCAvg', 'Education',\n",
       "       'Mortgage', 'Personal Loan', 'Securities Account', 'CD Account',\n",
       "       'Online', 'CreditCard'],\n",
       "      dtype='object')"
      ]
     },
     "execution_count": 4,
     "metadata": {},
     "output_type": "execute_result"
    }
   ],
   "source": [
    "credit.drop(['ID','ZIP Code'],inplace=True,axis=1)\n",
    "credit.columns"
   ]
  },
  {
   "cell_type": "markdown",
   "metadata": {},
   "source": [
    "## Is Family as numeric attribute?"
   ]
  },
  {
   "cell_type": "code",
   "execution_count": 6,
   "metadata": {
    "collapsed": true
   },
   "outputs": [],
   "source": [
    "# credit[['Family']] = credit[['Family']].apply(lambda x: x.astype('category'))\n",
    "credit[['Family','Education']] = credit[['Family','Education']].apply(lambda x: x.astype('category'))"
   ]
  },
  {
   "cell_type": "code",
   "execution_count": 7,
   "metadata": {
    "collapsed": false
   },
   "outputs": [
    {
     "data": {
      "text/plain": [
       "Age                      int64\n",
       "Experience               int64\n",
       "Income                   int64\n",
       "Family                category\n",
       "CCAvg                  float64\n",
       "Education             category\n",
       "Mortgage                 int64\n",
       "Personal Loan            int64\n",
       "Securities Account       int64\n",
       "CD Account               int64\n",
       "Online                   int64\n",
       "CreditCard               int64\n",
       "dtype: object"
      ]
     },
     "execution_count": 7,
     "metadata": {},
     "output_type": "execute_result"
    }
   ],
   "source": [
    "credit.dtypes"
   ]
  },
  {
   "cell_type": "code",
   "execution_count": 8,
   "metadata": {
    "collapsed": false
   },
   "outputs": [
    {
     "data": {
      "text/html": [
       "<div>\n",
       "<table border=\"1\" class=\"dataframe\">\n",
       "  <thead>\n",
       "    <tr style=\"text-align: right;\">\n",
       "      <th></th>\n",
       "      <th>Age</th>\n",
       "      <th>Experience</th>\n",
       "      <th>Income</th>\n",
       "      <th>CCAvg</th>\n",
       "      <th>Mortgage</th>\n",
       "      <th>Personal Loan</th>\n",
       "      <th>Securities Account</th>\n",
       "      <th>CD Account</th>\n",
       "      <th>Online</th>\n",
       "      <th>CreditCard</th>\n",
       "      <th>Family_1</th>\n",
       "      <th>Family_2</th>\n",
       "      <th>Family_3</th>\n",
       "      <th>Family_4</th>\n",
       "      <th>Family_?</th>\n",
       "      <th>Education_1</th>\n",
       "      <th>Education_2</th>\n",
       "      <th>Education_3</th>\n",
       "    </tr>\n",
       "  </thead>\n",
       "  <tbody>\n",
       "    <tr>\n",
       "      <th>0</th>\n",
       "      <td>25</td>\n",
       "      <td>1</td>\n",
       "      <td>49</td>\n",
       "      <td>1.6</td>\n",
       "      <td>0</td>\n",
       "      <td>0</td>\n",
       "      <td>1</td>\n",
       "      <td>0</td>\n",
       "      <td>0</td>\n",
       "      <td>0</td>\n",
       "      <td>0</td>\n",
       "      <td>0</td>\n",
       "      <td>0</td>\n",
       "      <td>0</td>\n",
       "      <td>1</td>\n",
       "      <td>1</td>\n",
       "      <td>0</td>\n",
       "      <td>0</td>\n",
       "    </tr>\n",
       "    <tr>\n",
       "      <th>1</th>\n",
       "      <td>45</td>\n",
       "      <td>19</td>\n",
       "      <td>34</td>\n",
       "      <td>1.5</td>\n",
       "      <td>0</td>\n",
       "      <td>0</td>\n",
       "      <td>1</td>\n",
       "      <td>0</td>\n",
       "      <td>0</td>\n",
       "      <td>0</td>\n",
       "      <td>0</td>\n",
       "      <td>0</td>\n",
       "      <td>1</td>\n",
       "      <td>0</td>\n",
       "      <td>0</td>\n",
       "      <td>1</td>\n",
       "      <td>0</td>\n",
       "      <td>0</td>\n",
       "    </tr>\n",
       "    <tr>\n",
       "      <th>2</th>\n",
       "      <td>39</td>\n",
       "      <td>15</td>\n",
       "      <td>11</td>\n",
       "      <td>1.0</td>\n",
       "      <td>0</td>\n",
       "      <td>0</td>\n",
       "      <td>0</td>\n",
       "      <td>0</td>\n",
       "      <td>0</td>\n",
       "      <td>0</td>\n",
       "      <td>1</td>\n",
       "      <td>0</td>\n",
       "      <td>0</td>\n",
       "      <td>0</td>\n",
       "      <td>0</td>\n",
       "      <td>1</td>\n",
       "      <td>0</td>\n",
       "      <td>0</td>\n",
       "    </tr>\n",
       "    <tr>\n",
       "      <th>3</th>\n",
       "      <td>35</td>\n",
       "      <td>9</td>\n",
       "      <td>100</td>\n",
       "      <td>2.7</td>\n",
       "      <td>0</td>\n",
       "      <td>0</td>\n",
       "      <td>0</td>\n",
       "      <td>0</td>\n",
       "      <td>0</td>\n",
       "      <td>0</td>\n",
       "      <td>1</td>\n",
       "      <td>0</td>\n",
       "      <td>0</td>\n",
       "      <td>0</td>\n",
       "      <td>0</td>\n",
       "      <td>0</td>\n",
       "      <td>1</td>\n",
       "      <td>0</td>\n",
       "    </tr>\n",
       "    <tr>\n",
       "      <th>4</th>\n",
       "      <td>35</td>\n",
       "      <td>8</td>\n",
       "      <td>45</td>\n",
       "      <td>1.0</td>\n",
       "      <td>0</td>\n",
       "      <td>0</td>\n",
       "      <td>0</td>\n",
       "      <td>0</td>\n",
       "      <td>0</td>\n",
       "      <td>1</td>\n",
       "      <td>0</td>\n",
       "      <td>0</td>\n",
       "      <td>0</td>\n",
       "      <td>1</td>\n",
       "      <td>0</td>\n",
       "      <td>0</td>\n",
       "      <td>1</td>\n",
       "      <td>0</td>\n",
       "    </tr>\n",
       "  </tbody>\n",
       "</table>\n",
       "</div>"
      ],
      "text/plain": [
       "   Age  Experience  Income  CCAvg  Mortgage  Personal Loan  \\\n",
       "0   25           1      49    1.6         0              0   \n",
       "1   45          19      34    1.5         0              0   \n",
       "2   39          15      11    1.0         0              0   \n",
       "3   35           9     100    2.7         0              0   \n",
       "4   35           8      45    1.0         0              0   \n",
       "\n",
       "   Securities Account  CD Account  Online  CreditCard  Family_1  Family_2  \\\n",
       "0                   1           0       0           0         0         0   \n",
       "1                   1           0       0           0         0         0   \n",
       "2                   0           0       0           0         1         0   \n",
       "3                   0           0       0           0         1         0   \n",
       "4                   0           0       0           1         0         0   \n",
       "\n",
       "   Family_3  Family_4  Family_?  Education_1  Education_2  Education_3  \n",
       "0         0         0         1            1            0            0  \n",
       "1         1         0         0            1            0            0  \n",
       "2         0         0         0            1            0            0  \n",
       "3         0         0         0            0            1            0  \n",
       "4         0         1         0            0            1            0  "
      ]
     },
     "execution_count": 8,
     "metadata": {},
     "output_type": "execute_result"
    }
   ],
   "source": [
    "# credit_dummies = pd.get_dummies(credit, columns=['Family'])\n",
    "credit_dummies = pd.get_dummies(credit, columns=['Family','Education'])\n",
    "credit_dummies.head()"
   ]
  },
  {
   "cell_type": "code",
   "execution_count": 16,
   "metadata": {
    "collapsed": false
   },
   "outputs": [
    {
     "data": {
      "text/plain": [
       "0    3530\n",
       "1    1470\n",
       "Name: CreditCard, dtype: int64"
      ]
     },
     "execution_count": 16,
     "metadata": {},
     "output_type": "execute_result"
    }
   ],
   "source": [
    "credit['CreditCard'].value_counts()"
   ]
  },
  {
   "cell_type": "code",
   "execution_count": 17,
   "metadata": {
    "collapsed": true
   },
   "outputs": [],
   "source": [
    "X = credit_dummies[credit_dummies.columns.difference(['CreditCard'])]\n",
    "y = credit_dummies['CreditCard']"
   ]
  },
  {
   "cell_type": "code",
   "execution_count": 18,
   "metadata": {
    "collapsed": false
   },
   "outputs": [],
   "source": [
    "from sklearn.preprocessing import StandardScaler\n",
    "standardizer = StandardScaler()\n",
    "standardizer.fit(X)\n",
    "std_features = standardizer.transform(X)\n",
    "X = pd.DataFrame(std_features, index=X.index, columns=X.columns)"
   ]
  },
  {
   "cell_type": "code",
   "execution_count": 19,
   "metadata": {
    "collapsed": false
   },
   "outputs": [
    {
     "data": {
      "text/html": [
       "<div>\n",
       "<table border=\"1\" class=\"dataframe\">\n",
       "  <thead>\n",
       "    <tr style=\"text-align: right;\">\n",
       "      <th></th>\n",
       "      <th>Age</th>\n",
       "      <th>CCAvg</th>\n",
       "      <th>CD Account</th>\n",
       "      <th>Education_1</th>\n",
       "      <th>Education_2</th>\n",
       "      <th>Education_3</th>\n",
       "      <th>Experience</th>\n",
       "      <th>Family_1</th>\n",
       "      <th>Family_2</th>\n",
       "      <th>Family_3</th>\n",
       "      <th>Family_4</th>\n",
       "      <th>Family_?</th>\n",
       "      <th>Income</th>\n",
       "      <th>Mortgage</th>\n",
       "      <th>Online</th>\n",
       "      <th>Personal Loan</th>\n",
       "      <th>Securities Account</th>\n",
       "    </tr>\n",
       "  </thead>\n",
       "  <tbody>\n",
       "    <tr>\n",
       "      <th>count</th>\n",
       "      <td>5.000000e+03</td>\n",
       "      <td>5.000000e+03</td>\n",
       "      <td>5.000000e+03</td>\n",
       "      <td>5.000000e+03</td>\n",
       "      <td>5.000000e+03</td>\n",
       "      <td>5.000000e+03</td>\n",
       "      <td>5.000000e+03</td>\n",
       "      <td>5.000000e+03</td>\n",
       "      <td>5.000000e+03</td>\n",
       "      <td>5.000000e+03</td>\n",
       "      <td>5.000000e+03</td>\n",
       "      <td>5.000000e+03</td>\n",
       "      <td>5.000000e+03</td>\n",
       "      <td>5.000000e+03</td>\n",
       "      <td>5.000000e+03</td>\n",
       "      <td>5.000000e+03</td>\n",
       "      <td>5.000000e+03</td>\n",
       "    </tr>\n",
       "    <tr>\n",
       "      <th>mean</th>\n",
       "      <td>2.478018e-17</td>\n",
       "      <td>-2.078338e-17</td>\n",
       "      <td>4.426903e-16</td>\n",
       "      <td>-6.365575e-16</td>\n",
       "      <td>-2.122302e-16</td>\n",
       "      <td>-3.148592e-17</td>\n",
       "      <td>-1.693312e-16</td>\n",
       "      <td>4.554579e-16</td>\n",
       "      <td>3.852474e-16</td>\n",
       "      <td>-7.339018e-16</td>\n",
       "      <td>-6.959322e-16</td>\n",
       "      <td>5.138757e-16</td>\n",
       "      <td>1.939449e-16</td>\n",
       "      <td>2.810197e-16</td>\n",
       "      <td>2.986500e-16</td>\n",
       "      <td>-5.565326e-16</td>\n",
       "      <td>5.092149e-16</td>\n",
       "    </tr>\n",
       "    <tr>\n",
       "      <th>std</th>\n",
       "      <td>1.000100e+00</td>\n",
       "      <td>1.000100e+00</td>\n",
       "      <td>1.000100e+00</td>\n",
       "      <td>1.000100e+00</td>\n",
       "      <td>1.000100e+00</td>\n",
       "      <td>1.000100e+00</td>\n",
       "      <td>1.000100e+00</td>\n",
       "      <td>1.000100e+00</td>\n",
       "      <td>1.000100e+00</td>\n",
       "      <td>1.000100e+00</td>\n",
       "      <td>1.000100e+00</td>\n",
       "      <td>1.000100e+00</td>\n",
       "      <td>1.000100e+00</td>\n",
       "      <td>1.000100e+00</td>\n",
       "      <td>1.000100e+00</td>\n",
       "      <td>1.000100e+00</td>\n",
       "      <td>1.000100e+00</td>\n",
       "    </tr>\n",
       "    <tr>\n",
       "      <th>min</th>\n",
       "      <td>-1.948906e+00</td>\n",
       "      <td>-1.108987e+00</td>\n",
       "      <td>-2.535403e-01</td>\n",
       "      <td>-8.495664e-01</td>\n",
       "      <td>-6.245376e-01</td>\n",
       "      <td>-6.549654e-01</td>\n",
       "      <td>-2.014911e+00</td>\n",
       "      <td>-6.459362e-01</td>\n",
       "      <td>-5.915167e-01</td>\n",
       "      <td>-5.031231e-01</td>\n",
       "      <td>-5.684200e-01</td>\n",
       "      <td>-1.414355e-02</td>\n",
       "      <td>-1.428969e+00</td>\n",
       "      <td>-5.555239e-01</td>\n",
       "      <td>-1.216618e+00</td>\n",
       "      <td>-3.258753e-01</td>\n",
       "      <td>-3.414233e-01</td>\n",
       "    </tr>\n",
       "    <tr>\n",
       "      <th>25%</th>\n",
       "      <td>-9.019702e-01</td>\n",
       "      <td>-7.084116e-01</td>\n",
       "      <td>-2.535403e-01</td>\n",
       "      <td>-8.495664e-01</td>\n",
       "      <td>-6.245376e-01</td>\n",
       "      <td>-6.549654e-01</td>\n",
       "      <td>-8.812043e-01</td>\n",
       "      <td>-6.459362e-01</td>\n",
       "      <td>-5.915167e-01</td>\n",
       "      <td>-5.031231e-01</td>\n",
       "      <td>-5.684200e-01</td>\n",
       "      <td>-1.414355e-02</td>\n",
       "      <td>-7.554825e-01</td>\n",
       "      <td>-5.555239e-01</td>\n",
       "      <td>-1.216618e+00</td>\n",
       "      <td>-3.258753e-01</td>\n",
       "      <td>-3.414233e-01</td>\n",
       "    </tr>\n",
       "    <tr>\n",
       "      <th>50%</th>\n",
       "      <td>-2.952359e-02</td>\n",
       "      <td>-2.506106e-01</td>\n",
       "      <td>-2.535403e-01</td>\n",
       "      <td>-8.495664e-01</td>\n",
       "      <td>-6.245376e-01</td>\n",
       "      <td>-6.549654e-01</td>\n",
       "      <td>-9.121982e-03</td>\n",
       "      <td>-6.459362e-01</td>\n",
       "      <td>-5.915167e-01</td>\n",
       "      <td>-5.031231e-01</td>\n",
       "      <td>-5.684200e-01</td>\n",
       "      <td>-1.414355e-02</td>\n",
       "      <td>-2.123482e-01</td>\n",
       "      <td>-5.555239e-01</td>\n",
       "      <td>8.219509e-01</td>\n",
       "      <td>-3.258753e-01</td>\n",
       "      <td>-3.414233e-01</td>\n",
       "    </tr>\n",
       "    <tr>\n",
       "      <th>75%</th>\n",
       "      <td>8.429230e-01</td>\n",
       "      <td>3.216407e-01</td>\n",
       "      <td>-2.535403e-01</td>\n",
       "      <td>1.177071e+00</td>\n",
       "      <td>1.601185e+00</td>\n",
       "      <td>1.526798e+00</td>\n",
       "      <td>8.629604e-01</td>\n",
       "      <td>1.548141e+00</td>\n",
       "      <td>1.690569e+00</td>\n",
       "      <td>-5.031231e-01</td>\n",
       "      <td>-5.684200e-01</td>\n",
       "      <td>-1.414355e-02</td>\n",
       "      <td>5.263146e-01</td>\n",
       "      <td>4.375576e-01</td>\n",
       "      <td>8.219509e-01</td>\n",
       "      <td>-3.258753e-01</td>\n",
       "      <td>-3.414233e-01</td>\n",
       "    </tr>\n",
       "    <tr>\n",
       "      <th>max</th>\n",
       "      <td>1.889859e+00</td>\n",
       "      <td>4.613525e+00</td>\n",
       "      <td>3.944146e+00</td>\n",
       "      <td>1.177071e+00</td>\n",
       "      <td>1.601185e+00</td>\n",
       "      <td>1.526798e+00</td>\n",
       "      <td>1.996667e+00</td>\n",
       "      <td>1.548141e+00</td>\n",
       "      <td>1.690569e+00</td>\n",
       "      <td>1.987585e+00</td>\n",
       "      <td>1.759262e+00</td>\n",
       "      <td>7.070361e+01</td>\n",
       "      <td>3.263712e+00</td>\n",
       "      <td>5.688108e+00</td>\n",
       "      <td>8.219509e-01</td>\n",
       "      <td>3.068659e+00</td>\n",
       "      <td>2.928915e+00</td>\n",
       "    </tr>\n",
       "  </tbody>\n",
       "</table>\n",
       "</div>"
      ],
      "text/plain": [
       "                Age         CCAvg    CD Account   Education_1   Education_2  \\\n",
       "count  5.000000e+03  5.000000e+03  5.000000e+03  5.000000e+03  5.000000e+03   \n",
       "mean   2.478018e-17 -2.078338e-17  4.426903e-16 -6.365575e-16 -2.122302e-16   \n",
       "std    1.000100e+00  1.000100e+00  1.000100e+00  1.000100e+00  1.000100e+00   \n",
       "min   -1.948906e+00 -1.108987e+00 -2.535403e-01 -8.495664e-01 -6.245376e-01   \n",
       "25%   -9.019702e-01 -7.084116e-01 -2.535403e-01 -8.495664e-01 -6.245376e-01   \n",
       "50%   -2.952359e-02 -2.506106e-01 -2.535403e-01 -8.495664e-01 -6.245376e-01   \n",
       "75%    8.429230e-01  3.216407e-01 -2.535403e-01  1.177071e+00  1.601185e+00   \n",
       "max    1.889859e+00  4.613525e+00  3.944146e+00  1.177071e+00  1.601185e+00   \n",
       "\n",
       "        Education_3    Experience      Family_1      Family_2      Family_3  \\\n",
       "count  5.000000e+03  5.000000e+03  5.000000e+03  5.000000e+03  5.000000e+03   \n",
       "mean  -3.148592e-17 -1.693312e-16  4.554579e-16  3.852474e-16 -7.339018e-16   \n",
       "std    1.000100e+00  1.000100e+00  1.000100e+00  1.000100e+00  1.000100e+00   \n",
       "min   -6.549654e-01 -2.014911e+00 -6.459362e-01 -5.915167e-01 -5.031231e-01   \n",
       "25%   -6.549654e-01 -8.812043e-01 -6.459362e-01 -5.915167e-01 -5.031231e-01   \n",
       "50%   -6.549654e-01 -9.121982e-03 -6.459362e-01 -5.915167e-01 -5.031231e-01   \n",
       "75%    1.526798e+00  8.629604e-01  1.548141e+00  1.690569e+00 -5.031231e-01   \n",
       "max    1.526798e+00  1.996667e+00  1.548141e+00  1.690569e+00  1.987585e+00   \n",
       "\n",
       "           Family_4      Family_?        Income      Mortgage        Online  \\\n",
       "count  5.000000e+03  5.000000e+03  5.000000e+03  5.000000e+03  5.000000e+03   \n",
       "mean  -6.959322e-16  5.138757e-16  1.939449e-16  2.810197e-16  2.986500e-16   \n",
       "std    1.000100e+00  1.000100e+00  1.000100e+00  1.000100e+00  1.000100e+00   \n",
       "min   -5.684200e-01 -1.414355e-02 -1.428969e+00 -5.555239e-01 -1.216618e+00   \n",
       "25%   -5.684200e-01 -1.414355e-02 -7.554825e-01 -5.555239e-01 -1.216618e+00   \n",
       "50%   -5.684200e-01 -1.414355e-02 -2.123482e-01 -5.555239e-01  8.219509e-01   \n",
       "75%   -5.684200e-01 -1.414355e-02  5.263146e-01  4.375576e-01  8.219509e-01   \n",
       "max    1.759262e+00  7.070361e+01  3.263712e+00  5.688108e+00  8.219509e-01   \n",
       "\n",
       "       Personal Loan  Securities Account  \n",
       "count   5.000000e+03        5.000000e+03  \n",
       "mean   -5.565326e-16        5.092149e-16  \n",
       "std     1.000100e+00        1.000100e+00  \n",
       "min    -3.258753e-01       -3.414233e-01  \n",
       "25%    -3.258753e-01       -3.414233e-01  \n",
       "50%    -3.258753e-01       -3.414233e-01  \n",
       "75%    -3.258753e-01       -3.414233e-01  \n",
       "max     3.068659e+00        2.928915e+00  "
      ]
     },
     "execution_count": 19,
     "metadata": {},
     "output_type": "execute_result"
    }
   ],
   "source": [
    "X.describe()"
   ]
  },
  {
   "cell_type": "code",
   "execution_count": 20,
   "metadata": {
    "collapsed": true
   },
   "outputs": [],
   "source": [
    "from sklearn.model_selection import train_test_split\n",
    "X_train, X_test, y_train, y_test = train_test_split(X, y, test_size=0.3, random_state=42)"
   ]
  },
  {
   "cell_type": "code",
   "execution_count": 21,
   "metadata": {
    "collapsed": false
   },
   "outputs": [
    {
     "name": "stdout",
     "output_type": "stream",
     "text": [
      "X_train (3500, 17)\n",
      "y_train (3500,)\n",
      "X_test (1500, 17)\n",
      "y_test (1500,)\n"
     ]
    }
   ],
   "source": [
    "print('X_train',X_train.shape)\n",
    "print('y_train',y_train.shape)\n",
    "print('X_test',X_test.shape)\n",
    "print('y_test',y_test.shape)"
   ]
  },
  {
   "cell_type": "code",
   "execution_count": 22,
   "metadata": {
    "collapsed": true
   },
   "outputs": [],
   "source": [
    "# from sklearn.utils import resample\n",
    "\n",
    "# df_majority = X_train[credit_dummies.CreditCard==0]\n",
    "# df_minority = credit_dummies[credit_dummies.CreditCard==1]\n",
    "\n",
    "# df_minority_upsampled = resample(df_minority, \n",
    "#                                  replace=True,     # sample with replacement\n",
    "#                                  n_samples=2576,    # to match majority class\n",
    "#                                  random_state=123) \n",
    "\n",
    "# df_upsampled = pd.concat([df_majority, df_minority_upsampled])\n",
    "# print(df_upsampled['CreditCard'].value_counts())\n",
    "\n",
    "# X = df_upsampled[df_upsampled.columns.difference(['CreditCard'])]\n",
    "# y = df_upsampled['CreditCard']\n",
    "# print(X.shape)\n",
    "# print(y.shape)"
   ]
  },
  {
   "cell_type": "code",
   "execution_count": 23,
   "metadata": {
    "collapsed": false
   },
   "outputs": [],
   "source": [
    "from sklearn.neighbors import KNeighborsClassifier\n",
    "knn = KNeighborsClassifier(n_jobs=2)"
   ]
  },
  {
   "cell_type": "markdown",
   "metadata": {},
   "source": [
    "## Base classifier with k=5"
   ]
  },
  {
   "cell_type": "code",
   "execution_count": 25,
   "metadata": {
    "collapsed": false
   },
   "outputs": [
    {
     "data": {
      "text/plain": [
       "0.708"
      ]
     },
     "execution_count": 25,
     "metadata": {},
     "output_type": "execute_result"
    }
   ],
   "source": [
    "knn_base = KNeighborsClassifier(n_neighbors=5)\n",
    "knn_base.fit(X_train, y_train)\n",
    "knn_base.score(X_test,y_test)"
   ]
  },
  {
   "cell_type": "code",
   "execution_count": 30,
   "metadata": {
    "collapsed": false
   },
   "outputs": [
    {
     "data": {
      "text/plain": [
       "dtype('int64')"
      ]
     },
     "execution_count": 30,
     "metadata": {},
     "output_type": "execute_result"
    }
   ],
   "source": [
    "y_test.dtypes"
   ]
  },
  {
   "cell_type": "code",
   "execution_count": 59,
   "metadata": {
    "collapsed": false
   },
   "outputs": [],
   "source": [
    "import numpy as np\n",
    "from sklearn.metrics import recall_score\n",
    "from sklearn.metrics import f1_score\n",
    "from sklearn.metrics import auc\n",
    "\n",
    "train_acc = []\n",
    "test_acc = []\n",
    "train_recall = []\n",
    "test_recall = []\n",
    "train_f1 = []\n",
    "test_f1 = []\n",
    "\n",
    "for i in np.arange(1,51,4):\n",
    "    knn_base = KNeighborsClassifier(n_neighbors=i)\n",
    "    knn_base.fit(X_train, y_train)\n",
    "    \n",
    "    train_pred = knn_base.predict(X_train)\n",
    "    test_pred = knn_base.predict(X_test)\n",
    "    \n",
    "    train_acc.append(knn_base.score(X_train,y_train))\n",
    "    test_acc.append(knn_base.score(X_test,y_test))\n",
    "    \n",
    "    train_recall.append(recall_score(y_train,train_pred))\n",
    "    test_recall.append(recall_score(y_test,test_pred))\n",
    "    \n",
    "    train_f1.append(f1_score(y_train,train_pred))\n",
    "    test_f1.append(f1_score(y_test,test_pred))"
   ]
  },
  {
   "cell_type": "code",
   "execution_count": 60,
   "metadata": {
    "collapsed": false
   },
   "outputs": [
    {
     "data": {
      "text/html": [
       "<div>\n",
       "<table border=\"1\" class=\"dataframe\">\n",
       "  <thead>\n",
       "    <tr style=\"text-align: right;\">\n",
       "      <th></th>\n",
       "      <th>Train Acc</th>\n",
       "      <th>Test Acc</th>\n",
       "      <th>Train Recall</th>\n",
       "      <th>Test Recall</th>\n",
       "      <th>Train F1</th>\n",
       "      <th>Test F1</th>\n",
       "    </tr>\n",
       "  </thead>\n",
       "  <tbody>\n",
       "    <tr>\n",
       "      <th>0</th>\n",
       "      <td>0.998286</td>\n",
       "      <td>0.635333</td>\n",
       "      <td>0.997124</td>\n",
       "      <td>0.402810</td>\n",
       "      <td>0.997124</td>\n",
       "      <td>0.386083</td>\n",
       "    </tr>\n",
       "    <tr>\n",
       "      <th>1</th>\n",
       "      <td>0.779714</td>\n",
       "      <td>0.708000</td>\n",
       "      <td>0.437200</td>\n",
       "      <td>0.313817</td>\n",
       "      <td>0.541889</td>\n",
       "      <td>0.379603</td>\n",
       "    </tr>\n",
       "    <tr>\n",
       "      <th>2</th>\n",
       "      <td>0.759143</td>\n",
       "      <td>0.717333</td>\n",
       "      <td>0.316395</td>\n",
       "      <td>0.236534</td>\n",
       "      <td>0.439122</td>\n",
       "      <td>0.322684</td>\n",
       "    </tr>\n",
       "    <tr>\n",
       "      <th>3</th>\n",
       "      <td>0.752000</td>\n",
       "      <td>0.723333</td>\n",
       "      <td>0.269415</td>\n",
       "      <td>0.208431</td>\n",
       "      <td>0.393007</td>\n",
       "      <td>0.300169</td>\n",
       "    </tr>\n",
       "    <tr>\n",
       "      <th>4</th>\n",
       "      <td>0.745143</td>\n",
       "      <td>0.729333</td>\n",
       "      <td>0.227229</td>\n",
       "      <td>0.173302</td>\n",
       "      <td>0.346999</td>\n",
       "      <td>0.267148</td>\n",
       "    </tr>\n",
       "    <tr>\n",
       "      <th>5</th>\n",
       "      <td>0.739429</td>\n",
       "      <td>0.743333</td>\n",
       "      <td>0.193672</td>\n",
       "      <td>0.177986</td>\n",
       "      <td>0.306991</td>\n",
       "      <td>0.283054</td>\n",
       "    </tr>\n",
       "    <tr>\n",
       "      <th>6</th>\n",
       "      <td>0.739714</td>\n",
       "      <td>0.745333</td>\n",
       "      <td>0.179291</td>\n",
       "      <td>0.175644</td>\n",
       "      <td>0.291051</td>\n",
       "      <td>0.281955</td>\n",
       "    </tr>\n",
       "    <tr>\n",
       "      <th>7</th>\n",
       "      <td>0.737143</td>\n",
       "      <td>0.748667</td>\n",
       "      <td>0.164909</td>\n",
       "      <td>0.170960</td>\n",
       "      <td>0.272152</td>\n",
       "      <td>0.279159</td>\n",
       "    </tr>\n",
       "    <tr>\n",
       "      <th>8</th>\n",
       "      <td>0.736857</td>\n",
       "      <td>0.750667</td>\n",
       "      <td>0.163950</td>\n",
       "      <td>0.166276</td>\n",
       "      <td>0.270784</td>\n",
       "      <td>0.275194</td>\n",
       "    </tr>\n",
       "    <tr>\n",
       "      <th>9</th>\n",
       "      <td>0.737429</td>\n",
       "      <td>0.748000</td>\n",
       "      <td>0.158198</td>\n",
       "      <td>0.163934</td>\n",
       "      <td>0.264211</td>\n",
       "      <td>0.270270</td>\n",
       "    </tr>\n",
       "    <tr>\n",
       "      <th>10</th>\n",
       "      <td>0.737429</td>\n",
       "      <td>0.748667</td>\n",
       "      <td>0.158198</td>\n",
       "      <td>0.163934</td>\n",
       "      <td>0.264211</td>\n",
       "      <td>0.270793</td>\n",
       "    </tr>\n",
       "    <tr>\n",
       "      <th>11</th>\n",
       "      <td>0.737143</td>\n",
       "      <td>0.748667</td>\n",
       "      <td>0.156280</td>\n",
       "      <td>0.163934</td>\n",
       "      <td>0.261637</td>\n",
       "      <td>0.270793</td>\n",
       "    </tr>\n",
       "    <tr>\n",
       "      <th>12</th>\n",
       "      <td>0.735429</td>\n",
       "      <td>0.748667</td>\n",
       "      <td>0.152445</td>\n",
       "      <td>0.163934</td>\n",
       "      <td>0.255627</td>\n",
       "      <td>0.270793</td>\n",
       "    </tr>\n",
       "  </tbody>\n",
       "</table>\n",
       "</div>"
      ],
      "text/plain": [
       "    Train Acc  Test Acc  Train Recall  Test Recall  Train F1   Test F1\n",
       "0    0.998286  0.635333      0.997124     0.402810  0.997124  0.386083\n",
       "1    0.779714  0.708000      0.437200     0.313817  0.541889  0.379603\n",
       "2    0.759143  0.717333      0.316395     0.236534  0.439122  0.322684\n",
       "3    0.752000  0.723333      0.269415     0.208431  0.393007  0.300169\n",
       "4    0.745143  0.729333      0.227229     0.173302  0.346999  0.267148\n",
       "5    0.739429  0.743333      0.193672     0.177986  0.306991  0.283054\n",
       "6    0.739714  0.745333      0.179291     0.175644  0.291051  0.281955\n",
       "7    0.737143  0.748667      0.164909     0.170960  0.272152  0.279159\n",
       "8    0.736857  0.750667      0.163950     0.166276  0.270784  0.275194\n",
       "9    0.737429  0.748000      0.158198     0.163934  0.264211  0.270270\n",
       "10   0.737429  0.748667      0.158198     0.163934  0.264211  0.270793\n",
       "11   0.737143  0.748667      0.156280     0.163934  0.261637  0.270793\n",
       "12   0.735429  0.748667      0.152445     0.163934  0.255627  0.270793"
      ]
     },
     "execution_count": 60,
     "metadata": {},
     "output_type": "execute_result"
    }
   ],
   "source": [
    "pd.DataFrame({\"K\":np.arange(1,51,4), 'Train Acc':train_acc, 'Test Acc':test_acc,'Train Recall': train_recall, 'Test Recall': test_recall, 'Train F1': train_f1, 'Test F1': test_f1},\n",
    "            columns = ['Train Acc','Test Acc','Train Recall','Test Recall','Train F1','Test F1'])"
   ]
  },
  {
   "cell_type": "code",
   "execution_count": 61,
   "metadata": {
    "collapsed": false
   },
   "outputs": [
    {
     "name": "stdout",
     "output_type": "stream",
     "text": [
      "Train Score 0.365017090993598\n",
      "KNeighborsClassifier(algorithm='kd_tree', leaf_size=330, metric='minkowski',\n",
      "           metric_params=None, n_jobs=2, n_neighbors=7, p=2,\n",
      "           weights='uniform')\n",
      "Test Score 0.3267776096822996\n"
     ]
    }
   ],
   "source": [
    "from sklearn.model_selection import RandomizedSearchCV\n",
    "from sklearn.neighbors import KNeighborsClassifier\n",
    "from sklearn.metrics import make_scorer\n",
    "from sklearn.metrics import recall_score\n",
    "from sklearn.metrics import f1_score\n",
    "\n",
    "knn = KNeighborsClassifier(n_jobs=2)\n",
    "\n",
    "scoring = {'Recall': make_scorer(recall_score), 'F1':make_scorer(f1_score)}\n",
    "param_grid = {'n_neighbors': np.arange(3,51,2),\n",
    "             'p': [1,2],\n",
    "             'weights':['uniform','distance'],\n",
    "             'leaf_size':np.arange(10,500,10),\n",
    "             'algorithm':['ball_tree','kd_tree','brute']}\n",
    "\n",
    "rsearch = RandomizedSearchCV(estimator=knn, scoring=scoring, param_distributions=param_grid,refit='F1', n_iter=10,cv=5)\n",
    "rsearch.fit(X_train, y_train)\n",
    "\n",
    "print('Train Score',rsearch.best_score_)\n",
    "print(rsearch.best_estimator_)\n",
    "print('Test Score',rsearch.score(X_test, y_test))"
   ]
  },
  {
   "cell_type": "code",
   "execution_count": 62,
   "metadata": {
    "collapsed": false
   },
   "outputs": [
    {
     "data": {
      "text/plain": [
       "array([[947, 126],\n",
       "       [319, 108]])"
      ]
     },
     "execution_count": 62,
     "metadata": {},
     "output_type": "execute_result"
    }
   ],
   "source": [
    "from sklearn.metrics import confusion_matrix\n",
    "\n",
    "test_pred = rsearch.predict(X_test)\n",
    "confusion_matrix(y_test,test_pred)"
   ]
  },
  {
   "cell_type": "code",
   "execution_count": 64,
   "metadata": {
    "collapsed": false
   },
   "outputs": [
    {
     "name": "stdout",
     "output_type": "stream",
     "text": [
      "F1= 0.3267776096822996\n",
      "Recall= 0.2529274004683841\n"
     ]
    }
   ],
   "source": [
    "print(\"F1=\",f1_score(y_test,test_pred))\n",
    "print(\"Recall=\",recall_score(y_test,test_pred))"
   ]
  },
  {
   "cell_type": "code",
   "execution_count": 66,
   "metadata": {
    "collapsed": false
   },
   "outputs": [
    {
     "data": {
      "text/html": [
       "<div>\n",
       "<table border=\"1\" class=\"dataframe\">\n",
       "  <thead>\n",
       "    <tr style=\"text-align: right;\">\n",
       "      <th></th>\n",
       "      <th>0</th>\n",
       "    </tr>\n",
       "  </thead>\n",
       "  <tbody>\n",
       "    <tr>\n",
       "      <th>0</th>\n",
       "      <td>0</td>\n",
       "    </tr>\n",
       "    <tr>\n",
       "      <th>1</th>\n",
       "      <td>0</td>\n",
       "    </tr>\n",
       "    <tr>\n",
       "      <th>2</th>\n",
       "      <td>0</td>\n",
       "    </tr>\n",
       "    <tr>\n",
       "      <th>3</th>\n",
       "      <td>0</td>\n",
       "    </tr>\n",
       "    <tr>\n",
       "      <th>4</th>\n",
       "      <td>0</td>\n",
       "    </tr>\n",
       "  </tbody>\n",
       "</table>\n",
       "</div>"
      ],
      "text/plain": [
       "   0\n",
       "0  0\n",
       "1  0\n",
       "2  0\n",
       "3  0\n",
       "4  0"
      ]
     },
     "execution_count": 66,
     "metadata": {},
     "output_type": "execute_result"
    }
   ],
   "source": [
    "predictions = pd.DataFrame(rsearch.predict(X_test))\n",
    "predictions.head()"
   ]
  },
  {
   "cell_type": "code",
   "execution_count": 67,
   "metadata": {
    "collapsed": false
   },
   "outputs": [
    {
     "data": {
      "text/plain": [
       "0    1266\n",
       "1     234\n",
       "Name: 0, dtype: int64"
      ]
     },
     "execution_count": 67,
     "metadata": {},
     "output_type": "execute_result"
    }
   ],
   "source": [
    "predictions.iloc[:,0].value_counts()"
   ]
  },
  {
   "cell_type": "code",
   "execution_count": null,
   "metadata": {
    "collapsed": true
   },
   "outputs": [],
   "source": []
  }
 ],
 "metadata": {
  "kernelspec": {
   "display_name": "Python 3",
   "language": "python",
   "name": "python3"
  },
  "language_info": {
   "codemirror_mode": {
    "name": "ipython",
    "version": 3
   },
   "file_extension": ".py",
   "mimetype": "text/x-python",
   "name": "python",
   "nbconvert_exporter": "python",
   "pygments_lexer": "ipython3",
   "version": "3.6.0"
  }
 },
 "nbformat": 4,
 "nbformat_minor": 2
}
