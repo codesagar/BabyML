{
 "cells": [
  {
   "cell_type": "markdown",
   "metadata": {},
   "source": [
    "# Joke Recommender System"
   ]
  },
  {
   "cell_type": "markdown",
   "metadata": {},
   "source": [
    "## Surprise is a python scikit used to make recommender systems\n",
    "http://surpriselib.com/\n",
    "\n",
    "https://github.com/NicolasHug/Surprise"
   ]
  },
  {
   "cell_type": "code",
   "execution_count": 1,
   "metadata": {
    "collapsed": true
   },
   "outputs": [],
   "source": [
    "import os\n",
    "os.chdir(\"/home/sagar/insofe/acads/CF\")"
   ]
  },
  {
   "cell_type": "code",
   "execution_count": 18,
   "metadata": {
    "collapsed": true
   },
   "outputs": [],
   "source": [
    "from surprise import Dataset, Reader, KNNWithMeans, KNNWithZScore\n",
    "from surprise.model_selection import cross_validate\n",
    "import pandas as pd"
   ]
  },
  {
   "cell_type": "markdown",
   "metadata": {},
   "source": [
    "## Setting seed for reproducible results"
   ]
  },
  {
   "cell_type": "code",
   "execution_count": 3,
   "metadata": {
    "collapsed": false
   },
   "outputs": [],
   "source": [
    "import random\n",
    "import numpy as np\n",
    "\n",
    "my_seed = 9873923\n",
    "random.seed(my_seed)\n",
    "np.random.seed(my_seed)"
   ]
  },
  {
   "cell_type": "markdown",
   "metadata": {},
   "source": [
    "## Joke Dataset\n",
    "http://eigentaste.berkeley.edu/dataset/\n",
    "\n",
    "150 Jokes\n",
    "\n",
    "63978 Users"
   ]
  },
  {
   "cell_type": "markdown",
   "metadata": {},
   "source": [
    "### Reading jokes files\n",
    "Note - Data is tab seperated"
   ]
  },
  {
   "cell_type": "code",
   "execution_count": 4,
   "metadata": {
    "collapsed": false
   },
   "outputs": [
    {
     "data": {
      "text/html": [
       "<div>\n",
       "<table border=\"1\" class=\"dataframe\">\n",
       "  <thead>\n",
       "    <tr style=\"text-align: right;\">\n",
       "      <th></th>\n",
       "      <th>Joke</th>\n",
       "    </tr>\n",
       "  </thead>\n",
       "  <tbody>\n",
       "    <tr>\n",
       "      <th>0</th>\n",
       "      <td>A man visits the doctor. The doctor says, \"I h...</td>\n",
       "    </tr>\n",
       "    <tr>\n",
       "      <th>1</th>\n",
       "      <td>This couple had an excellent relationship goin...</td>\n",
       "    </tr>\n",
       "    <tr>\n",
       "      <th>2</th>\n",
       "      <td>Q. What's 200 feet long and has 4 teeth? A. Th...</td>\n",
       "    </tr>\n",
       "    <tr>\n",
       "      <th>3</th>\n",
       "      <td>Q. What's the difference between a man and a t...</td>\n",
       "    </tr>\n",
       "    <tr>\n",
       "      <th>4</th>\n",
       "      <td>Q. What's O. J. Simpson's web address? A. Slas...</td>\n",
       "    </tr>\n",
       "  </tbody>\n",
       "</table>\n",
       "</div>"
      ],
      "text/plain": [
       "                                                Joke\n",
       "0  A man visits the doctor. The doctor says, \"I h...\n",
       "1  This couple had an excellent relationship goin...\n",
       "2  Q. What's 200 feet long and has 4 teeth? A. Th...\n",
       "3  Q. What's the difference between a man and a t...\n",
       "4  Q. What's O. J. Simpson's web address? A. Slas..."
      ]
     },
     "execution_count": 4,
     "metadata": {},
     "output_type": "execute_result"
    }
   ],
   "source": [
    "jokes = pd.read_csv(\"jester_items.tsv\",sep=\"\\t\",names=[\"itemID\",\"Joke\"],usecols=[\"Joke\"])\n",
    "jokes.head()"
   ]
  },
  {
   "cell_type": "markdown",
   "metadata": {},
   "source": [
    "### Reading the ratings file"
   ]
  },
  {
   "cell_type": "code",
   "execution_count": 5,
   "metadata": {
    "collapsed": false
   },
   "outputs": [
    {
     "data": {
      "text/html": [
       "<div>\n",
       "<table border=\"1\" class=\"dataframe\">\n",
       "  <thead>\n",
       "    <tr style=\"text-align: right;\">\n",
       "      <th></th>\n",
       "      <th>userID</th>\n",
       "      <th>itemID</th>\n",
       "      <th>rating</th>\n",
       "    </tr>\n",
       "  </thead>\n",
       "  <tbody>\n",
       "    <tr>\n",
       "      <th>0</th>\n",
       "      <td>1</td>\n",
       "      <td>5</td>\n",
       "      <td>0.219</td>\n",
       "    </tr>\n",
       "    <tr>\n",
       "      <th>1</th>\n",
       "      <td>1</td>\n",
       "      <td>7</td>\n",
       "      <td>-9.281</td>\n",
       "    </tr>\n",
       "    <tr>\n",
       "      <th>2</th>\n",
       "      <td>1</td>\n",
       "      <td>8</td>\n",
       "      <td>-9.281</td>\n",
       "    </tr>\n",
       "    <tr>\n",
       "      <th>3</th>\n",
       "      <td>1</td>\n",
       "      <td>13</td>\n",
       "      <td>-6.781</td>\n",
       "    </tr>\n",
       "    <tr>\n",
       "      <th>4</th>\n",
       "      <td>1</td>\n",
       "      <td>15</td>\n",
       "      <td>0.875</td>\n",
       "    </tr>\n",
       "  </tbody>\n",
       "</table>\n",
       "</div>"
      ],
      "text/plain": [
       "   userID  itemID  rating\n",
       "0       1       5   0.219\n",
       "1       1       7  -9.281\n",
       "2       1       8  -9.281\n",
       "3       1      13  -6.781\n",
       "4       1      15   0.875"
      ]
     },
     "execution_count": 5,
     "metadata": {},
     "output_type": "execute_result"
    }
   ],
   "source": [
    "ratings = pd.read_csv(\"jester_ratings.csv\")\n",
    "ratings.head()"
   ]
  },
  {
   "cell_type": "code",
   "execution_count": 6,
   "metadata": {
    "collapsed": false
   },
   "outputs": [
    {
     "data": {
      "text/html": [
       "<div>\n",
       "<table border=\"1\" class=\"dataframe\">\n",
       "  <thead>\n",
       "    <tr style=\"text-align: right;\">\n",
       "      <th></th>\n",
       "      <th>userID</th>\n",
       "      <th>itemID</th>\n",
       "      <th>rating</th>\n",
       "    </tr>\n",
       "  </thead>\n",
       "  <tbody>\n",
       "    <tr>\n",
       "      <th>count</th>\n",
       "      <td>1.761439e+06</td>\n",
       "      <td>1.761439e+06</td>\n",
       "      <td>1.761439e+06</td>\n",
       "    </tr>\n",
       "    <tr>\n",
       "      <th>mean</th>\n",
       "      <td>3.272322e+04</td>\n",
       "      <td>7.071133e+01</td>\n",
       "      <td>1.618602e+00</td>\n",
       "    </tr>\n",
       "    <tr>\n",
       "      <th>std</th>\n",
       "      <td>1.828011e+04</td>\n",
       "      <td>4.600790e+01</td>\n",
       "      <td>5.302608e+00</td>\n",
       "    </tr>\n",
       "    <tr>\n",
       "      <th>min</th>\n",
       "      <td>1.000000e+00</td>\n",
       "      <td>5.000000e+00</td>\n",
       "      <td>-1.000000e+01</td>\n",
       "    </tr>\n",
       "    <tr>\n",
       "      <th>25%</th>\n",
       "      <td>1.720200e+04</td>\n",
       "      <td>2.100000e+01</td>\n",
       "      <td>-2.031000e+00</td>\n",
       "    </tr>\n",
       "    <tr>\n",
       "      <th>50%</th>\n",
       "      <td>3.480800e+04</td>\n",
       "      <td>6.900000e+01</td>\n",
       "      <td>2.219000e+00</td>\n",
       "    </tr>\n",
       "    <tr>\n",
       "      <th>75%</th>\n",
       "      <td>4.730600e+04</td>\n",
       "      <td>1.120000e+02</td>\n",
       "      <td>5.719000e+00</td>\n",
       "    </tr>\n",
       "    <tr>\n",
       "      <th>max</th>\n",
       "      <td>6.397800e+04</td>\n",
       "      <td>1.500000e+02</td>\n",
       "      <td>1.000000e+01</td>\n",
       "    </tr>\n",
       "  </tbody>\n",
       "</table>\n",
       "</div>"
      ],
      "text/plain": [
       "             userID        itemID        rating\n",
       "count  1.761439e+06  1.761439e+06  1.761439e+06\n",
       "mean   3.272322e+04  7.071133e+01  1.618602e+00\n",
       "std    1.828011e+04  4.600790e+01  5.302608e+00\n",
       "min    1.000000e+00  5.000000e+00 -1.000000e+01\n",
       "25%    1.720200e+04  2.100000e+01 -2.031000e+00\n",
       "50%    3.480800e+04  6.900000e+01  2.219000e+00\n",
       "75%    4.730600e+04  1.120000e+02  5.719000e+00\n",
       "max    6.397800e+04  1.500000e+02  1.000000e+01"
      ]
     },
     "execution_count": 6,
     "metadata": {},
     "output_type": "execute_result"
    }
   ],
   "source": [
    "ratings.describe()"
   ]
  },
  {
   "cell_type": "markdown",
   "metadata": {},
   "source": [
    "### Defining the parser to read data into surprise dateframe\n",
    "The parser requires the scale of ratings and the columns in a specific order ['userID', 'itemID', 'rating']"
   ]
  },
  {
   "cell_type": "code",
   "execution_count": 7,
   "metadata": {
    "collapsed": false
   },
   "outputs": [],
   "source": [
    "no_of_users = 1000\n",
    "reader = Reader(rating_scale=(-10, 10))\n",
    "data = Dataset.load_from_df(ratings[ratings.userID < no_of_users], reader)"
   ]
  },
  {
   "cell_type": "markdown",
   "metadata": {},
   "source": [
    "## Simulation Parameters\n",
    "- Algorithm Type\n",
    "- User-Based vs Item-Based\n",
    "- Similarity Metric"
   ]
  },
  {
   "cell_type": "code",
   "execution_count": 45,
   "metadata": {
    "collapsed": false
   },
   "outputs": [],
   "source": [
    "sim_parameters = {'name': 'cosine', 'user_based': False, 'min_support': 5}\n",
    "algo = KNNWithMeans(sim_options=sim_parameters, k=9)"
   ]
  },
  {
   "cell_type": "markdown",
   "metadata": {},
   "source": [
    "## Cross Validation Accuracies"
   ]
  },
  {
   "cell_type": "code",
   "execution_count": 46,
   "metadata": {
    "collapsed": false
   },
   "outputs": [
    {
     "name": "stdout",
     "output_type": "stream",
     "text": [
      "Computing the cosine similarity matrix...\n",
      "Done computing similarity matrix.\n",
      "Computing the cosine similarity matrix...\n",
      "Done computing similarity matrix.\n",
      "Evaluating RMSE, MAE of algorithm KNNWithMeans on 2 split(s).\n",
      "\n",
      "                  Fold 1  Fold 2  Mean    Std     \n",
      "RMSE (testset)    4.8380  4.8327  4.8354  0.0026  \n",
      "MAE (testset)     3.7009  3.6827  3.6918  0.0091  \n",
      "Fit time          0.12    0.07    0.09    0.02    \n",
      "Test time         1.25    1.18    1.21    0.04    \n"
     ]
    },
    {
     "data": {
      "text/plain": [
       "{'fit_time': (0.11516475677490234, 0.07085490226745605),\n",
       " 'test_mae': array([3.70091223, 3.68272206]),\n",
       " 'test_rmse': array([4.83802637, 4.83274944]),\n",
       " 'test_time': (1.2522344589233398, 1.176239252090454)}"
      ]
     },
     "execution_count": 46,
     "metadata": {},
     "output_type": "execute_result"
    }
   ],
   "source": [
    "cross_validate(algo, data, measures=['RMSE', 'MAE'], cv=2, verbose=True)"
   ]
  },
  {
   "cell_type": "markdown",
   "metadata": {},
   "source": [
    "## Training the model on complete data"
   ]
  },
  {
   "cell_type": "code",
   "execution_count": 10,
   "metadata": {
    "collapsed": false
   },
   "outputs": [
    {
     "name": "stdout",
     "output_type": "stream",
     "text": [
      "Computing the cosine similarity matrix...\n",
      "Done computing similarity matrix.\n"
     ]
    },
    {
     "data": {
      "text/plain": [
       "<surprise.prediction_algorithms.knns.KNNWithMeans at 0x7f25f9e22828>"
      ]
     },
     "execution_count": 10,
     "metadata": {},
     "output_type": "execute_result"
    }
   ],
   "source": [
    "trainset = data.build_full_trainset()\n",
    "algo.fit(trainset)"
   ]
  },
  {
   "cell_type": "markdown",
   "metadata": {},
   "source": [
    "## Filtering instances which can be used for predictions"
   ]
  },
  {
   "cell_type": "code",
   "execution_count": 11,
   "metadata": {
    "collapsed": false
   },
   "outputs": [],
   "source": [
    "testset = trainset.build_anti_testset()"
   ]
  },
  {
   "cell_type": "markdown",
   "metadata": {},
   "source": [
    "## Making Predictions"
   ]
  },
  {
   "cell_type": "code",
   "execution_count": 12,
   "metadata": {
    "collapsed": true
   },
   "outputs": [],
   "source": [
    "predictions = algo.test(testset)"
   ]
  },
  {
   "cell_type": "markdown",
   "metadata": {},
   "source": [
    "### Function to calculate top 10 predictions for each user"
   ]
  },
  {
   "cell_type": "code",
   "execution_count": 13,
   "metadata": {
    "collapsed": false
   },
   "outputs": [],
   "source": [
    "# Fetching top 10 predictions for each user\n",
    "from collections import defaultdict\n",
    "def get_top_n(predictions, n=10):\n",
    "    '''Return the top-N recommendation for each user from a set of predictions.\n",
    "    Args:\n",
    "        predictions(list of Prediction objects): The list of predictions, as\n",
    "            returned by the test method of an algorithm.\n",
    "        n(int): The number of recommendation to output for each user. Default\n",
    "            is 10.\n",
    "    Returns:\n",
    "    A dict where keys are user (raw) ids and values are lists of tuples:\n",
    "        [(raw item id, rating estimation), ...] of size n.\n",
    "    '''\n",
    "    # First map the predictions to each user.\n",
    "    top_n = defaultdict(list)\n",
    "    for uid, iid, true_r, est, _ in predictions:\n",
    "        top_n[uid].append((iid, est))\n",
    "\n",
    "    # Then sort the predictions for each user and retrieve the k highest ones.\n",
    "    for uid, user_ratings in top_n.items():\n",
    "        user_ratings.sort(key=lambda x: x[1], reverse=True)\n",
    "        top_n[uid] = user_ratings[:n]\n",
    "\n",
    "    return top_n\n",
    "\n",
    "top_n = get_top_n(predictions, n=10)"
   ]
  },
  {
   "cell_type": "markdown",
   "metadata": {},
   "source": [
    "### Function to get first n users and corresponding predictions"
   ]
  },
  {
   "cell_type": "code",
   "execution_count": 14,
   "metadata": {
    "collapsed": false
   },
   "outputs": [],
   "source": [
    "from itertools import islice\n",
    "\n",
    "def take(n, iterable):\n",
    "    \"Return first n items of the iterable as a list\"\n",
    "    return list(islice(iterable, n))"
   ]
  },
  {
   "cell_type": "markdown",
   "metadata": {},
   "source": [
    "## Top Predictions Matrix"
   ]
  },
  {
   "cell_type": "code",
   "execution_count": 15,
   "metadata": {
    "collapsed": false
   },
   "outputs": [
    {
     "name": "stdout",
     "output_type": "stream",
     "text": [
      "1 [114, 126, 117, 129, 143, 138, 56, 47, 111, 110]\n",
      "2 [127, 114, 129, 138, 119, 105, 106, 76, 117, 93]\n",
      "3 [127, 114, 53, 35, 89, 129, 119, 138, 32, 72]\n",
      "4 [127, 114, 53, 35, 89, 129, 119, 138, 32, 105]\n",
      "5 [127, 114, 119, 138, 129, 105, 106, 126, 134, 135]\n",
      "6 [127, 114, 129, 119, 138, 32, 105, 106, 76, 69]\n",
      "7 [127, 114, 129, 138, 119, 105, 106, 117, 126, 145]\n",
      "8 [127, 114, 138, 129, 119, 143, 145, 117, 134, 135]\n",
      "9 [127, 53, 35, 129, 89, 119, 138, 32, 105, 50]\n",
      "10 [114, 127, 129, 138, 148, 137, 126, 139, 132, 150]\n"
     ]
    }
   ],
   "source": [
    "for uid, user_ratings in take(10,top_n.items()):\n",
    "    print(uid, [iid for (iid, _) in user_ratings])"
   ]
  },
  {
   "cell_type": "markdown",
   "metadata": {},
   "source": [
    "## Top Jokes for each User"
   ]
  },
  {
   "cell_type": "code",
   "execution_count": 16,
   "metadata": {
    "collapsed": false
   },
   "outputs": [
    {
     "name": "stdout",
     "output_type": "stream",
     "text": [
      "For User 1\n",
      "114\n",
      "A lady bought a new Lexus. It cost a bundle. Two days later, she brought it back, complaining that the radio was not working. \"Madam,\" said the sales manager, \"the audio system in this car is completely automatic. All you need to do is tell it what you want to listen to, and you will hear exactly that!\" She drove out, somewhat amazed and a little confused. She looked at the radio and said, \"Nelson.\" The radio responded, \"Ricky or Willie?\" She was astounded. If she wanted Beethoven, that's what she got. If she wanted Nat King Cole, she got it. She was stopped at a traffic light enjoying \"On the Road Again\" when the light turned green and she pulled out. Suddenly an enormous sports utility vehicle coming from the street she was crossing sped toward her, obviously not paying attention to the light. She swerved and narrowly missed a collision. \"Idiot!\" she yelled and, from the radio, \"Ladies and gentlemen, the President of the United States.\"\n",
      "126\n",
      "A little boy goes to his dad and asks, \"What is politics?\" His dad says, \"Well son, let me try to explain it this way: I'm the breadwinner of the family, so let's call me capitalism. Your Mom, she's the administrator of the money, so we'll call her the government. We're here to take care of your needs, so we'll call you the people. The nanny, we'll consider her the working class. And your baby brother, we'll call him the future. Now, think about that and see if that makes sense.\" So the little boy goes off to bed thinking about what dad had said. Later that night, he hears his baby brother crying, so he gets up to check on him. He finds that the baby has severely soiled his diaper. So the little boy goes to his parents' room and finds his mother sound asleep. Not wanting to wake her, he goes to the nanny's room. Finding the door locked, he peeks in the keyhole and sees his father in bed with the nanny. He gives up and goes back to bed. The next morning, the little boy says to his father, \"Dad, I think I understand the concept of politics now.\" The father says, \"Good, son. Tell me in your own words what you think politics is all about.\" The little boy replies, \"Well, while capitalism is screwing the working class, the government is sound asleep, the people are being ignored and the future is in deep shit.\"\n",
      "117\n",
      "A man goes into a drug store and asks the pharmacist if he can give him something for the hiccups. The pharmacist promptly reaches out and slaps the man's face. \"What the heck did you do that for?!\" the man screams. \"Well, you don't have the hiccups anymore, do you?\" The man says, \"No I don't, you IDIOT...but my wife out in the car still does!\"\n",
      "129\n",
      "An old man goes to the doctor for his yearly physical, his wife tagging along. When the doctor enters the examination room, he tells the old man, \"I need a urine sample, a stool sample and a sperm sample.\" The old man, being hard of hearing, looks at his wife and yells: \"WHAT? What did he say? What's he want?\" His wife yells back, \"He needs your underwear.\"\n",
      "143\n",
      "A man is driving in the country one evening when his car stalls and won't start. He goes up to a nearby farm house for help, and because it is suppertime he is asked to stay for supper. When he sits down at the table he notices that a pig is sitting at the table with them for supper and that the pig has a wooden leg. As they are eating and chatting, he eventually asks the farmer why the pig is there and why it has a wooden leg. \"Oh,\" says the farmer, \"that is a very special pig. Last month my wife and daughter were in the barn when it caught fire. The pig saw this, ran to the barn, tipped over a pail of water, crawled over the wet floor to reach them and pulled them out of the barn safely. A special pig like that, you just don't eat it all at once!\"\n",
      "138\n",
      "In a Veteran's Day speech, President Bush vowed, \"We will finish the mission. Period.\" Afterwards, he was advised that he doesn't have to read the punctuation marks.\n",
      "56\n",
      "Why are there so many Jones's in the phone book? Because they all have phones.\n",
      "47\n",
      "The graduate with a Science degree asks, \"Why does it work?\" The graduate with an Engineering degree asks, \"How does it work?\" The graduate with an Accounting degree Asks, \"How much will it cost?\" The graduate with a Liberal Arts degree asks, \"Do you want fries with that?\"\n",
      "111\n",
      "When my three-year-old son opened the birthday gift from his grandmother, he discovered a water pistol. He squealed with delight and headed for the nearest sink. I was not so pleased. I turned to Mom and said, \"I'm surprised at you. Don't you remember how we used to drive you crazy with water guns?\" Mom smiled and then replied...\"I remember.\"\n",
      "110\n",
      "A new business was opening and one of the owner's friends wanted to send him flowers for the occasion. They arrived at the new business site and the owner read the card, \"Rest in Peace.\" The owner was angry and called the florist to complain. After he had told the florist of the obvious mistake and how angry he was, the florist replied, \"Sir, I'm really sorry for the mistake, but rather than getting angry, you should imagine this: somewhere there is a funeral taking place today, and they have flowers with a note saying, 'Congratulations on your new location!'\"\n",
      "For User 2\n",
      "127\n",
      "An American, a Scot and a Canadian were in a terrible car accident. They were all brought to the same emergency room, but all three of them died before they arrived. Just as they were about to put the toe tag on the American, he stirred and opened his eyes. Astonished, the doctors and nurses present asked him what happened. \"Well,\" said the American, \"I remember the crash, and then there was a beautiful light, and then the Canadian and the Scot and I were standing at the gate s of heaven. St. Peter approached us and said that we were all to young to die, and that for a donation of $50, we could return to earth. So of course I pulled out my wallet and gave him the $50, and the next thing I knew I was back here.\" \"That's amazing!\" said the one of the doctors, \"But what happened to the other two?\" \"Last I saw them,\" replied the American, \"the Scot was haggling over the price and the Canadian was waiting for the government to pay his.\"\n",
      "114\n",
      "A lady bought a new Lexus. It cost a bundle. Two days later, she brought it back, complaining that the radio was not working. \"Madam,\" said the sales manager, \"the audio system in this car is completely automatic. All you need to do is tell it what you want to listen to, and you will hear exactly that!\" She drove out, somewhat amazed and a little confused. She looked at the radio and said, \"Nelson.\" The radio responded, \"Ricky or Willie?\" She was astounded. If she wanted Beethoven, that's what she got. If she wanted Nat King Cole, she got it. She was stopped at a traffic light enjoying \"On the Road Again\" when the light turned green and she pulled out. Suddenly an enormous sports utility vehicle coming from the street she was crossing sped toward her, obviously not paying attention to the light. She swerved and narrowly missed a collision. \"Idiot!\" she yelled and, from the radio, \"Ladies and gentlemen, the President of the United States.\"\n",
      "129\n",
      "An old man goes to the doctor for his yearly physical, his wife tagging along. When the doctor enters the examination room, he tells the old man, \"I need a urine sample, a stool sample and a sperm sample.\" The old man, being hard of hearing, looks at his wife and yells: \"WHAT? What did he say? What's he want?\" His wife yells back, \"He needs your underwear.\"\n",
      "138\n",
      "In a Veteran's Day speech, President Bush vowed, \"We will finish the mission. Period.\" Afterwards, he was advised that he doesn't have to read the punctuation marks.\n",
      "119\n",
      "Judy was having trouble with her computer, so she called Tony, the computer guy, over to her desk. Tony clicked a couple buttons and solved the problem. As he was walking away, Judy called after him, \"So, what was wrong?\" And he replied, \"It was an ID Ten T Error.\" A puzzled expression ran riot over Judy's face. \"An ID Ten T Error? What's that...in case I need to fix it again?\" He gave her a grin...\"Haven't you ever heard of an ID Ten T Error before?\" \"No,\" replied Judy. \"Write it down,\" he said, \"and I think you'll figure it out.\" (She wrote...) I D 1 0 T\n",
      "105\n",
      "An engineer dies and reports to the pearly gates. St. Peter checks his dossier and says, \"Ah, you''re an engineer--you're in the wrong place.\" So, the engineer reports to the gates of hell and is let in. Pretty soon, the engineer gets dissatisfied with the level of comfort in hell, and starts designing and building improvements. After awhile, they've got air conditioning, flush toilets and escalators, and the engineer is a pretty popular guy. One day, God calls Satan up on the telephone and says with a sneer, \"So, how's it going down there in hell?\" Satan replies, \"Hey, things are going great. We've got air conditioning, flush toilets and escalators, and there's no telling what this engineer is going to come up with next.\" God replies, \"What?? You've got an engineer? That's a mistake--he should never have gotten down there; send him up here.\" Satan says, \"No way.\" I like having an engineer on the staff, and I'm keeping him.\" God says, \"Send him back up here or I'll sue.\" Satan laughs uproariously and answers, \"Yeah, right. And just where are YOU going to get a lawyer?\"\n",
      "106\n",
      "(A) The Japanese eat very little fat and suffer fewer heart attacks than the British or Americans. (B) On the other hand, the French eat a lot of fat and also suffer fewer heart attacks than the British or Americans. (C) The Chinese drink very little red wine and suffer fewer heart attacks than the British or Americans. (D) The Italians drink excessive amounts of red wine and also suffer fewer heart attacks than the British or Americans. (E) Conclusion: Eat and drink what you like. It's speaking English that kills you.\n",
      "76\n",
      "If pro- is the opposite of con-, then congress must be the opposite of progress.\n",
      "117\n",
      "A man goes into a drug store and asks the pharmacist if he can give him something for the hiccups. The pharmacist promptly reaches out and slaps the man's face. \"What the heck did you do that for?!\" the man screams. \"Well, you don't have the hiccups anymore, do you?\" The man says, \"No I don't, you IDIOT...but my wife out in the car still does!\"\n",
      "93\n",
      "Two atoms are walking down the street when one atom says to the other, \"Oh, my! I've lost an electron!\" The second atom says, \"Are you sure?\" The first replies, \"I'm positive!\"\n",
      "For User 3\n",
      "127\n",
      "An American, a Scot and a Canadian were in a terrible car accident. They were all brought to the same emergency room, but all three of them died before they arrived. Just as they were about to put the toe tag on the American, he stirred and opened his eyes. Astonished, the doctors and nurses present asked him what happened. \"Well,\" said the American, \"I remember the crash, and then there was a beautiful light, and then the Canadian and the Scot and I were standing at the gate s of heaven. St. Peter approached us and said that we were all to young to die, and that for a donation of $50, we could return to earth. So of course I pulled out my wallet and gave him the $50, and the next thing I knew I was back here.\" \"That's amazing!\" said the one of the doctors, \"But what happened to the other two?\" \"Last I saw them,\" replied the American, \"the Scot was haggling over the price and the Canadian was waiting for the government to pay his.\"\n",
      "114\n",
      "A lady bought a new Lexus. It cost a bundle. Two days later, she brought it back, complaining that the radio was not working. \"Madam,\" said the sales manager, \"the audio system in this car is completely automatic. All you need to do is tell it what you want to listen to, and you will hear exactly that!\" She drove out, somewhat amazed and a little confused. She looked at the radio and said, \"Nelson.\" The radio responded, \"Ricky or Willie?\" She was astounded. If she wanted Beethoven, that's what she got. If she wanted Nat King Cole, she got it. She was stopped at a traffic light enjoying \"On the Road Again\" when the light turned green and she pulled out. Suddenly an enormous sports utility vehicle coming from the street she was crossing sped toward her, obviously not paying attention to the light. She swerved and narrowly missed a collision. \"Idiot!\" she yelled and, from the radio, \"Ladies and gentlemen, the President of the United States.\"\n",
      "53\n",
      "The Pope dies and, naturally, goes to heaven. He's met by the reception committee, and after a whirlwind tour he is told that he can enjoy any of the myriad of recreations available. He decides that he wants to read all of the ancient original text of the Holy Scriptures, so he spends the next eon or so learning languages. After becoming a linguistic master, he sits down in the library and begins to pour over every version of the Bible, working back from most recent \"Easy Reading\" to the original script. All of a sudden there is a scream in the library. The angels come running in only to find the Pope huddled in his chair, crying to himself and muttering, \"An 'R'! The scribes left out the 'R'!\" A particularly concerned angel takes him aside, and offering comfort, asks him what the problem is and what he means. After collecting his wits, the Pope sobs again, \"It's the letter 'R'. They left out the 'R'. The word was supposed to be 'CELEBRATE'!\"\n",
      "35\n",
      "A guy walks into a bar, orders a beer and says to the bartender, \"Hey, I got this great Polish Joke...\" The barkeep glares at him and says in a warning tone of voice: \"Before you go telling that joke you better know that I'm Polish, both bouncers are Polish and so are most of my customers.\" \"Okay,\" says the customer. \"I'll tell it very slowly.\"\n",
      "89\n",
      "Q: How many programmers does it take to change a lightbulb? A: NONE! That's a hardware problem...\n",
      "129\n",
      "An old man goes to the doctor for his yearly physical, his wife tagging along. When the doctor enters the examination room, he tells the old man, \"I need a urine sample, a stool sample and a sperm sample.\" The old man, being hard of hearing, looks at his wife and yells: \"WHAT? What did he say? What's he want?\" His wife yells back, \"He needs your underwear.\"\n",
      "119\n",
      "Judy was having trouble with her computer, so she called Tony, the computer guy, over to her desk. Tony clicked a couple buttons and solved the problem. As he was walking away, Judy called after him, \"So, what was wrong?\" And he replied, \"It was an ID Ten T Error.\" A puzzled expression ran riot over Judy's face. \"An ID Ten T Error? What's that...in case I need to fix it again?\" He gave her a grin...\"Haven't you ever heard of an ID Ten T Error before?\" \"No,\" replied Judy. \"Write it down,\" he said, \"and I think you'll figure it out.\" (She wrote...) I D 1 0 T\n",
      "138\n",
      "In a Veteran's Day speech, President Bush vowed, \"We will finish the mission. Period.\" Afterwards, he was advised that he doesn't have to read the punctuation marks.\n",
      "32\n",
      "What do you call an American in the finals of the world cup? \"Hey beer man!\"\n",
      "72\n",
      "Q: What is the difference between George Washington, Richard Nixon, and Bill Clinton? A: Washington couldn't tell a lie, Nixon couldn't tell the truth, and Clinton doesn't know the difference.\n",
      "For User 4\n",
      "127\n",
      "An American, a Scot and a Canadian were in a terrible car accident. They were all brought to the same emergency room, but all three of them died before they arrived. Just as they were about to put the toe tag on the American, he stirred and opened his eyes. Astonished, the doctors and nurses present asked him what happened. \"Well,\" said the American, \"I remember the crash, and then there was a beautiful light, and then the Canadian and the Scot and I were standing at the gate s of heaven. St. Peter approached us and said that we were all to young to die, and that for a donation of $50, we could return to earth. So of course I pulled out my wallet and gave him the $50, and the next thing I knew I was back here.\" \"That's amazing!\" said the one of the doctors, \"But what happened to the other two?\" \"Last I saw them,\" replied the American, \"the Scot was haggling over the price and the Canadian was waiting for the government to pay his.\"\n",
      "114\n",
      "A lady bought a new Lexus. It cost a bundle. Two days later, she brought it back, complaining that the radio was not working. \"Madam,\" said the sales manager, \"the audio system in this car is completely automatic. All you need to do is tell it what you want to listen to, and you will hear exactly that!\" She drove out, somewhat amazed and a little confused. She looked at the radio and said, \"Nelson.\" The radio responded, \"Ricky or Willie?\" She was astounded. If she wanted Beethoven, that's what she got. If she wanted Nat King Cole, she got it. She was stopped at a traffic light enjoying \"On the Road Again\" when the light turned green and she pulled out. Suddenly an enormous sports utility vehicle coming from the street she was crossing sped toward her, obviously not paying attention to the light. She swerved and narrowly missed a collision. \"Idiot!\" she yelled and, from the radio, \"Ladies and gentlemen, the President of the United States.\"\n",
      "53\n",
      "The Pope dies and, naturally, goes to heaven. He's met by the reception committee, and after a whirlwind tour he is told that he can enjoy any of the myriad of recreations available. He decides that he wants to read all of the ancient original text of the Holy Scriptures, so he spends the next eon or so learning languages. After becoming a linguistic master, he sits down in the library and begins to pour over every version of the Bible, working back from most recent \"Easy Reading\" to the original script. All of a sudden there is a scream in the library. The angels come running in only to find the Pope huddled in his chair, crying to himself and muttering, \"An 'R'! The scribes left out the 'R'!\" A particularly concerned angel takes him aside, and offering comfort, asks him what the problem is and what he means. After collecting his wits, the Pope sobs again, \"It's the letter 'R'. They left out the 'R'. The word was supposed to be 'CELEBRATE'!\"\n",
      "35\n",
      "A guy walks into a bar, orders a beer and says to the bartender, \"Hey, I got this great Polish Joke...\" The barkeep glares at him and says in a warning tone of voice: \"Before you go telling that joke you better know that I'm Polish, both bouncers are Polish and so are most of my customers.\" \"Okay,\" says the customer. \"I'll tell it very slowly.\"\n",
      "89\n",
      "Q: How many programmers does it take to change a lightbulb? A: NONE! That's a hardware problem...\n",
      "129\n",
      "An old man goes to the doctor for his yearly physical, his wife tagging along. When the doctor enters the examination room, he tells the old man, \"I need a urine sample, a stool sample and a sperm sample.\" The old man, being hard of hearing, looks at his wife and yells: \"WHAT? What did he say? What's he want?\" His wife yells back, \"He needs your underwear.\"\n",
      "119\n",
      "Judy was having trouble with her computer, so she called Tony, the computer guy, over to her desk. Tony clicked a couple buttons and solved the problem. As he was walking away, Judy called after him, \"So, what was wrong?\" And he replied, \"It was an ID Ten T Error.\" A puzzled expression ran riot over Judy's face. \"An ID Ten T Error? What's that...in case I need to fix it again?\" He gave her a grin...\"Haven't you ever heard of an ID Ten T Error before?\" \"No,\" replied Judy. \"Write it down,\" he said, \"and I think you'll figure it out.\" (She wrote...) I D 1 0 T\n",
      "138\n",
      "In a Veteran's Day speech, President Bush vowed, \"We will finish the mission. Period.\" Afterwards, he was advised that he doesn't have to read the punctuation marks.\n",
      "32\n",
      "What do you call an American in the finals of the world cup? \"Hey beer man!\"\n",
      "105\n",
      "An engineer dies and reports to the pearly gates. St. Peter checks his dossier and says, \"Ah, you''re an engineer--you're in the wrong place.\" So, the engineer reports to the gates of hell and is let in. Pretty soon, the engineer gets dissatisfied with the level of comfort in hell, and starts designing and building improvements. After awhile, they've got air conditioning, flush toilets and escalators, and the engineer is a pretty popular guy. One day, God calls Satan up on the telephone and says with a sneer, \"So, how's it going down there in hell?\" Satan replies, \"Hey, things are going great. We've got air conditioning, flush toilets and escalators, and there's no telling what this engineer is going to come up with next.\" God replies, \"What?? You've got an engineer? That's a mistake--he should never have gotten down there; send him up here.\" Satan says, \"No way.\" I like having an engineer on the staff, and I'm keeping him.\" God says, \"Send him back up here or I'll sue.\" Satan laughs uproariously and answers, \"Yeah, right. And just where are YOU going to get a lawyer?\"\n",
      "For User 5\n",
      "127\n",
      "An American, a Scot and a Canadian were in a terrible car accident. They were all brought to the same emergency room, but all three of them died before they arrived. Just as they were about to put the toe tag on the American, he stirred and opened his eyes. Astonished, the doctors and nurses present asked him what happened. \"Well,\" said the American, \"I remember the crash, and then there was a beautiful light, and then the Canadian and the Scot and I were standing at the gate s of heaven. St. Peter approached us and said that we were all to young to die, and that for a donation of $50, we could return to earth. So of course I pulled out my wallet and gave him the $50, and the next thing I knew I was back here.\" \"That's amazing!\" said the one of the doctors, \"But what happened to the other two?\" \"Last I saw them,\" replied the American, \"the Scot was haggling over the price and the Canadian was waiting for the government to pay his.\"\n",
      "114\n",
      "A lady bought a new Lexus. It cost a bundle. Two days later, she brought it back, complaining that the radio was not working. \"Madam,\" said the sales manager, \"the audio system in this car is completely automatic. All you need to do is tell it what you want to listen to, and you will hear exactly that!\" She drove out, somewhat amazed and a little confused. She looked at the radio and said, \"Nelson.\" The radio responded, \"Ricky or Willie?\" She was astounded. If she wanted Beethoven, that's what she got. If she wanted Nat King Cole, she got it. She was stopped at a traffic light enjoying \"On the Road Again\" when the light turned green and she pulled out. Suddenly an enormous sports utility vehicle coming from the street she was crossing sped toward her, obviously not paying attention to the light. She swerved and narrowly missed a collision. \"Idiot!\" she yelled and, from the radio, \"Ladies and gentlemen, the President of the United States.\"\n",
      "119\n",
      "Judy was having trouble with her computer, so she called Tony, the computer guy, over to her desk. Tony clicked a couple buttons and solved the problem. As he was walking away, Judy called after him, \"So, what was wrong?\" And he replied, \"It was an ID Ten T Error.\" A puzzled expression ran riot over Judy's face. \"An ID Ten T Error? What's that...in case I need to fix it again?\" He gave her a grin...\"Haven't you ever heard of an ID Ten T Error before?\" \"No,\" replied Judy. \"Write it down,\" he said, \"and I think you'll figure it out.\" (She wrote...) I D 1 0 T\n",
      "138\n",
      "In a Veteran's Day speech, President Bush vowed, \"We will finish the mission. Period.\" Afterwards, he was advised that he doesn't have to read the punctuation marks.\n",
      "129\n",
      "An old man goes to the doctor for his yearly physical, his wife tagging along. When the doctor enters the examination room, he tells the old man, \"I need a urine sample, a stool sample and a sperm sample.\" The old man, being hard of hearing, looks at his wife and yells: \"WHAT? What did he say? What's he want?\" His wife yells back, \"He needs your underwear.\"\n",
      "105\n",
      "An engineer dies and reports to the pearly gates. St. Peter checks his dossier and says, \"Ah, you''re an engineer--you're in the wrong place.\" So, the engineer reports to the gates of hell and is let in. Pretty soon, the engineer gets dissatisfied with the level of comfort in hell, and starts designing and building improvements. After awhile, they've got air conditioning, flush toilets and escalators, and the engineer is a pretty popular guy. One day, God calls Satan up on the telephone and says with a sneer, \"So, how's it going down there in hell?\" Satan replies, \"Hey, things are going great. We've got air conditioning, flush toilets and escalators, and there's no telling what this engineer is going to come up with next.\" God replies, \"What?? You've got an engineer? That's a mistake--he should never have gotten down there; send him up here.\" Satan says, \"No way.\" I like having an engineer on the staff, and I'm keeping him.\" God says, \"Send him back up here or I'll sue.\" Satan laughs uproariously and answers, \"Yeah, right. And just where are YOU going to get a lawyer?\"\n",
      "106\n",
      "(A) The Japanese eat very little fat and suffer fewer heart attacks than the British or Americans. (B) On the other hand, the French eat a lot of fat and also suffer fewer heart attacks than the British or Americans. (C) The Chinese drink very little red wine and suffer fewer heart attacks than the British or Americans. (D) The Italians drink excessive amounts of red wine and also suffer fewer heart attacks than the British or Americans. (E) Conclusion: Eat and drink what you like. It's speaking English that kills you.\n",
      "126\n",
      "A little boy goes to his dad and asks, \"What is politics?\" His dad says, \"Well son, let me try to explain it this way: I'm the breadwinner of the family, so let's call me capitalism. Your Mom, she's the administrator of the money, so we'll call her the government. We're here to take care of your needs, so we'll call you the people. The nanny, we'll consider her the working class. And your baby brother, we'll call him the future. Now, think about that and see if that makes sense.\" So the little boy goes off to bed thinking about what dad had said. Later that night, he hears his baby brother crying, so he gets up to check on him. He finds that the baby has severely soiled his diaper. So the little boy goes to his parents' room and finds his mother sound asleep. Not wanting to wake her, he goes to the nanny's room. Finding the door locked, he peeks in the keyhole and sees his father in bed with the nanny. He gives up and goes back to bed. The next morning, the little boy says to his father, \"Dad, I think I understand the concept of politics now.\" The father says, \"Good, son. Tell me in your own words what you think politics is all about.\" The little boy replies, \"Well, while capitalism is screwing the working class, the government is sound asleep, the people are being ignored and the future is in deep shit.\"\n",
      "134\n",
      "A guy walked past a mental hospital and heard a moaning voice: \"13...13...13...13...\" The man looked over to the hospital and saw a hole in the wall. He looked through the hole and got poked in the eye. The moaning voice then groaned: \"14...14...14...14...\"\n",
      "135\n",
      "A man went to apply for a job. After filling out all of his applications, he waited anxiously for the outcome. The employer read all his applications and said, \"We have an opening for people like you.\" \"Oh, great,\" he said. \"What is it?\" \"It's called the door!\"\n",
      "For User 6\n",
      "127\n",
      "An American, a Scot and a Canadian were in a terrible car accident. They were all brought to the same emergency room, but all three of them died before they arrived. Just as they were about to put the toe tag on the American, he stirred and opened his eyes. Astonished, the doctors and nurses present asked him what happened. \"Well,\" said the American, \"I remember the crash, and then there was a beautiful light, and then the Canadian and the Scot and I were standing at the gate s of heaven. St. Peter approached us and said that we were all to young to die, and that for a donation of $50, we could return to earth. So of course I pulled out my wallet and gave him the $50, and the next thing I knew I was back here.\" \"That's amazing!\" said the one of the doctors, \"But what happened to the other two?\" \"Last I saw them,\" replied the American, \"the Scot was haggling over the price and the Canadian was waiting for the government to pay his.\"\n",
      "114\n",
      "A lady bought a new Lexus. It cost a bundle. Two days later, she brought it back, complaining that the radio was not working. \"Madam,\" said the sales manager, \"the audio system in this car is completely automatic. All you need to do is tell it what you want to listen to, and you will hear exactly that!\" She drove out, somewhat amazed and a little confused. She looked at the radio and said, \"Nelson.\" The radio responded, \"Ricky or Willie?\" She was astounded. If she wanted Beethoven, that's what she got. If she wanted Nat King Cole, she got it. She was stopped at a traffic light enjoying \"On the Road Again\" when the light turned green and she pulled out. Suddenly an enormous sports utility vehicle coming from the street she was crossing sped toward her, obviously not paying attention to the light. She swerved and narrowly missed a collision. \"Idiot!\" she yelled and, from the radio, \"Ladies and gentlemen, the President of the United States.\"\n",
      "129\n",
      "An old man goes to the doctor for his yearly physical, his wife tagging along. When the doctor enters the examination room, he tells the old man, \"I need a urine sample, a stool sample and a sperm sample.\" The old man, being hard of hearing, looks at his wife and yells: \"WHAT? What did he say? What's he want?\" His wife yells back, \"He needs your underwear.\"\n",
      "119\n",
      "Judy was having trouble with her computer, so she called Tony, the computer guy, over to her desk. Tony clicked a couple buttons and solved the problem. As he was walking away, Judy called after him, \"So, what was wrong?\" And he replied, \"It was an ID Ten T Error.\" A puzzled expression ran riot over Judy's face. \"An ID Ten T Error? What's that...in case I need to fix it again?\" He gave her a grin...\"Haven't you ever heard of an ID Ten T Error before?\" \"No,\" replied Judy. \"Write it down,\" he said, \"and I think you'll figure it out.\" (She wrote...) I D 1 0 T\n",
      "138\n",
      "In a Veteran's Day speech, President Bush vowed, \"We will finish the mission. Period.\" Afterwards, he was advised that he doesn't have to read the punctuation marks.\n",
      "32\n",
      "What do you call an American in the finals of the world cup? \"Hey beer man!\"\n",
      "105\n",
      "An engineer dies and reports to the pearly gates. St. Peter checks his dossier and says, \"Ah, you''re an engineer--you're in the wrong place.\" So, the engineer reports to the gates of hell and is let in. Pretty soon, the engineer gets dissatisfied with the level of comfort in hell, and starts designing and building improvements. After awhile, they've got air conditioning, flush toilets and escalators, and the engineer is a pretty popular guy. One day, God calls Satan up on the telephone and says with a sneer, \"So, how's it going down there in hell?\" Satan replies, \"Hey, things are going great. We've got air conditioning, flush toilets and escalators, and there's no telling what this engineer is going to come up with next.\" God replies, \"What?? You've got an engineer? That's a mistake--he should never have gotten down there; send him up here.\" Satan says, \"No way.\" I like having an engineer on the staff, and I'm keeping him.\" God says, \"Send him back up here or I'll sue.\" Satan laughs uproariously and answers, \"Yeah, right. And just where are YOU going to get a lawyer?\"\n",
      "106\n",
      "(A) The Japanese eat very little fat and suffer fewer heart attacks than the British or Americans. (B) On the other hand, the French eat a lot of fat and also suffer fewer heart attacks than the British or Americans. (C) The Chinese drink very little red wine and suffer fewer heart attacks than the British or Americans. (D) The Italians drink excessive amounts of red wine and also suffer fewer heart attacks than the British or Americans. (E) Conclusion: Eat and drink what you like. It's speaking English that kills you.\n",
      "76\n",
      "If pro- is the opposite of con-, then congress must be the opposite of progress.\n",
      "69\n",
      "Employer to applicant: \"In this job we need someone who is responsible.\" Applicant: \"I'm the one you want. On my last job, every time anything went wrong, they said I was responsible.\"\n",
      "For User 7\n",
      "127\n",
      "An American, a Scot and a Canadian were in a terrible car accident. They were all brought to the same emergency room, but all three of them died before they arrived. Just as they were about to put the toe tag on the American, he stirred and opened his eyes. Astonished, the doctors and nurses present asked him what happened. \"Well,\" said the American, \"I remember the crash, and then there was a beautiful light, and then the Canadian and the Scot and I were standing at the gate s of heaven. St. Peter approached us and said that we were all to young to die, and that for a donation of $50, we could return to earth. So of course I pulled out my wallet and gave him the $50, and the next thing I knew I was back here.\" \"That's amazing!\" said the one of the doctors, \"But what happened to the other two?\" \"Last I saw them,\" replied the American, \"the Scot was haggling over the price and the Canadian was waiting for the government to pay his.\"\n",
      "114\n",
      "A lady bought a new Lexus. It cost a bundle. Two days later, she brought it back, complaining that the radio was not working. \"Madam,\" said the sales manager, \"the audio system in this car is completely automatic. All you need to do is tell it what you want to listen to, and you will hear exactly that!\" She drove out, somewhat amazed and a little confused. She looked at the radio and said, \"Nelson.\" The radio responded, \"Ricky or Willie?\" She was astounded. If she wanted Beethoven, that's what she got. If she wanted Nat King Cole, she got it. She was stopped at a traffic light enjoying \"On the Road Again\" when the light turned green and she pulled out. Suddenly an enormous sports utility vehicle coming from the street she was crossing sped toward her, obviously not paying attention to the light. She swerved and narrowly missed a collision. \"Idiot!\" she yelled and, from the radio, \"Ladies and gentlemen, the President of the United States.\"\n",
      "129\n",
      "An old man goes to the doctor for his yearly physical, his wife tagging along. When the doctor enters the examination room, he tells the old man, \"I need a urine sample, a stool sample and a sperm sample.\" The old man, being hard of hearing, looks at his wife and yells: \"WHAT? What did he say? What's he want?\" His wife yells back, \"He needs your underwear.\"\n",
      "138\n",
      "In a Veteran's Day speech, President Bush vowed, \"We will finish the mission. Period.\" Afterwards, he was advised that he doesn't have to read the punctuation marks.\n",
      "119\n",
      "Judy was having trouble with her computer, so she called Tony, the computer guy, over to her desk. Tony clicked a couple buttons and solved the problem. As he was walking away, Judy called after him, \"So, what was wrong?\" And he replied, \"It was an ID Ten T Error.\" A puzzled expression ran riot over Judy's face. \"An ID Ten T Error? What's that...in case I need to fix it again?\" He gave her a grin...\"Haven't you ever heard of an ID Ten T Error before?\" \"No,\" replied Judy. \"Write it down,\" he said, \"and I think you'll figure it out.\" (She wrote...) I D 1 0 T\n",
      "105\n",
      "An engineer dies and reports to the pearly gates. St. Peter checks his dossier and says, \"Ah, you''re an engineer--you're in the wrong place.\" So, the engineer reports to the gates of hell and is let in. Pretty soon, the engineer gets dissatisfied with the level of comfort in hell, and starts designing and building improvements. After awhile, they've got air conditioning, flush toilets and escalators, and the engineer is a pretty popular guy. One day, God calls Satan up on the telephone and says with a sneer, \"So, how's it going down there in hell?\" Satan replies, \"Hey, things are going great. We've got air conditioning, flush toilets and escalators, and there's no telling what this engineer is going to come up with next.\" God replies, \"What?? You've got an engineer? That's a mistake--he should never have gotten down there; send him up here.\" Satan says, \"No way.\" I like having an engineer on the staff, and I'm keeping him.\" God says, \"Send him back up here or I'll sue.\" Satan laughs uproariously and answers, \"Yeah, right. And just where are YOU going to get a lawyer?\"\n",
      "106\n",
      "(A) The Japanese eat very little fat and suffer fewer heart attacks than the British or Americans. (B) On the other hand, the French eat a lot of fat and also suffer fewer heart attacks than the British or Americans. (C) The Chinese drink very little red wine and suffer fewer heart attacks than the British or Americans. (D) The Italians drink excessive amounts of red wine and also suffer fewer heart attacks than the British or Americans. (E) Conclusion: Eat and drink what you like. It's speaking English that kills you.\n",
      "117\n",
      "A man goes into a drug store and asks the pharmacist if he can give him something for the hiccups. The pharmacist promptly reaches out and slaps the man's face. \"What the heck did you do that for?!\" the man screams. \"Well, you don't have the hiccups anymore, do you?\" The man says, \"No I don't, you IDIOT...but my wife out in the car still does!\"\n",
      "126\n",
      "A little boy goes to his dad and asks, \"What is politics?\" His dad says, \"Well son, let me try to explain it this way: I'm the breadwinner of the family, so let's call me capitalism. Your Mom, she's the administrator of the money, so we'll call her the government. We're here to take care of your needs, so we'll call you the people. The nanny, we'll consider her the working class. And your baby brother, we'll call him the future. Now, think about that and see if that makes sense.\" So the little boy goes off to bed thinking about what dad had said. Later that night, he hears his baby brother crying, so he gets up to check on him. He finds that the baby has severely soiled his diaper. So the little boy goes to his parents' room and finds his mother sound asleep. Not wanting to wake her, he goes to the nanny's room. Finding the door locked, he peeks in the keyhole and sees his father in bed with the nanny. He gives up and goes back to bed. The next morning, the little boy says to his father, \"Dad, I think I understand the concept of politics now.\" The father says, \"Good, son. Tell me in your own words what you think politics is all about.\" The little boy replies, \"Well, while capitalism is screwing the working class, the government is sound asleep, the people are being ignored and the future is in deep shit.\"\n",
      "145\n",
      "America: 8:00 - Welcome to work! 12:00 - Lunch break 17:00 - The work day is over Japan: 8:00 - Are you already at work? 12:00 - Continue your work 17:00 - The work day is over 20:00 - Please finish your work Romania: 8:00 - Has anyone come to work? 12:00 - Did someone start working? 16:00 - Is anyone at work?\n",
      "For User 8\n",
      "127\n",
      "An American, a Scot and a Canadian were in a terrible car accident. They were all brought to the same emergency room, but all three of them died before they arrived. Just as they were about to put the toe tag on the American, he stirred and opened his eyes. Astonished, the doctors and nurses present asked him what happened. \"Well,\" said the American, \"I remember the crash, and then there was a beautiful light, and then the Canadian and the Scot and I were standing at the gate s of heaven. St. Peter approached us and said that we were all to young to die, and that for a donation of $50, we could return to earth. So of course I pulled out my wallet and gave him the $50, and the next thing I knew I was back here.\" \"That's amazing!\" said the one of the doctors, \"But what happened to the other two?\" \"Last I saw them,\" replied the American, \"the Scot was haggling over the price and the Canadian was waiting for the government to pay his.\"\n",
      "114\n",
      "A lady bought a new Lexus. It cost a bundle. Two days later, she brought it back, complaining that the radio was not working. \"Madam,\" said the sales manager, \"the audio system in this car is completely automatic. All you need to do is tell it what you want to listen to, and you will hear exactly that!\" She drove out, somewhat amazed and a little confused. She looked at the radio and said, \"Nelson.\" The radio responded, \"Ricky or Willie?\" She was astounded. If she wanted Beethoven, that's what she got. If she wanted Nat King Cole, she got it. She was stopped at a traffic light enjoying \"On the Road Again\" when the light turned green and she pulled out. Suddenly an enormous sports utility vehicle coming from the street she was crossing sped toward her, obviously not paying attention to the light. She swerved and narrowly missed a collision. \"Idiot!\" she yelled and, from the radio, \"Ladies and gentlemen, the President of the United States.\"\n",
      "138\n",
      "In a Veteran's Day speech, President Bush vowed, \"We will finish the mission. Period.\" Afterwards, he was advised that he doesn't have to read the punctuation marks.\n",
      "129\n",
      "An old man goes to the doctor for his yearly physical, his wife tagging along. When the doctor enters the examination room, he tells the old man, \"I need a urine sample, a stool sample and a sperm sample.\" The old man, being hard of hearing, looks at his wife and yells: \"WHAT? What did he say? What's he want?\" His wife yells back, \"He needs your underwear.\"\n",
      "119\n",
      "Judy was having trouble with her computer, so she called Tony, the computer guy, over to her desk. Tony clicked a couple buttons and solved the problem. As he was walking away, Judy called after him, \"So, what was wrong?\" And he replied, \"It was an ID Ten T Error.\" A puzzled expression ran riot over Judy's face. \"An ID Ten T Error? What's that...in case I need to fix it again?\" He gave her a grin...\"Haven't you ever heard of an ID Ten T Error before?\" \"No,\" replied Judy. \"Write it down,\" he said, \"and I think you'll figure it out.\" (She wrote...) I D 1 0 T\n",
      "143\n",
      "A man is driving in the country one evening when his car stalls and won't start. He goes up to a nearby farm house for help, and because it is suppertime he is asked to stay for supper. When he sits down at the table he notices that a pig is sitting at the table with them for supper and that the pig has a wooden leg. As they are eating and chatting, he eventually asks the farmer why the pig is there and why it has a wooden leg. \"Oh,\" says the farmer, \"that is a very special pig. Last month my wife and daughter were in the barn when it caught fire. The pig saw this, ran to the barn, tipped over a pail of water, crawled over the wet floor to reach them and pulled them out of the barn safely. A special pig like that, you just don't eat it all at once!\"\n",
      "145\n",
      "America: 8:00 - Welcome to work! 12:00 - Lunch break 17:00 - The work day is over Japan: 8:00 - Are you already at work? 12:00 - Continue your work 17:00 - The work day is over 20:00 - Please finish your work Romania: 8:00 - Has anyone come to work? 12:00 - Did someone start working? 16:00 - Is anyone at work?\n",
      "117\n",
      "A man goes into a drug store and asks the pharmacist if he can give him something for the hiccups. The pharmacist promptly reaches out and slaps the man's face. \"What the heck did you do that for?!\" the man screams. \"Well, you don't have the hiccups anymore, do you?\" The man says, \"No I don't, you IDIOT...but my wife out in the car still does!\"\n",
      "134\n",
      "A guy walked past a mental hospital and heard a moaning voice: \"13...13...13...13...\" The man looked over to the hospital and saw a hole in the wall. He looked through the hole and got poked in the eye. The moaning voice then groaned: \"14...14...14...14...\"\n",
      "135\n",
      "A man went to apply for a job. After filling out all of his applications, he waited anxiously for the outcome. The employer read all his applications and said, \"We have an opening for people like you.\" \"Oh, great,\" he said. \"What is it?\" \"It's called the door!\"\n",
      "For User 9\n",
      "127\n",
      "An American, a Scot and a Canadian were in a terrible car accident. They were all brought to the same emergency room, but all three of them died before they arrived. Just as they were about to put the toe tag on the American, he stirred and opened his eyes. Astonished, the doctors and nurses present asked him what happened. \"Well,\" said the American, \"I remember the crash, and then there was a beautiful light, and then the Canadian and the Scot and I were standing at the gate s of heaven. St. Peter approached us and said that we were all to young to die, and that for a donation of $50, we could return to earth. So of course I pulled out my wallet and gave him the $50, and the next thing I knew I was back here.\" \"That's amazing!\" said the one of the doctors, \"But what happened to the other two?\" \"Last I saw them,\" replied the American, \"the Scot was haggling over the price and the Canadian was waiting for the government to pay his.\"\n",
      "53\n",
      "The Pope dies and, naturally, goes to heaven. He's met by the reception committee, and after a whirlwind tour he is told that he can enjoy any of the myriad of recreations available. He decides that he wants to read all of the ancient original text of the Holy Scriptures, so he spends the next eon or so learning languages. After becoming a linguistic master, he sits down in the library and begins to pour over every version of the Bible, working back from most recent \"Easy Reading\" to the original script. All of a sudden there is a scream in the library. The angels come running in only to find the Pope huddled in his chair, crying to himself and muttering, \"An 'R'! The scribes left out the 'R'!\" A particularly concerned angel takes him aside, and offering comfort, asks him what the problem is and what he means. After collecting his wits, the Pope sobs again, \"It's the letter 'R'. They left out the 'R'. The word was supposed to be 'CELEBRATE'!\"\n",
      "35\n",
      "A guy walks into a bar, orders a beer and says to the bartender, \"Hey, I got this great Polish Joke...\" The barkeep glares at him and says in a warning tone of voice: \"Before you go telling that joke you better know that I'm Polish, both bouncers are Polish and so are most of my customers.\" \"Okay,\" says the customer. \"I'll tell it very slowly.\"\n",
      "129\n",
      "An old man goes to the doctor for his yearly physical, his wife tagging along. When the doctor enters the examination room, he tells the old man, \"I need a urine sample, a stool sample and a sperm sample.\" The old man, being hard of hearing, looks at his wife and yells: \"WHAT? What did he say? What's he want?\" His wife yells back, \"He needs your underwear.\"\n",
      "89\n",
      "Q: How many programmers does it take to change a lightbulb? A: NONE! That's a hardware problem...\n",
      "119\n",
      "Judy was having trouble with her computer, so she called Tony, the computer guy, over to her desk. Tony clicked a couple buttons and solved the problem. As he was walking away, Judy called after him, \"So, what was wrong?\" And he replied, \"It was an ID Ten T Error.\" A puzzled expression ran riot over Judy's face. \"An ID Ten T Error? What's that...in case I need to fix it again?\" He gave her a grin...\"Haven't you ever heard of an ID Ten T Error before?\" \"No,\" replied Judy. \"Write it down,\" he said, \"and I think you'll figure it out.\" (She wrote...) I D 1 0 T\n",
      "138\n",
      "In a Veteran's Day speech, President Bush vowed, \"We will finish the mission. Period.\" Afterwards, he was advised that he doesn't have to read the punctuation marks.\n",
      "32\n",
      "What do you call an American in the finals of the world cup? \"Hey beer man!\"\n",
      "105\n",
      "An engineer dies and reports to the pearly gates. St. Peter checks his dossier and says, \"Ah, you''re an engineer--you're in the wrong place.\" So, the engineer reports to the gates of hell and is let in. Pretty soon, the engineer gets dissatisfied with the level of comfort in hell, and starts designing and building improvements. After awhile, they've got air conditioning, flush toilets and escalators, and the engineer is a pretty popular guy. One day, God calls Satan up on the telephone and says with a sneer, \"So, how's it going down there in hell?\" Satan replies, \"Hey, things are going great. We've got air conditioning, flush toilets and escalators, and there's no telling what this engineer is going to come up with next.\" God replies, \"What?? You've got an engineer? That's a mistake--he should never have gotten down there; send him up here.\" Satan says, \"No way.\" I like having an engineer on the staff, and I'm keeping him.\" God says, \"Send him back up here or I'll sue.\" Satan laughs uproariously and answers, \"Yeah, right. And just where are YOU going to get a lawyer?\"\n",
      "50\n",
      "Did you hear that Clinton has announced that there is a new national bird? The spread eagle.\n",
      "For User 10\n",
      "114\n",
      "A lady bought a new Lexus. It cost a bundle. Two days later, she brought it back, complaining that the radio was not working. \"Madam,\" said the sales manager, \"the audio system in this car is completely automatic. All you need to do is tell it what you want to listen to, and you will hear exactly that!\" She drove out, somewhat amazed and a little confused. She looked at the radio and said, \"Nelson.\" The radio responded, \"Ricky or Willie?\" She was astounded. If she wanted Beethoven, that's what she got. If she wanted Nat King Cole, she got it. She was stopped at a traffic light enjoying \"On the Road Again\" when the light turned green and she pulled out. Suddenly an enormous sports utility vehicle coming from the street she was crossing sped toward her, obviously not paying attention to the light. She swerved and narrowly missed a collision. \"Idiot!\" she yelled and, from the radio, \"Ladies and gentlemen, the President of the United States.\"\n",
      "127\n",
      "An American, a Scot and a Canadian were in a terrible car accident. They were all brought to the same emergency room, but all three of them died before they arrived. Just as they were about to put the toe tag on the American, he stirred and opened his eyes. Astonished, the doctors and nurses present asked him what happened. \"Well,\" said the American, \"I remember the crash, and then there was a beautiful light, and then the Canadian and the Scot and I were standing at the gate s of heaven. St. Peter approached us and said that we were all to young to die, and that for a donation of $50, we could return to earth. So of course I pulled out my wallet and gave him the $50, and the next thing I knew I was back here.\" \"That's amazing!\" said the one of the doctors, \"But what happened to the other two?\" \"Last I saw them,\" replied the American, \"the Scot was haggling over the price and the Canadian was waiting for the government to pay his.\"\n",
      "129\n",
      "An old man goes to the doctor for his yearly physical, his wife tagging along. When the doctor enters the examination room, he tells the old man, \"I need a urine sample, a stool sample and a sperm sample.\" The old man, being hard of hearing, looks at his wife and yells: \"WHAT? What did he say? What's he want?\" His wife yells back, \"He needs your underwear.\"\n",
      "138\n",
      "In a Veteran's Day speech, President Bush vowed, \"We will finish the mission. Period.\" Afterwards, he was advised that he doesn't have to read the punctuation marks.\n",
      "148\n",
      "A little girl asked her father, \"Daddy? Do all fairy tales begin with 'Once Upon a Time'?\" He replied, \"No, there is a whole series of fairy tales that begin with 'If elected I promise'.\"\n",
      "137\n",
      "WASHINGTON (Reuters) - A tragic fire on Monday destroyed the personal library of President George W. Bush. Both of his books have been lost. Presidential spokesman Ari Fleischer said the president was devastated, as he had not finished coloring the second one.\n",
      "126\n",
      "A little boy goes to his dad and asks, \"What is politics?\" His dad says, \"Well son, let me try to explain it this way: I'm the breadwinner of the family, so let's call me capitalism. Your Mom, she's the administrator of the money, so we'll call her the government. We're here to take care of your needs, so we'll call you the people. The nanny, we'll consider her the working class. And your baby brother, we'll call him the future. Now, think about that and see if that makes sense.\" So the little boy goes off to bed thinking about what dad had said. Later that night, he hears his baby brother crying, so he gets up to check on him. He finds that the baby has severely soiled his diaper. So the little boy goes to his parents' room and finds his mother sound asleep. Not wanting to wake her, he goes to the nanny's room. Finding the door locked, he peeks in the keyhole and sees his father in bed with the nanny. He gives up and goes back to bed. The next morning, the little boy says to his father, \"Dad, I think I understand the concept of politics now.\" The father says, \"Good, son. Tell me in your own words what you think politics is all about.\" The little boy replies, \"Well, while capitalism is screwing the working class, the government is sound asleep, the people are being ignored and the future is in deep shit.\"\n",
      "139\n",
      "Chuck Norris' calendar goes straight from March 31st to April 2nd; no one fools Chuck Norris.\n",
      "132\n",
      "The new employee stood before the paper shredder looking confused. \"Need some help?\" a secretary, walking by, asked. \"Yes,\" he replied, \"how does this thing work?\" \"Simple,\" she said, taking the fat report from his hand and feeding it into the shredder. \"Thanks, but where do the copies come out?\"\n",
      "150\n"
     ]
    },
    {
     "ename": "KeyError",
     "evalue": "'the label [150] is not in the [index]'",
     "output_type": "error",
     "traceback": [
      "\u001b[0;31m---------------------------------------------------------------------------\u001b[0m",
      "\u001b[0;31mKeyError\u001b[0m                                  Traceback (most recent call last)",
      "\u001b[0;32m/home/sagar/anaconda3/lib/python3.6/site-packages/pandas/core/indexing.py\u001b[0m in \u001b[0;36m_has_valid_type\u001b[0;34m(self, key, axis)\u001b[0m\n\u001b[1;32m   1410\u001b[0m                 \u001b[0;32mif\u001b[0m \u001b[0mkey\u001b[0m \u001b[0;32mnot\u001b[0m \u001b[0;32min\u001b[0m \u001b[0max\u001b[0m\u001b[0;34m:\u001b[0m\u001b[0;34m\u001b[0m\u001b[0m\n\u001b[0;32m-> 1411\u001b[0;31m                     \u001b[0merror\u001b[0m\u001b[0;34m(\u001b[0m\u001b[0;34m)\u001b[0m\u001b[0;34m\u001b[0m\u001b[0m\n\u001b[0m\u001b[1;32m   1412\u001b[0m             \u001b[0;32mexcept\u001b[0m \u001b[0mTypeError\u001b[0m \u001b[0;32mas\u001b[0m \u001b[0me\u001b[0m\u001b[0;34m:\u001b[0m\u001b[0;34m\u001b[0m\u001b[0m\n",
      "\u001b[0;32m/home/sagar/anaconda3/lib/python3.6/site-packages/pandas/core/indexing.py\u001b[0m in \u001b[0;36merror\u001b[0;34m()\u001b[0m\n\u001b[1;32m   1405\u001b[0m                 raise KeyError(\"the label [%s] is not in the [%s]\" %\n\u001b[0;32m-> 1406\u001b[0;31m                                (key, self.obj._get_axis_name(axis)))\n\u001b[0m\u001b[1;32m   1407\u001b[0m \u001b[0;34m\u001b[0m\u001b[0m\n",
      "\u001b[0;31mKeyError\u001b[0m: 'the label [150] is not in the [index]'",
      "\nDuring handling of the above exception, another exception occurred:\n",
      "\u001b[0;31mKeyError\u001b[0m                                  Traceback (most recent call last)",
      "\u001b[0;32m<ipython-input-16-e5bae0cf9f3a>\u001b[0m in \u001b[0;36m<module>\u001b[0;34m()\u001b[0m\n\u001b[1;32m      4\u001b[0m     \u001b[0;32mfor\u001b[0m  \u001b[0;34m(\u001b[0m\u001b[0miid\u001b[0m\u001b[0;34m,\u001b[0m \u001b[0m_\u001b[0m\u001b[0;34m)\u001b[0m \u001b[0;32min\u001b[0m \u001b[0muser_ratings\u001b[0m\u001b[0;34m:\u001b[0m\u001b[0;34m\u001b[0m\u001b[0m\n\u001b[1;32m      5\u001b[0m         \u001b[0mprint\u001b[0m\u001b[0;34m(\u001b[0m\u001b[0miid\u001b[0m\u001b[0;34m)\u001b[0m\u001b[0;34m\u001b[0m\u001b[0m\n\u001b[0;32m----> 6\u001b[0;31m         \u001b[0mprint\u001b[0m\u001b[0;34m(\u001b[0m\u001b[0mjokes\u001b[0m\u001b[0;34m.\u001b[0m\u001b[0mloc\u001b[0m\u001b[0;34m[\u001b[0m\u001b[0mint\u001b[0m\u001b[0;34m(\u001b[0m\u001b[0miid\u001b[0m\u001b[0;34m)\u001b[0m\u001b[0;34m,\u001b[0m\u001b[0;34m\"Joke\"\u001b[0m\u001b[0;34m]\u001b[0m\u001b[0;34m)\u001b[0m\u001b[0;34m\u001b[0m\u001b[0m\n\u001b[0m\u001b[1;32m      7\u001b[0m \u001b[0;34m\u001b[0m\u001b[0m\n",
      "\u001b[0;32m/home/sagar/anaconda3/lib/python3.6/site-packages/pandas/core/indexing.py\u001b[0m in \u001b[0;36m__getitem__\u001b[0;34m(self, key)\u001b[0m\n\u001b[1;32m   1308\u001b[0m \u001b[0;34m\u001b[0m\u001b[0m\n\u001b[1;32m   1309\u001b[0m         \u001b[0;32mif\u001b[0m \u001b[0mtype\u001b[0m\u001b[0;34m(\u001b[0m\u001b[0mkey\u001b[0m\u001b[0;34m)\u001b[0m \u001b[0;32mis\u001b[0m \u001b[0mtuple\u001b[0m\u001b[0;34m:\u001b[0m\u001b[0;34m\u001b[0m\u001b[0m\n\u001b[0;32m-> 1310\u001b[0;31m             \u001b[0;32mreturn\u001b[0m \u001b[0mself\u001b[0m\u001b[0;34m.\u001b[0m\u001b[0m_getitem_tuple\u001b[0m\u001b[0;34m(\u001b[0m\u001b[0mkey\u001b[0m\u001b[0;34m)\u001b[0m\u001b[0;34m\u001b[0m\u001b[0m\n\u001b[0m\u001b[1;32m   1311\u001b[0m         \u001b[0;32melse\u001b[0m\u001b[0;34m:\u001b[0m\u001b[0;34m\u001b[0m\u001b[0m\n\u001b[1;32m   1312\u001b[0m             \u001b[0;32mreturn\u001b[0m \u001b[0mself\u001b[0m\u001b[0;34m.\u001b[0m\u001b[0m_getitem_axis\u001b[0m\u001b[0;34m(\u001b[0m\u001b[0mkey\u001b[0m\u001b[0;34m,\u001b[0m \u001b[0maxis\u001b[0m\u001b[0;34m=\u001b[0m\u001b[0;36m0\u001b[0m\u001b[0;34m)\u001b[0m\u001b[0;34m\u001b[0m\u001b[0m\n",
      "\u001b[0;32m/home/sagar/anaconda3/lib/python3.6/site-packages/pandas/core/indexing.py\u001b[0m in \u001b[0;36m_getitem_tuple\u001b[0;34m(self, tup)\u001b[0m\n\u001b[1;32m    794\u001b[0m     \u001b[0;32mdef\u001b[0m \u001b[0m_getitem_tuple\u001b[0m\u001b[0;34m(\u001b[0m\u001b[0mself\u001b[0m\u001b[0;34m,\u001b[0m \u001b[0mtup\u001b[0m\u001b[0;34m)\u001b[0m\u001b[0;34m:\u001b[0m\u001b[0;34m\u001b[0m\u001b[0m\n\u001b[1;32m    795\u001b[0m         \u001b[0;32mtry\u001b[0m\u001b[0;34m:\u001b[0m\u001b[0;34m\u001b[0m\u001b[0m\n\u001b[0;32m--> 796\u001b[0;31m             \u001b[0;32mreturn\u001b[0m \u001b[0mself\u001b[0m\u001b[0;34m.\u001b[0m\u001b[0m_getitem_lowerdim\u001b[0m\u001b[0;34m(\u001b[0m\u001b[0mtup\u001b[0m\u001b[0;34m)\u001b[0m\u001b[0;34m\u001b[0m\u001b[0m\n\u001b[0m\u001b[1;32m    797\u001b[0m         \u001b[0;32mexcept\u001b[0m \u001b[0mIndexingError\u001b[0m\u001b[0;34m:\u001b[0m\u001b[0;34m\u001b[0m\u001b[0m\n\u001b[1;32m    798\u001b[0m             \u001b[0;32mpass\u001b[0m\u001b[0;34m\u001b[0m\u001b[0m\n",
      "\u001b[0;32m/home/sagar/anaconda3/lib/python3.6/site-packages/pandas/core/indexing.py\u001b[0m in \u001b[0;36m_getitem_lowerdim\u001b[0;34m(self, tup)\u001b[0m\n\u001b[1;32m    920\u001b[0m         \u001b[0;32mfor\u001b[0m \u001b[0mi\u001b[0m\u001b[0;34m,\u001b[0m \u001b[0mkey\u001b[0m \u001b[0;32min\u001b[0m \u001b[0menumerate\u001b[0m\u001b[0;34m(\u001b[0m\u001b[0mtup\u001b[0m\u001b[0;34m)\u001b[0m\u001b[0;34m:\u001b[0m\u001b[0;34m\u001b[0m\u001b[0m\n\u001b[1;32m    921\u001b[0m             \u001b[0;32mif\u001b[0m \u001b[0mis_label_like\u001b[0m\u001b[0;34m(\u001b[0m\u001b[0mkey\u001b[0m\u001b[0;34m)\u001b[0m \u001b[0;32mor\u001b[0m \u001b[0misinstance\u001b[0m\u001b[0;34m(\u001b[0m\u001b[0mkey\u001b[0m\u001b[0;34m,\u001b[0m \u001b[0mtuple\u001b[0m\u001b[0;34m)\u001b[0m\u001b[0;34m:\u001b[0m\u001b[0;34m\u001b[0m\u001b[0m\n\u001b[0;32m--> 922\u001b[0;31m                 \u001b[0msection\u001b[0m \u001b[0;34m=\u001b[0m \u001b[0mself\u001b[0m\u001b[0;34m.\u001b[0m\u001b[0m_getitem_axis\u001b[0m\u001b[0;34m(\u001b[0m\u001b[0mkey\u001b[0m\u001b[0;34m,\u001b[0m \u001b[0maxis\u001b[0m\u001b[0;34m=\u001b[0m\u001b[0mi\u001b[0m\u001b[0;34m)\u001b[0m\u001b[0;34m\u001b[0m\u001b[0m\n\u001b[0m\u001b[1;32m    923\u001b[0m \u001b[0;34m\u001b[0m\u001b[0m\n\u001b[1;32m    924\u001b[0m                 \u001b[0;31m# we have yielded a scalar ?\u001b[0m\u001b[0;34m\u001b[0m\u001b[0;34m\u001b[0m\u001b[0m\n",
      "\u001b[0;32m/home/sagar/anaconda3/lib/python3.6/site-packages/pandas/core/indexing.py\u001b[0m in \u001b[0;36m_getitem_axis\u001b[0;34m(self, key, axis)\u001b[0m\n\u001b[1;32m   1480\u001b[0m \u001b[0;34m\u001b[0m\u001b[0m\n\u001b[1;32m   1481\u001b[0m         \u001b[0;31m# fall thru to straight lookup\u001b[0m\u001b[0;34m\u001b[0m\u001b[0;34m\u001b[0m\u001b[0m\n\u001b[0;32m-> 1482\u001b[0;31m         \u001b[0mself\u001b[0m\u001b[0;34m.\u001b[0m\u001b[0m_has_valid_type\u001b[0m\u001b[0;34m(\u001b[0m\u001b[0mkey\u001b[0m\u001b[0;34m,\u001b[0m \u001b[0maxis\u001b[0m\u001b[0;34m)\u001b[0m\u001b[0;34m\u001b[0m\u001b[0m\n\u001b[0m\u001b[1;32m   1483\u001b[0m         \u001b[0;32mreturn\u001b[0m \u001b[0mself\u001b[0m\u001b[0;34m.\u001b[0m\u001b[0m_get_label\u001b[0m\u001b[0;34m(\u001b[0m\u001b[0mkey\u001b[0m\u001b[0;34m,\u001b[0m \u001b[0maxis\u001b[0m\u001b[0;34m=\u001b[0m\u001b[0maxis\u001b[0m\u001b[0;34m)\u001b[0m\u001b[0;34m\u001b[0m\u001b[0m\n\u001b[1;32m   1484\u001b[0m \u001b[0;34m\u001b[0m\u001b[0m\n",
      "\u001b[0;32m/home/sagar/anaconda3/lib/python3.6/site-packages/pandas/core/indexing.py\u001b[0m in \u001b[0;36m_has_valid_type\u001b[0;34m(self, key, axis)\u001b[0m\n\u001b[1;32m   1417\u001b[0m                 \u001b[0;32mraise\u001b[0m\u001b[0;34m\u001b[0m\u001b[0m\n\u001b[1;32m   1418\u001b[0m             \u001b[0;32mexcept\u001b[0m\u001b[0;34m:\u001b[0m\u001b[0;34m\u001b[0m\u001b[0m\n\u001b[0;32m-> 1419\u001b[0;31m                 \u001b[0merror\u001b[0m\u001b[0;34m(\u001b[0m\u001b[0;34m)\u001b[0m\u001b[0;34m\u001b[0m\u001b[0m\n\u001b[0m\u001b[1;32m   1420\u001b[0m \u001b[0;34m\u001b[0m\u001b[0m\n\u001b[1;32m   1421\u001b[0m         \u001b[0;32mreturn\u001b[0m \u001b[0;32mTrue\u001b[0m\u001b[0;34m\u001b[0m\u001b[0m\n",
      "\u001b[0;32m/home/sagar/anaconda3/lib/python3.6/site-packages/pandas/core/indexing.py\u001b[0m in \u001b[0;36merror\u001b[0;34m()\u001b[0m\n\u001b[1;32m   1404\u001b[0m                                     \"key\")\n\u001b[1;32m   1405\u001b[0m                 raise KeyError(\"the label [%s] is not in the [%s]\" %\n\u001b[0;32m-> 1406\u001b[0;31m                                (key, self.obj._get_axis_name(axis)))\n\u001b[0m\u001b[1;32m   1407\u001b[0m \u001b[0;34m\u001b[0m\u001b[0m\n\u001b[1;32m   1408\u001b[0m             \u001b[0;32mtry\u001b[0m\u001b[0;34m:\u001b[0m\u001b[0;34m\u001b[0m\u001b[0m\n",
      "\u001b[0;31mKeyError\u001b[0m: 'the label [150] is not in the [index]'"
     ]
    }
   ],
   "source": [
    "# Printing top predictions\n",
    "for uid, user_ratings in take(10,top_n.items()):\n",
    "    print(\"For User\",uid)\n",
    "    for  (iid, _) in user_ratings:\n",
    "        print(iid)\n",
    "        print(jokes.loc[int(iid),\"Joke\"])\n",
    "    "
   ]
  },
  {
   "cell_type": "code",
   "execution_count": null,
   "metadata": {
    "collapsed": true
   },
   "outputs": [],
   "source": []
  }
 ],
 "metadata": {
  "kernelspec": {
   "display_name": "Python 3",
   "language": "python",
   "name": "python3"
  },
  "language_info": {
   "codemirror_mode": {
    "name": "ipython",
    "version": 3
   },
   "file_extension": ".py",
   "mimetype": "text/x-python",
   "name": "python",
   "nbconvert_exporter": "python",
   "pygments_lexer": "ipython3",
   "version": "3.6.0"
  }
 },
 "nbformat": 4,
 "nbformat_minor": 2
}
