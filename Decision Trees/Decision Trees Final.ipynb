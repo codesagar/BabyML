{
 "cells": [
  {
   "cell_type": "markdown",
   "metadata": {},
   "source": [
    "## PIMA Indian Diabetes Data - UCI\n",
    "You can access the Diabetes Data and its relevant documentation [here on UCI website](https://archive.ics.uci.edu/ml/datasets/Pima+Indians+Diabetes)"
   ]
  },
  {
   "cell_type": "code",
   "execution_count": 1,
   "metadata": {},
   "outputs": [],
   "source": [
    "import pandas as pd\n",
    "import numpy as np\n",
    "import seaborn as sns\n",
    "import matplotlib.pyplot as plt\n",
    "%matplotlib notebook"
   ]
  },
  {
   "cell_type": "markdown",
   "metadata": {},
   "source": [
    "### Reading data with predefined column names"
   ]
  },
  {
   "cell_type": "code",
   "execution_count": 2,
   "metadata": {},
   "outputs": [
    {
     "data": {
      "text/html": [
       "<div>\n",
       "<style scoped>\n",
       "    .dataframe tbody tr th:only-of-type {\n",
       "        vertical-align: middle;\n",
       "    }\n",
       "\n",
       "    .dataframe tbody tr th {\n",
       "        vertical-align: top;\n",
       "    }\n",
       "\n",
       "    .dataframe thead th {\n",
       "        text-align: right;\n",
       "    }\n",
       "</style>\n",
       "<table border=\"1\" class=\"dataframe\">\n",
       "  <thead>\n",
       "    <tr style=\"text-align: right;\">\n",
       "      <th></th>\n",
       "      <th>PregnantFreq</th>\n",
       "      <th>PlasmaGlucose</th>\n",
       "      <th>DiastolicBP</th>\n",
       "      <th>TricepSkinThickness</th>\n",
       "      <th>SerumInsulin</th>\n",
       "      <th>BMI</th>\n",
       "      <th>DiabetesPedigree</th>\n",
       "      <th>Age</th>\n",
       "      <th>Target</th>\n",
       "    </tr>\n",
       "  </thead>\n",
       "  <tbody>\n",
       "    <tr>\n",
       "      <th>0</th>\n",
       "      <td>6.0</td>\n",
       "      <td>148.0</td>\n",
       "      <td>72.0</td>\n",
       "      <td>35.00000</td>\n",
       "      <td>155.548223</td>\n",
       "      <td>33.6</td>\n",
       "      <td>0.627</td>\n",
       "      <td>50</td>\n",
       "      <td>1</td>\n",
       "    </tr>\n",
       "    <tr>\n",
       "      <th>1</th>\n",
       "      <td>1.0</td>\n",
       "      <td>85.0</td>\n",
       "      <td>66.0</td>\n",
       "      <td>29.00000</td>\n",
       "      <td>155.548223</td>\n",
       "      <td>26.6</td>\n",
       "      <td>0.351</td>\n",
       "      <td>31</td>\n",
       "      <td>0</td>\n",
       "    </tr>\n",
       "    <tr>\n",
       "      <th>2</th>\n",
       "      <td>8.0</td>\n",
       "      <td>183.0</td>\n",
       "      <td>64.0</td>\n",
       "      <td>29.15342</td>\n",
       "      <td>155.548223</td>\n",
       "      <td>23.3</td>\n",
       "      <td>0.672</td>\n",
       "      <td>32</td>\n",
       "      <td>1</td>\n",
       "    </tr>\n",
       "    <tr>\n",
       "      <th>3</th>\n",
       "      <td>1.0</td>\n",
       "      <td>89.0</td>\n",
       "      <td>66.0</td>\n",
       "      <td>23.00000</td>\n",
       "      <td>94.000000</td>\n",
       "      <td>28.1</td>\n",
       "      <td>0.167</td>\n",
       "      <td>21</td>\n",
       "      <td>0</td>\n",
       "    </tr>\n",
       "    <tr>\n",
       "      <th>4</th>\n",
       "      <td>0.0</td>\n",
       "      <td>137.0</td>\n",
       "      <td>40.0</td>\n",
       "      <td>35.00000</td>\n",
       "      <td>168.000000</td>\n",
       "      <td>43.1</td>\n",
       "      <td>2.288</td>\n",
       "      <td>33</td>\n",
       "      <td>1</td>\n",
       "    </tr>\n",
       "  </tbody>\n",
       "</table>\n",
       "</div>"
      ],
      "text/plain": [
       "   PregnantFreq  PlasmaGlucose  DiastolicBP  TricepSkinThickness  \\\n",
       "0           6.0          148.0         72.0             35.00000   \n",
       "1           1.0           85.0         66.0             29.00000   \n",
       "2           8.0          183.0         64.0             29.15342   \n",
       "3           1.0           89.0         66.0             23.00000   \n",
       "4           0.0          137.0         40.0             35.00000   \n",
       "\n",
       "   SerumInsulin   BMI  DiabetesPedigree  Age  Target  \n",
       "0    155.548223  33.6             0.627   50       1  \n",
       "1    155.548223  26.6             0.351   31       0  \n",
       "2    155.548223  23.3             0.672   32       1  \n",
       "3     94.000000  28.1             0.167   21       0  \n",
       "4    168.000000  43.1             2.288   33       1  "
      ]
     },
     "execution_count": 2,
     "metadata": {},
     "output_type": "execute_result"
    }
   ],
   "source": [
    "diabetes = pd.read_csv(\"processed_diabetes.csv\")\n",
    "diabetes.head()"
   ]
  },
  {
   "cell_type": "markdown",
   "metadata": {
    "collapsed": true
   },
   "source": [
    "# Data Exploration"
   ]
  },
  {
   "cell_type": "markdown",
   "metadata": {},
   "source": [
    "### Check summary statistics"
   ]
  },
  {
   "cell_type": "code",
   "execution_count": 3,
   "metadata": {},
   "outputs": [
    {
     "data": {
      "text/html": [
       "<div>\n",
       "<style scoped>\n",
       "    .dataframe tbody tr th:only-of-type {\n",
       "        vertical-align: middle;\n",
       "    }\n",
       "\n",
       "    .dataframe tbody tr th {\n",
       "        vertical-align: top;\n",
       "    }\n",
       "\n",
       "    .dataframe thead th {\n",
       "        text-align: right;\n",
       "    }\n",
       "</style>\n",
       "<table border=\"1\" class=\"dataframe\">\n",
       "  <thead>\n",
       "    <tr style=\"text-align: right;\">\n",
       "      <th></th>\n",
       "      <th>PregnantFreq</th>\n",
       "      <th>PlasmaGlucose</th>\n",
       "      <th>DiastolicBP</th>\n",
       "      <th>TricepSkinThickness</th>\n",
       "      <th>SerumInsulin</th>\n",
       "      <th>BMI</th>\n",
       "      <th>DiabetesPedigree</th>\n",
       "      <th>Age</th>\n",
       "      <th>Target</th>\n",
       "    </tr>\n",
       "  </thead>\n",
       "  <tbody>\n",
       "    <tr>\n",
       "      <th>count</th>\n",
       "      <td>768.000000</td>\n",
       "      <td>768.000000</td>\n",
       "      <td>768.000000</td>\n",
       "      <td>768.000000</td>\n",
       "      <td>768.000000</td>\n",
       "      <td>768.000000</td>\n",
       "      <td>768.000000</td>\n",
       "      <td>768.000000</td>\n",
       "      <td>768.000000</td>\n",
       "    </tr>\n",
       "    <tr>\n",
       "      <th>mean</th>\n",
       "      <td>3.845052</td>\n",
       "      <td>121.686763</td>\n",
       "      <td>72.405184</td>\n",
       "      <td>29.153420</td>\n",
       "      <td>155.548223</td>\n",
       "      <td>32.457464</td>\n",
       "      <td>0.471876</td>\n",
       "      <td>33.240885</td>\n",
       "      <td>0.348958</td>\n",
       "    </tr>\n",
       "    <tr>\n",
       "      <th>std</th>\n",
       "      <td>3.369578</td>\n",
       "      <td>30.435949</td>\n",
       "      <td>12.096346</td>\n",
       "      <td>8.790942</td>\n",
       "      <td>85.021108</td>\n",
       "      <td>6.875151</td>\n",
       "      <td>0.331329</td>\n",
       "      <td>11.760232</td>\n",
       "      <td>0.476951</td>\n",
       "    </tr>\n",
       "    <tr>\n",
       "      <th>min</th>\n",
       "      <td>0.000000</td>\n",
       "      <td>44.000000</td>\n",
       "      <td>24.000000</td>\n",
       "      <td>7.000000</td>\n",
       "      <td>14.000000</td>\n",
       "      <td>18.200000</td>\n",
       "      <td>0.078000</td>\n",
       "      <td>21.000000</td>\n",
       "      <td>0.000000</td>\n",
       "    </tr>\n",
       "    <tr>\n",
       "      <th>25%</th>\n",
       "      <td>1.000000</td>\n",
       "      <td>99.750000</td>\n",
       "      <td>64.000000</td>\n",
       "      <td>25.000000</td>\n",
       "      <td>121.500000</td>\n",
       "      <td>27.500000</td>\n",
       "      <td>0.243750</td>\n",
       "      <td>24.000000</td>\n",
       "      <td>0.000000</td>\n",
       "    </tr>\n",
       "    <tr>\n",
       "      <th>50%</th>\n",
       "      <td>3.000000</td>\n",
       "      <td>117.000000</td>\n",
       "      <td>72.202592</td>\n",
       "      <td>29.153420</td>\n",
       "      <td>155.548223</td>\n",
       "      <td>32.400000</td>\n",
       "      <td>0.372500</td>\n",
       "      <td>29.000000</td>\n",
       "      <td>0.000000</td>\n",
       "    </tr>\n",
       "    <tr>\n",
       "      <th>75%</th>\n",
       "      <td>6.000000</td>\n",
       "      <td>140.250000</td>\n",
       "      <td>80.000000</td>\n",
       "      <td>32.000000</td>\n",
       "      <td>155.548223</td>\n",
       "      <td>36.600000</td>\n",
       "      <td>0.626250</td>\n",
       "      <td>41.000000</td>\n",
       "      <td>1.000000</td>\n",
       "    </tr>\n",
       "    <tr>\n",
       "      <th>max</th>\n",
       "      <td>17.000000</td>\n",
       "      <td>199.000000</td>\n",
       "      <td>122.000000</td>\n",
       "      <td>99.000000</td>\n",
       "      <td>846.000000</td>\n",
       "      <td>67.100000</td>\n",
       "      <td>2.420000</td>\n",
       "      <td>81.000000</td>\n",
       "      <td>1.000000</td>\n",
       "    </tr>\n",
       "  </tbody>\n",
       "</table>\n",
       "</div>"
      ],
      "text/plain": [
       "       PregnantFreq  PlasmaGlucose  DiastolicBP  TricepSkinThickness  \\\n",
       "count    768.000000     768.000000   768.000000           768.000000   \n",
       "mean       3.845052     121.686763    72.405184            29.153420   \n",
       "std        3.369578      30.435949    12.096346             8.790942   \n",
       "min        0.000000      44.000000    24.000000             7.000000   \n",
       "25%        1.000000      99.750000    64.000000            25.000000   \n",
       "50%        3.000000     117.000000    72.202592            29.153420   \n",
       "75%        6.000000     140.250000    80.000000            32.000000   \n",
       "max       17.000000     199.000000   122.000000            99.000000   \n",
       "\n",
       "       SerumInsulin         BMI  DiabetesPedigree         Age      Target  \n",
       "count    768.000000  768.000000        768.000000  768.000000  768.000000  \n",
       "mean     155.548223   32.457464          0.471876   33.240885    0.348958  \n",
       "std       85.021108    6.875151          0.331329   11.760232    0.476951  \n",
       "min       14.000000   18.200000          0.078000   21.000000    0.000000  \n",
       "25%      121.500000   27.500000          0.243750   24.000000    0.000000  \n",
       "50%      155.548223   32.400000          0.372500   29.000000    0.000000  \n",
       "75%      155.548223   36.600000          0.626250   41.000000    1.000000  \n",
       "max      846.000000   67.100000          2.420000   81.000000    1.000000  "
      ]
     },
     "execution_count": 3,
     "metadata": {},
     "output_type": "execute_result"
    }
   ],
   "source": [
    "diabetes.describe()"
   ]
  },
  {
   "cell_type": "markdown",
   "metadata": {},
   "source": [
    "### Check if the data types are as expected"
   ]
  },
  {
   "cell_type": "code",
   "execution_count": 4,
   "metadata": {},
   "outputs": [
    {
     "data": {
      "text/plain": [
       "PregnantFreq           float64\n",
       "PlasmaGlucose          float64\n",
       "DiastolicBP            float64\n",
       "TricepSkinThickness    float64\n",
       "SerumInsulin           float64\n",
       "BMI                    float64\n",
       "DiabetesPedigree       float64\n",
       "Age                      int64\n",
       "Target                   int64\n",
       "dtype: object"
      ]
     },
     "execution_count": 4,
     "metadata": {},
     "output_type": "execute_result"
    }
   ],
   "source": [
    "diabetes.dtypes"
   ]
  },
  {
   "cell_type": "markdown",
   "metadata": {},
   "source": [
    "### Changing \"Target\" datatype"
   ]
  },
  {
   "cell_type": "code",
   "execution_count": 5,
   "metadata": {},
   "outputs": [],
   "source": [
    "diabetes['Target'] = diabetes['Target'].astype('category')"
   ]
  },
  {
   "cell_type": "markdown",
   "metadata": {},
   "source": [
    "### Check target distribution"
   ]
  },
  {
   "cell_type": "code",
   "execution_count": 6,
   "metadata": {},
   "outputs": [
    {
     "data": {
      "text/plain": [
       "<matplotlib.axes._subplots.AxesSubplot at 0x7fdd1c33f2e8>"
      ]
     },
     "execution_count": 6,
     "metadata": {},
     "output_type": "execute_result"
    },
    {
     "data": {
      "image/png": "[encoded data removed]",
      "text/plain": [
       "<Figure size 432x288 with 1 Axes>"
      ]
     },
     "metadata": {},
     "output_type": "display_data"
    }
   ],
   "source": [
    "sns.countplot(diabetes['Target'])"
   ]
  },
  {
   "cell_type": "markdown",
   "metadata": {},
   "source": [
    "**Important Take-Away** - *Transformations should be applied in a 2-phase strategy*"
   ]
  },
  {
   "cell_type": "markdown",
   "metadata": {},
   "source": [
    "### Decouple traget from the features"
   ]
  },
  {
   "cell_type": "code",
   "execution_count": 7,
   "metadata": {},
   "outputs": [
    {
     "name": "stdout",
     "output_type": "stream",
     "text": [
      "(768, 8)\n",
      "(768,)\n"
     ]
    }
   ],
   "source": [
    "X = diabetes[diabetes.columns.difference(['Target'])]  ## Select all columns except \"Target\"\n",
    "print(X.shape)\n",
    "y = diabetes['Target']\n",
    "print(y.shape)"
   ]
  },
  {
   "cell_type": "markdown",
   "metadata": {},
   "source": [
    "### Test-Train split"
   ]
  },
  {
   "cell_type": "code",
   "execution_count": 8,
   "metadata": {},
   "outputs": [],
   "source": [
    "from sklearn.model_selection import train_test_split\n",
    "X_train, X_test, y_train, y_test = train_test_split(X, y, test_size=0.3, random_state=42)"
   ]
  },
  {
   "cell_type": "code",
   "execution_count": 9,
   "metadata": {},
   "outputs": [
    {
     "name": "stdout",
     "output_type": "stream",
     "text": [
      "X_train (537, 8)\n",
      "y_train (537,)\n",
      "X_test (231, 8)\n",
      "y_test (231,)\n"
     ]
    }
   ],
   "source": [
    "print('X_train',X_train.shape)\n",
    "print('y_train',y_train.shape)\n",
    "print('X_test',X_test.shape)\n",
    "print('y_test',y_test.shape)"
   ]
  },
  {
   "cell_type": "markdown",
   "metadata": {},
   "source": [
    "# Decision Trees"
   ]
  },
  {
   "cell_type": "code",
   "execution_count": 10,
   "metadata": {},
   "outputs": [
    {
     "data": {
      "text/html": [
       "<div>\n",
       "<style scoped>\n",
       "    .dataframe tbody tr th:only-of-type {\n",
       "        vertical-align: middle;\n",
       "    }\n",
       "\n",
       "    .dataframe tbody tr th {\n",
       "        vertical-align: top;\n",
       "    }\n",
       "\n",
       "    .dataframe thead th {\n",
       "        text-align: right;\n",
       "    }\n",
       "</style>\n",
       "<table border=\"1\" class=\"dataframe\">\n",
       "  <thead>\n",
       "    <tr style=\"text-align: right;\">\n",
       "      <th></th>\n",
       "      <th>Age</th>\n",
       "      <th>BMI</th>\n",
       "      <th>DiabetesPedigree</th>\n",
       "      <th>DiastolicBP</th>\n",
       "      <th>PlasmaGlucose</th>\n",
       "      <th>PregnantFreq</th>\n",
       "      <th>SerumInsulin</th>\n",
       "      <th>TricepSkinThickness</th>\n",
       "    </tr>\n",
       "  </thead>\n",
       "  <tbody>\n",
       "    <tr>\n",
       "      <th>334</th>\n",
       "      <td>22</td>\n",
       "      <td>23.9</td>\n",
       "      <td>0.260</td>\n",
       "      <td>60.0</td>\n",
       "      <td>95.0</td>\n",
       "      <td>1.0</td>\n",
       "      <td>58.0</td>\n",
       "      <td>18.0</td>\n",
       "    </tr>\n",
       "    <tr>\n",
       "      <th>139</th>\n",
       "      <td>28</td>\n",
       "      <td>36.9</td>\n",
       "      <td>0.159</td>\n",
       "      <td>72.0</td>\n",
       "      <td>105.0</td>\n",
       "      <td>5.0</td>\n",
       "      <td>325.0</td>\n",
       "      <td>29.0</td>\n",
       "    </tr>\n",
       "    <tr>\n",
       "      <th>485</th>\n",
       "      <td>24</td>\n",
       "      <td>42.3</td>\n",
       "      <td>0.365</td>\n",
       "      <td>68.0</td>\n",
       "      <td>135.0</td>\n",
       "      <td>0.0</td>\n",
       "      <td>250.0</td>\n",
       "      <td>42.0</td>\n",
       "    </tr>\n",
       "    <tr>\n",
       "      <th>547</th>\n",
       "      <td>28</td>\n",
       "      <td>33.1</td>\n",
       "      <td>0.160</td>\n",
       "      <td>68.0</td>\n",
       "      <td>131.0</td>\n",
       "      <td>4.0</td>\n",
       "      <td>166.0</td>\n",
       "      <td>21.0</td>\n",
       "    </tr>\n",
       "    <tr>\n",
       "      <th>18</th>\n",
       "      <td>33</td>\n",
       "      <td>43.3</td>\n",
       "      <td>0.183</td>\n",
       "      <td>30.0</td>\n",
       "      <td>103.0</td>\n",
       "      <td>1.0</td>\n",
       "      <td>83.0</td>\n",
       "      <td>38.0</td>\n",
       "    </tr>\n",
       "  </tbody>\n",
       "</table>\n",
       "</div>"
      ],
      "text/plain": [
       "     Age   BMI  DiabetesPedigree  DiastolicBP  PlasmaGlucose  PregnantFreq  \\\n",
       "334   22  23.9             0.260         60.0           95.0           1.0   \n",
       "139   28  36.9             0.159         72.0          105.0           5.0   \n",
       "485   24  42.3             0.365         68.0          135.0           0.0   \n",
       "547   28  33.1             0.160         68.0          131.0           4.0   \n",
       "18    33  43.3             0.183         30.0          103.0           1.0   \n",
       "\n",
       "     SerumInsulin  TricepSkinThickness  \n",
       "334          58.0                 18.0  \n",
       "139         325.0                 29.0  \n",
       "485         250.0                 42.0  \n",
       "547         166.0                 21.0  \n",
       "18           83.0                 38.0  "
      ]
     },
     "execution_count": 10,
     "metadata": {},
     "output_type": "execute_result"
    }
   ],
   "source": [
    "X_train.head()"
   ]
  },
  {
   "cell_type": "markdown",
   "metadata": {},
   "source": [
    "### Model 1 - default parameters"
   ]
  },
  {
   "cell_type": "code",
   "execution_count": 11,
   "metadata": {},
   "outputs": [
    {
     "data": {
      "text/plain": [
       "DecisionTreeClassifier(class_weight=None, criterion='gini', max_depth=None,\n",
       "            max_features=None, max_leaf_nodes=None,\n",
       "            min_impurity_decrease=0.0, min_impurity_split=None,\n",
       "            min_samples_leaf=1, min_samples_split=2,\n",
       "            min_weight_fraction_leaf=0.0, presort=False, random_state=None,\n",
       "            splitter='best')"
      ]
     },
     "execution_count": 11,
     "metadata": {},
     "output_type": "execute_result"
    }
   ],
   "source": [
    "from sklearn import tree\n",
    "dt1_gini = tree.DecisionTreeClassifier()   ## Instantiating DecisionTree-Classifier\n",
    "dt1_gini.fit(X_train, y_train)             ## Training Model"
   ]
  },
  {
   "cell_type": "markdown",
   "metadata": {},
   "source": [
    "### Checking accuracy"
   ]
  },
  {
   "cell_type": "code",
   "execution_count": 13,
   "metadata": {},
   "outputs": [
    {
     "name": "stdout",
     "output_type": "stream",
     "text": [
      "Train Accuracy = 1.0\n",
      "Test Accuracy = 0.6796536796536796\n"
     ]
    }
   ],
   "source": [
    "print('Train Accuracy =',dt1_gini.score(X_train, y_train))\n",
    "print('Test Accuracy =',dt1_gini.score(X_test, y_test))"
   ]
  },
  {
   "cell_type": "markdown",
   "metadata": {},
   "source": [
    "## Confusion Matrix and Classification Report"
   ]
  },
  {
   "cell_type": "code",
   "execution_count": 14,
   "metadata": {},
   "outputs": [
    {
     "name": "stdout",
     "output_type": "stream",
     "text": [
      "Train - Confusion Matrix\n",
      "[[349   0]\n",
      " [  0 188]]\n",
      "Test - Confusion Matrix\n",
      "[[108  43]\n",
      " [ 31  49]]\n"
     ]
    }
   ],
   "source": [
    "from sklearn.metrics import confusion_matrix\n",
    "print(\"Train - Confusion Matrix\")\n",
    "print(confusion_matrix(y_train,dt1_gini.predict(X_train)))\n",
    "print(\"Test - Confusion Matrix\")\n",
    "print(confusion_matrix(y_test,dt1_gini.predict(X_test)))"
   ]
  },
  {
   "cell_type": "code",
   "execution_count": 15,
   "metadata": {},
   "outputs": [
    {
     "name": "stdout",
     "output_type": "stream",
     "text": [
      "Train - Report\n",
      "             precision    recall  f1-score   support\n",
      "\n",
      "          0       1.00      1.00      1.00       349\n",
      "          1       1.00      1.00      1.00       188\n",
      "\n",
      "avg / total       1.00      1.00      1.00       537\n",
      "\n",
      "Test - Report\n",
      "             precision    recall  f1-score   support\n",
      "\n",
      "          0       0.78      0.72      0.74       151\n",
      "          1       0.53      0.61      0.57        80\n",
      "\n",
      "avg / total       0.69      0.68      0.68       231\n",
      "\n"
     ]
    }
   ],
   "source": [
    "from sklearn.metrics import classification_report\n",
    "print(\"Train - Report\")\n",
    "print(classification_report(y_train,dt1_gini.predict(X_train)))\n",
    "print(\"Test - Report\")\n",
    "print(classification_report(y_test,dt1_gini.predict(X_test)))"
   ]
  },
  {
   "cell_type": "markdown",
   "metadata": {},
   "source": [
    "### Plotting the decision tree"
   ]
  },
  {
   "cell_type": "code",
   "execution_count": 16,
   "metadata": {},
   "outputs": [
    {
     "data": {
      "text/plain": [
       "'dt1_gini.pdf'"
      ]
     },
     "execution_count": 16,
     "metadata": {},
     "output_type": "execute_result"
    }
   ],
   "source": [
    "import graphviz\n",
    "dot_data = tree.export_graphviz(dt1_gini, out_file=None, feature_names=X.columns, filled=True, rounded=True)\n",
    "graph = graphviz.Source(dot_data)\n",
    "graph.render(\"dt1_gini\") "
   ]
  },
  {
   "cell_type": "markdown",
   "metadata": {},
   "source": [
    "### Any observations in the previous model? "
   ]
  },
  {
   "cell_type": "markdown",
   "metadata": {},
   "source": [
    "### Model 2\n",
    "1. Entropy based splits\n",
    "2. Max tree depth = 5"
   ]
  },
  {
   "cell_type": "code",
   "execution_count": 17,
   "metadata": {},
   "outputs": [
    {
     "name": "stdout",
     "output_type": "stream",
     "text": [
      "Train Accuracy = 0.8156424581005587\n",
      "Test Accuracy = 0.7532467532467533\n"
     ]
    }
   ],
   "source": [
    "dt2_entropy = tree.DecisionTreeClassifier(criterion='entropy',max_depth =5)\n",
    "dt2_entropy.fit(X_train, y_train)\n",
    "print('Train Accuracy =',dt2_entropy.score(X_train, y_train))\n",
    "print('Test Accuracy =',dt2_entropy.score(X_test, y_test))"
   ]
  },
  {
   "cell_type": "code",
   "execution_count": 18,
   "metadata": {},
   "outputs": [
    {
     "data": {
      "text/plain": [
       "'dt2_entropy_maxdept5.pdf'"
      ]
     },
     "execution_count": 18,
     "metadata": {},
     "output_type": "execute_result"
    }
   ],
   "source": [
    "dot_data = tree.export_graphviz(dt2_entropy, out_file=None,feature_names=X.columns,filled=True, rounded=True)\n",
    "graph = graphviz.Source(dot_data)\n",
    "graph.render(\"dt2_entropy_maxdept5\") "
   ]
  },
  {
   "cell_type": "markdown",
   "metadata": {},
   "source": [
    "### Model 3\n",
    "1. Entropy based splits\n",
    "2. Max leaf nodes = 35\n",
    "3. Minimum weight fraction at leaf node = 0.15"
   ]
  },
  {
   "cell_type": "code",
   "execution_count": 19,
   "metadata": {},
   "outputs": [
    {
     "name": "stdout",
     "output_type": "stream",
     "text": [
      "Train Accuracy = 0.7914338919925512\n",
      "Test Accuracy = 0.7619047619047619\n"
     ]
    }
   ],
   "source": [
    "dt3_fraction15 = tree.DecisionTreeClassifier(criterion='entropy',min_weight_fraction_leaf=0.11)\n",
    "dt3_fraction15.fit(X_train, y_train)\n",
    "print('Train Accuracy =',dt3_fraction15.score(X_train, y_train))\n",
    "print('Test Accuracy =',dt3_fraction15.score(X_test, y_test))"
   ]
  },
  {
   "cell_type": "code",
   "execution_count": 20,
   "metadata": {},
   "outputs": [
    {
     "data": {
      "text/plain": [
       "'dt3_fraction15.pdf'"
      ]
     },
     "execution_count": 20,
     "metadata": {},
     "output_type": "execute_result"
    }
   ],
   "source": [
    "dot_data = tree.export_graphviz(dt3_fraction15, out_file=None,feature_names=X.columns,filled=True, rounded=True)\n",
    "graph = graphviz.Source(dot_data)\n",
    "graph.render(\"dt3_fraction15\")"
   ]
  },
  {
   "cell_type": "markdown",
   "metadata": {},
   "source": [
    "### Which model/parameters to choose for best accuracy?\n",
    "### Will the model be really stable?"
   ]
  },
  {
   "cell_type": "markdown",
   "metadata": {},
   "source": [
    "## Randomized Hyper-parameter search with cross-validation"
   ]
  },
  {
   "cell_type": "code",
   "execution_count": 24,
   "metadata": {},
   "outputs": [
    {
     "name": "stdout",
     "output_type": "stream",
     "text": [
      "DecisionTreeClassifier(class_weight=None, criterion='entropy', max_depth=12,\n",
      "            max_features=None, max_leaf_nodes=29,\n",
      "            min_impurity_decrease=0.0, min_impurity_split=None,\n",
      "            min_samples_leaf=1, min_samples_split=0.045,\n",
      "            min_weight_fraction_leaf=0.034999999999999996, presort=False,\n",
      "            random_state=None, splitter='best')\n",
      "Train Accuracy = 0.7821229050279329\n",
      "Test Accuracy = 0.7229437229437229\n",
      "Train - Confusion Matrix\n",
      "[[325  24]\n",
      " [ 71 117]]\n",
      "Test - Confusion Matrix\n",
      "[[124  27]\n",
      " [ 37  43]]\n",
      "Train - Report\n",
      "             precision    recall  f1-score   support\n",
      "\n",
      "          0       0.82      0.93      0.87       349\n",
      "          1       0.83      0.62      0.71       188\n",
      "\n",
      "avg / total       0.82      0.82      0.82       537\n",
      "\n",
      "Test - Report\n",
      "             precision    recall  f1-score   support\n",
      "\n",
      "          0       0.77      0.82      0.79       151\n",
      "          1       0.61      0.54      0.57        80\n",
      "\n",
      "avg / total       0.72      0.72      0.72       231\n",
      "\n"
     ]
    }
   ],
   "source": [
    "from sklearn.model_selection import RandomizedSearchCV\n",
    "from sklearn import tree\n",
    "\n",
    "dt = tree.DecisionTreeClassifier() \n",
    "param_grid = {'criterion':['gini','entropy'],\n",
    "             'max_leaf_nodes': np.arange(5,30,1),\n",
    "             'min_samples_split': np.arange(0.001,0.1,0.001),\n",
    "             'max_depth':np.arange(3,15,1),\n",
    "             'min_weight_fraction_leaf':np.arange(0.01,0.25,0.005)}\n",
    "rsearch_acc = RandomizedSearchCV(estimator=dt, param_distributions=param_grid,n_iter=500)\n",
    "rsearch_acc.fit(X_train, y_train)\n",
    "print(rsearch_acc.best_estimator_)\n",
    "print('Train Accuracy =',rsearch_acc.best_score_)\n",
    "print('Test Accuracy =',rsearch_acc.score(X_test, y_test))\n",
    "\n",
    "print(\"Train - Confusion Matrix\")\n",
    "print(confusion_matrix(y_train,rsearch_acc.predict(X_train)))\n",
    "print(\"Test - Confusion Matrix\")\n",
    "print(confusion_matrix(y_test,rsearch_acc.predict(X_test)))\n",
    "\n",
    "print(\"Train - Report\")\n",
    "print(classification_report(y_train,rsearch_acc.predict(X_train)))\n",
    "print(\"Test - Report\")\n",
    "print(classification_report(y_test,rsearch_acc.predict(X_test)))"
   ]
  },
  {
   "cell_type": "markdown",
   "metadata": {},
   "source": [
    "## Optimizing for a spefic metric (Recall/Precision/F1)"
   ]
  },
  {
   "cell_type": "code",
   "execution_count": 25,
   "metadata": {},
   "outputs": [
    {
     "name": "stdout",
     "output_type": "stream",
     "text": [
      "DecisionTreeClassifier(class_weight=None, criterion='entropy', max_depth=14,\n",
      "            max_features=None, max_leaf_nodes=7, min_impurity_decrease=0.0,\n",
      "            min_impurity_split=None, min_samples_leaf=1,\n",
      "            min_samples_split=0.031,\n",
      "            min_weight_fraction_leaf=0.024999999999999998, presort=False,\n",
      "            random_state=None, splitter='best')\n",
      "Train Accuracy = 0.813744980982321\n",
      "Test Accuracy = 0.775\n",
      "Train - Confusion Matrix\n",
      "[[267  82]\n",
      " [ 33 155]]\n",
      "Test - Confusion Matrix\n",
      "[[104  47]\n",
      " [ 18  62]]\n",
      "Train - Report\n",
      "             precision    recall  f1-score   support\n",
      "\n",
      "          0       0.89      0.77      0.82       349\n",
      "          1       0.65      0.82      0.73       188\n",
      "\n",
      "avg / total       0.81      0.79      0.79       537\n",
      "\n",
      "Test - Confusion Matrix\n",
      "             precision    recall  f1-score   support\n",
      "\n",
      "          0       0.85      0.69      0.76       151\n",
      "          1       0.57      0.78      0.66        80\n",
      "\n",
      "avg / total       0.75      0.72      0.73       231\n",
      "\n"
     ]
    }
   ],
   "source": [
    "from sklearn.model_selection import RandomizedSearchCV\n",
    "from sklearn import tree\n",
    "from sklearn.metrics import recall_score, precision_score, f1_score, make_scorer\n",
    "\n",
    "score_metric = make_scorer(recall_score)\n",
    "# score_metric = make_scorer(precision_score)\n",
    "# score_metric = make_scorer(f1_score)\n",
    "\n",
    "dt = tree.DecisionTreeClassifier() \n",
    "param_grid = {'criterion':['gini','entropy'],\n",
    "             'max_leaf_nodes': np.arange(5,30,1),\n",
    "             'min_samples_split': np.arange(0.001,0.1,0.001),\n",
    "             'max_depth':np.arange(3,15,1),\n",
    "             'min_weight_fraction_leaf':np.arange(0.01,0.25,0.005)}\n",
    "rsearch = RandomizedSearchCV(estimator=dt, param_distributions=param_grid,n_iter=500,scoring=score_metric)\n",
    "rsearch.fit(X_train, y_train)\n",
    "print(rsearch.best_estimator_)\n",
    "print('Train Accuracy =',rsearch.best_score_)\n",
    "print('Test Accuracy =',rsearch.score(X_test, y_test))\n",
    "\n",
    "print(\"Train - Confusion Matrix\")\n",
    "print(confusion_matrix(y_train,rsearch.predict(X_train)))\n",
    "print(\"Test - Confusion Matrix\")\n",
    "print(confusion_matrix(y_test,rsearch.predict(X_test)))\n",
    "\n",
    "print(\"Train - Report\")\n",
    "print(classification_report(y_train,rsearch.predict(X_train)))\n",
    "print(\"Test - Confusion Matrix\")\n",
    "print(classification_report(y_test,rsearch.predict(X_test)))"
   ]
  },
  {
   "cell_type": "markdown",
   "metadata": {},
   "source": [
    "### Making predictions"
   ]
  },
  {
   "cell_type": "code",
   "execution_count": 26,
   "metadata": {},
   "outputs": [],
   "source": [
    "predicted= pd.DataFrame(rsearch.predict(X_train))\n",
    "diabetes['predicted'] = predicted\n",
    "diabetes.to_csv(\"diabetes_predictions.csv\")"
   ]
  }
 ],
 "metadata": {
  "kernelspec": {
   "display_name": "Python 3",
   "language": "python",
   "name": "python3"
  },
  "language_info": {
   "codemirror_mode": {
    "name": "ipython",
    "version": 3
   },
   "file_extension": ".py",
   "mimetype": "text/x-python",
   "name": "python",
   "nbconvert_exporter": "python",
   "pygments_lexer": "ipython3",
   "version": "3.6.3"
  }
 },
 "nbformat": 4,
 "nbformat_minor": 1
}
