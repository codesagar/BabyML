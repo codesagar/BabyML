{
 "cells": [
  {
   "cell_type": "markdown",
   "metadata": {},
   "source": [
    "# **<center>Statistics Practice Questions</center>**"
   ]
  },
  {
   "cell_type": "markdown",
   "metadata": {},
   "source": [
    "### 1. A population of 25-28 year-old males has a **mean salary of 29,321** with a **standard deviation of 2,120**. If a **sample of 100** men is taken, **what is the probability their mean salaries will be less than 29,000?**\n"
   ]
  },
  {
   "cell_type": "markdown",
   "metadata": {},
   "source": [
    "---\n",
    "### 2. The engines made by Ford for speedboats had an **average power of 220 HP** and **standard deviation of 15 HP**. A potential buyer intends to take a sample of forty engines and **will not place an order if the sample mean is less than 215 HP**. What is the probability that the buyer will not place an order?"
   ]
  },
  {
   "cell_type": "markdown",
   "metadata": {},
   "source": [
    "---\n",
    "### 3. A random **sample of 225** ROTE exams was selected from the past 25 batches and the number of students absent from each was recorded. We got the **average absences as 11.6** with **4.1 standard deviation**. Estimate the **90% confidence interval** for mean number of absences per tutorial over the past 25 batches. "
   ]
  },
  {
   "cell_type": "markdown",
   "metadata": {},
   "source": [
    "---\n",
    "### 4. A random **sample of 100** items is taken, producing a **sample mean of 49**. The **population std. deviation is: 4. 49**. Construct a **90% confidence interval** to estimate the population mean."
   ]
  },
  {
   "cell_type": "markdown",
   "metadata": {},
   "source": [
    "---\n",
    "### 5. The life in hours of a 75- watt light bulb is known to be normally distributed with **σ = 25 hours**. A random **sample of 100 bulbs** has a **mean life 1014 hours**. Construct a **95 % confidence interval** on the mean life."
   ]
  },
  {
   "cell_type": "markdown",
   "metadata": {},
   "source": [
    "---\n",
    "### 6. Suppose a manufacturer claims that the **mean lifetime of a light bulb is at least 10,000 hours**. In a **sample of 30 light bulbs**, it was found that **they only last 9,900 hours on average**. Assuming the **population standard deviation to be 120 hours**, at **0.05 significance level**, can we reject the claim by the manufacturer?"
   ]
  },
  {
   "cell_type": "markdown",
   "metadata": {},
   "source": [
    "---\n",
    "### 7. Click fraud has become a major concern as more and more companies advertise on the internet. When Google places an ad for a company with its search results, the company pays a fee to Google each time someone clicks on the link. That’s fine when it’s a person who’s interested in buying a product or service, but not so good when it’s a computer program pretending to be a customer. An analysis of **1200 clicks** coming into a company’s site during a week identified that **175 of these clicks are fraudulent**. Compute the confidence interval with **95% confidence** for the proportion of fraudulent clicks. "
   ]
  },
  {
   "cell_type": "markdown",
   "metadata": {},
   "source": [
    "---\n",
    "### 8. An outbreak of Salmonella-related illness was attributed to ice cream produced at a certain factory. Scientists measured the level of Salmonella in **9 randomly sampled batches** of icecream. The levels (in MPN/g) were: **0.593, 0.142, 0.329, 0.691, 0.231, 0.793, 0.519, 0.392, 0.418**. Is there evidence that the mean level of Salmonella in the ice cream is **greater than 0.4 MPN/g?**\n"
   ]
  },
  {
   "cell_type": "markdown",
   "metadata": {},
   "source": [
    "---\n",
    "### 9. Six subjects were given a drug (treatment group) and an additional six subjects a placebo (control group). Their reaction time to a stimulus was measured (in ms). The outcome of both the group as follows\n",
    "### **Control = 91, 87, 99, 77, 88, 91**\n",
    "### **Treat = 101, 110, 103, 93, 99, 104**\n",
    "### Test whether the drug has an effect or not (Assume higher reaction time is better ) ?"
   ]
  },
  {
   "cell_type": "markdown",
   "metadata": {},
   "source": [
    "---\n",
    "### 10. A study was performed to test whether cars get better mileage on premium gas than on regular gas. Each of 10 cars was first filled with either regular or premium gas, decided by a coin toss, and the mileage for that tank was recorded. The mileage was recorded again for the same cars using the other kind of gasoline. Test to determine whether cars get significantly better mileage with premium gas\n",
    "### **Reg : 16, 20, 21, 22, 23, 22, 27, 25, 27, 28**\n",
    "### **Prem : 19, 22, 24, 24, 25, 25, 26, 26, 28, 32**"
   ]
  },
  {
   "cell_type": "markdown",
   "metadata": {},
   "source": [
    "---\n",
    "### 11. Consider the hypothesis test of **Ho : σ 2 = 0.01** against **H1 : σ 2 ≠ 0.01**. **Sample size is 20** and **sample variance is 0.0153**. Test the hypothesis for **α = 0.05**."
   ]
  },
  {
   "cell_type": "markdown",
   "metadata": {},
   "source": [
    "---\n",
    "### 12. A laptop maker uses battery packs supplied by two companies, A and B. While both brands have the same average battery life between charges (LBC), the computer maker seems to receive more complaints about shorter LBC than expected for battery packs supplied by company B. The computer maker suspects that this could be caused by higher variance in LBC for Brand B. To check that, ten new battery packs from each brand are selected, installed on the same models of laptops, and the laptops are allowed to run until the battery packs are completely discharged. The following are the observed LBCs in hours.\n",
    "\n",
    "### **Brand A = 3.2, 3.4, 2.8, 3, 3, 3, 2.8, 2.9, 3, 3**\n",
    "### **Brand B = 3, 3.5, 2.9, 3.1, 2.3, 2, 3, 2.9, 3, 4.1**\n",
    "\n",
    "### Test, at the **10% level of significance**, whether the variance of both the brands are similar."
   ]
  }
 ],
 "metadata": {
  "kernelspec": {
   "display_name": "Python 3",
   "language": "python",
   "name": "python3"
  },
  "language_info": {
   "codemirror_mode": {
    "name": "ipython",
    "version": 3
   },
   "file_extension": ".py",
   "mimetype": "text/x-python",
   "name": "python",
   "nbconvert_exporter": "python",
   "pygments_lexer": "ipython3",
   "version": "3.6.5"
  },
  "varInspector": {
   "cols": {
    "lenName": 16,
    "lenType": 16,
    "lenVar": 40
   },
   "kernels_config": {
    "python": {
     "delete_cmd_postfix": "",
     "delete_cmd_prefix": "del ",
     "library": "var_list.py",
     "varRefreshCmd": "print(var_dic_list())"
    },
    "r": {
     "delete_cmd_postfix": ") ",
     "delete_cmd_prefix": "rm(",
     "library": "var_list.r",
     "varRefreshCmd": "cat(var_dic_list()) "
    }
   },
   "types_to_exclude": [
    "module",
    "function",
    "builtin_function_or_method",
    "instance",
    "_Feature"
   ],
   "window_display": false
  }
 },
 "nbformat": 4,
 "nbformat_minor": 2
}
