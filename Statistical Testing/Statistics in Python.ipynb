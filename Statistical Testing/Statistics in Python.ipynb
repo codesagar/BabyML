{
 "cells": [
  {
   "cell_type": "markdown",
   "metadata": {},
   "source": [
    "# Statistics in Python\n",
    "**SciPy - (pronounced “Sigh Pie”)** is an open-source software for mathematics, science, and engineering.\n",
    "\n",
    "- [SciPy - Documentation](https://docs.scipy.org/doc/scipy/reference/index.html)\n",
    "- [SciPy - Wiki](https://en.wikipedia.org/wiki/SciPy)\n",
    "\n",
    "**We shall be using [stats](https://docs.scipy.org/doc/scipy/reference/tutorial/stats.a) package and considering normal distribution of variable for the demonstration purposes.** However, the same can be replicated for other distributions with minimal change.\n",
    "\n",
    "**Following are frequently used parameters:**\n",
    "\n",
    "- x = numeric argument\n",
    "- p = probability argument\n",
    "- loc = mean\n",
    "- scale = standard deviation"
   ]
  },
  {
   "cell_type": "code",
   "execution_count": 1,
   "metadata": {
    "collapsed": true
   },
   "outputs": [],
   "source": [
    "from scipy.stats import norm    # Importing normal distribution class from stats module\n",
    "import numpy as np              # Importing numpy for basic math operations"
   ]
  },
  {
   "cell_type": "markdown",
   "metadata": {},
   "source": [
    "### 1. Probability Density Function\n",
    "**Returns probability of finding the number X in your distribution**\n",
    "\n",
    "- **R** : dnorm()\n",
    "- **Python** : norm.pdf(x, loc, scale)"
   ]
  },
  {
   "cell_type": "code",
   "execution_count": 2,
   "metadata": {
    "collapsed": false
   },
   "outputs": [
    {
     "data": {
      "text/plain": [
       "0.017603266338214976"
      ]
     },
     "execution_count": 2,
     "metadata": {},
     "output_type": "execute_result"
    }
   ],
   "source": [
    "norm.pdf(90,loc=100,scale=20)"
   ]
  },
  {
   "cell_type": "markdown",
   "metadata": {},
   "source": [
    "### 2. Cumulative Density Function (left tail probability)\n",
    "**Returns probability of finding a number less than X in your distribution**\n",
    "\n",
    "- **R** : pnorm()\n",
    "- **Python** : norm.cdf(x, loc, scale)"
   ]
  },
  {
   "cell_type": "code",
   "execution_count": 3,
   "metadata": {
    "collapsed": false
   },
   "outputs": [
    {
     "data": {
      "text/plain": [
       "0.3085375387259869"
      ]
     },
     "execution_count": 3,
     "metadata": {},
     "output_type": "execute_result"
    }
   ],
   "source": [
    "norm.cdf(90,loc=100,scale=20)"
   ]
  },
  {
   "cell_type": "markdown",
   "metadata": {},
   "source": [
    "### 3. Survival Function (right tail probability)\n",
    "**Returns probability of finding a number less than X in your distribution**\n",
    "\n",
    "- **R** : 1 - pnorm()\n",
    "- **Python** : norm.sf(x, loc, scale)"
   ]
  },
  {
   "cell_type": "code",
   "execution_count": 4,
   "metadata": {
    "collapsed": false
   },
   "outputs": [
    {
     "data": {
      "text/plain": [
       "0.3085375387259869"
      ]
     },
     "execution_count": 4,
     "metadata": {},
     "output_type": "execute_result"
    }
   ],
   "source": [
    "norm.cdf(90,loc=100,scale=20)"
   ]
  },
  {
   "cell_type": "markdown",
   "metadata": {},
   "source": [
    "### 4. Percent Point Function\n",
    "**Returns value associated to the probability P (aka P-th quantile) in your distribution**\n",
    "\n",
    "- **R** : qnorm()\n",
    "- **Python** : norm.ppf(x, loc, scale)\n",
    "\n"
   ]
  },
  {
   "cell_type": "code",
   "execution_count": 5,
   "metadata": {
    "collapsed": false
   },
   "outputs": [
    {
     "data": {
      "text/plain": [
       "90.00000007237368"
      ]
     },
     "execution_count": 5,
     "metadata": {},
     "output_type": "execute_result"
    }
   ],
   "source": [
    "norm.ppf(0.30853754,loc=100,scale=20)"
   ]
  },
  {
   "cell_type": "markdown",
   "metadata": {},
   "source": [
    "### Function Mapping [R => Python]"
   ]
  },
  {
   "cell_type": "markdown",
   "metadata": {},
   "source": [
    "- **dnorm   => norm.pdf()**\n",
    "\n",
    "- **pnorm   => norm.cdf()**\n",
    "\n",
    "- **1-pnorm => norm.sf()**\n",
    "\n",
    "- **qnorm   => norm.ppf()**"
   ]
  },
  {
   "cell_type": "markdown",
   "metadata": {},
   "source": [
    "# Statistical questions"
   ]
  },
  {
   "cell_type": "markdown",
   "metadata": {},
   "source": [
    "**Q1.** A guy at a counter serves customers standing in the queue one by one. Suppose that the service time X_i for customer i has mean E(X_i)=2 (minutes) and Var(X_i)=1. We assume that service times for different bank customers are independent. Let Y be the total time the guy spends serving 50 customers. Find P(90<Y<110) (E.g. - 0.99)\n",
    "\n",
    "**Ans in R**\n",
    "\n",
    "- pnorm(110,100,sqrt(50)) - pnorm(90,100,sqrt(50))\n",
    "\n",
    "**Ans in Python**\n"
   ]
  },
  {
   "cell_type": "code",
   "execution_count": 6,
   "metadata": {
    "collapsed": false
   },
   "outputs": [
    {
     "name": "stdout",
     "output_type": "stream",
     "text": [
      "0.8427007929497148\n"
     ]
    }
   ],
   "source": [
    "sd = np.sqrt(50)\n",
    "print(norm.cdf(x=110,loc=100,scale=sd) - norm.cdf(x=90,loc=100,scale=sd))"
   ]
  },
  {
   "cell_type": "markdown",
   "metadata": {},
   "source": [
    "**Q2**. A random sample of 100 items is taken, producing a sample mean of 49. The population SD is 4.49. Construct a 90% confidence interval to estimate the population mean. (E.g. - 45.33,53.45)\n",
    "\n",
    "**Ans in R**\n",
    "\n",
    "- qnorm(.05,49,4.49) and qnorm(.95,49,4.49)\n",
    "\n",
    "\n",
    "**Ans in Python**\n"
   ]
  },
  {
   "cell_type": "code",
   "execution_count": 7,
   "metadata": {
    "collapsed": false
   },
   "outputs": [
    {
     "name": "stdout",
     "output_type": "stream",
     "text": [
      "48.261460721498786\n",
      "49.738539278501214\n"
     ]
    }
   ],
   "source": [
    "sd = 4.49/np.sqrt(100)\n",
    "print(norm.ppf(q=0.05,loc=49,scale=sd))\n",
    "print(norm.ppf(q=0.95,loc=49,scale=sd))"
   ]
  },
  {
   "cell_type": "markdown",
   "metadata": {},
   "source": [
    "**Q3**. A random sample of 35 items is taken, producing a sample mean of 2.364 with a sample variance of 0.81. Assume x is normally distributed and construct a 90% confidence interval for the population mean.\n",
    "\n",
    "**Ans in R**\n",
    "\n",
    "- qnorm(.05,2.364,0.9/sqrt(35))\n",
    "- qnorm(.95,2.364,0.9/sqrt(35))\n",
    "\n",
    "**Ans in Python**\n"
   ]
  },
  {
   "cell_type": "code",
   "execution_count": 8,
   "metadata": {
    "collapsed": false
   },
   "outputs": [
    {
     "name": "stdout",
     "output_type": "stream",
     "text": [
      "2.1137720925797394\n",
      "2.6142279074202603\n"
     ]
    }
   ],
   "source": [
    "sd = 0.9/np.sqrt(35)\n",
    "print(norm.ppf(q=0.05,loc=2.364,scale=sd))\n",
    "print(norm.ppf(q=0.95,loc=2.364,scale=sd))"
   ]
  },
  {
   "cell_type": "markdown",
   "metadata": {},
   "source": [
    "**Q4**. Suppose a car manufacturer claims a model gets 25 mpg. A consumer group asks 40 owners of this model to calculate their mpg and the mean value was 22 with a standard deviation of 1.5.\n",
    "\n",
    "Give the z-score for this observation. Is the claim true? (Give your answer as \"z-score,Yes/No\". e.g. -1.99,Yes)\n",
    "\n",
    "\n",
    "**Ans in R**\n",
    "\n",
    "- (22-25)/(1.5/sqrt(40))\n",
    "- qnorm(pnorm(22,25,1.5/sqrt(40)))\n",
    "- No\n",
    "\n",
    "**Ans in Python**\n"
   ]
  },
  {
   "cell_type": "code",
   "execution_count": 9,
   "metadata": {
    "collapsed": false
   },
   "outputs": [
    {
     "data": {
      "text/plain": [
       "-12.649110640673518"
      ]
     },
     "execution_count": 9,
     "metadata": {},
     "output_type": "execute_result"
    }
   ],
   "source": [
    "sd = 1.5/np.sqrt(40)\n",
    "p = norm.cdf(x=22,loc=25,scale=sd)  ## Finding p-value\n",
    "norm.ppf(p)                         ## Finding z-score (p-th quantile value in a standard normal distribution) "
   ]
  },
  {
   "cell_type": "markdown",
   "metadata": {},
   "source": [
    "**Q5**. Suppose the mean weight of King Penguins found in an Antarctic colony last year was 15.4 kg. In a sample of 35 penguins same time this year in the same colony, the mean penguin weight is 14.6 kg. Assume the population standard deviation is 2.5 kg.\n",
    "\n",
    "What is the p-value for the given observation? At 0.05 significance level, can we reject the null hypothesis that the mean penguin weight does not differ from last year?\n",
    "\n",
    "**Ans in R**\n",
    "\n",
    "- pnorm(14.6,15.4,2.5/sqrt(35))\n",
    "- No (0.025 limits either side since its a two tail test)\n",
    "\n",
    "**Ans in Python**\n"
   ]
  },
  {
   "cell_type": "code",
   "execution_count": 10,
   "metadata": {
    "collapsed": false
   },
   "outputs": [
    {
     "data": {
      "text/plain": [
       "0.029169259343448172"
      ]
     },
     "execution_count": 10,
     "metadata": {},
     "output_type": "execute_result"
    }
   ],
   "source": [
    "sd = 2.5/np.sqrt(35)\n",
    "norm.cdf(14.6,loc=15.4,scale=sd)  ## Finding p-value"
   ]
  },
  {
   "cell_type": "markdown",
   "metadata": {},
   "source": [
    "**Q6**. A student, to test his luck, went to an examination unprepared.\n",
    "\n",
    "It was a MCQ type examination with two choices for each questions. There are 50 questions of which at least 20 are to be answered correctly to pass the test. What is the probability that he clears the exam?\n",
    "If each question has 4 choices instead of two, What is the probability that he clears the exam?\n",
    "\n",
    "**Note: Its binomial distribution**\n",
    "\n",
    "**Ans in R**\n",
    "\n",
    "- Case1: 1-pbinom(19,50,0.5)\n",
    "- Case2: 1-pbinom(19,50,0.25)\n",
    "\n",
    "\n",
    "**Ans in Python**\n"
   ]
  },
  {
   "cell_type": "code",
   "execution_count": 11,
   "metadata": {
    "collapsed": false
   },
   "outputs": [
    {
     "name": "stdout",
     "output_type": "stream",
     "text": [
      "Case 1\n",
      "0.9405397737202819\n",
      "0.9405397737202819\n",
      "\n",
      "Case 2\n",
      "0.013917608678660653\n",
      "0.01391760867866067\n"
     ]
    }
   ],
   "source": [
    "from scipy.stats import binom\n",
    "\n",
    "print(\"Case 1\")\n",
    "## Case 1 - 2 options (aka 50% probability of getting correct answer)\n",
    "\n",
    "print(1 - binom.cdf(k=19,n=50,p=0.5))  ## 1-probability of less than 19 correct answers\n",
    "print(binom.sf(k=19,n=50,p=0.5))       ## Cumulative probability for more that 19 correct answers\n",
    "\n",
    "## Case 2 - 4 options (aka 20% probability of getting correct answer)\n",
    "\n",
    "print(\"\\nCase 2\")\n",
    "print(1 - binom.cdf(k=19,n=50,p=0.25))  ## 1-probability of less than 19 correct answers\n",
    "print(binom.sf(k=19,n=50,p=0.25))       ## Cumulative probability for more that 19 correct answers\n"
   ]
  }
 ],
 "metadata": {
  "kernelspec": {
   "display_name": "Python 3",
   "language": "python",
   "name": "python3"
  },
  "language_info": {
   "codemirror_mode": {
    "name": "ipython",
    "version": 3
   },
   "file_extension": ".py",
   "mimetype": "text/x-python",
   "name": "python",
   "nbconvert_exporter": "python",
   "pygments_lexer": "ipython3",
   "version": "3.6.0"
  }
 },
 "nbformat": 4,
 "nbformat_minor": 2
}
