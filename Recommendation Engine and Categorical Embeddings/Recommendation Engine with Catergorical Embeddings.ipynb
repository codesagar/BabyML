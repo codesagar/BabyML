{
 "cells": [
  {
   "cell_type": "code",
   "execution_count": 1,
   "metadata": {},
   "outputs": [],
   "source": [
    "import os\n",
    "import pandas as pd\n",
    "import numpy as np\n",
    "PATH = os.getcwd()\n",
    "os.chdir(PATH)"
   ]
  },
  {
   "cell_type": "code",
   "execution_count": 2,
   "metadata": {},
   "outputs": [
    {
     "name": "stderr",
     "output_type": "stream",
     "text": [
      "/home/vivekb/.local/lib/python2.7/site-packages/h5py/__init__.py:36: FutureWarning: Conversion of the second argument of issubdtype from `float` to `np.floating` is deprecated. In future, it will be treated as `np.float64 == np.dtype(float).type`.\n",
      "  from ._conv import register_converters as _register_converters\n",
      "Using TensorFlow backend.\n",
      "/home/vivekb/.local/lib/python2.7/site-packages/cffi/model.py:531: UserWarning: 'point_conversion_form_t' has no values explicitly defined; guessing that it is equivalent to 'unsigned int'\n",
      "  % self._get_c_name())\n"
     ]
    }
   ],
   "source": [
    "from keras.models import Sequential, Model\n",
    "from keras.layers import Dense, Activation, Embedding, Flatten, Dropout\n",
    "from keras.layers import Input, concatenate\n",
    "from keras import regularizers, initializers\n",
    "from sklearn.model_selection import train_test_split"
   ]
  },
  {
   "cell_type": "code",
   "execution_count": 3,
   "metadata": {},
   "outputs": [],
   "source": [
    "rating=pd.read_csv(\"ratings.csv\")\n",
    "movie = pd.read_csv(\"movies.csv\")"
   ]
  },
  {
   "cell_type": "code",
   "execution_count": 4,
   "metadata": {
    "scrolled": true
   },
   "outputs": [
    {
     "name": "stdout",
     "output_type": "stream",
     "text": [
      "   userId  movieId  rating   timestamp\n",
      "0       1       31     2.5  1260759144\n",
      "1       1     1029     3.0  1260759179\n",
      "2       1     1061     3.0  1260759182\n",
      "3       1     1129     2.0  1260759185\n",
      "4       1     1172     4.0  1260759205\n",
      "userId         int64\n",
      "movieId        int64\n",
      "rating       float64\n",
      "timestamp      int64\n",
      "dtype: object\n",
      "   movieId                               title  \\\n",
      "0        1                    Toy Story (1995)   \n",
      "1        2                      Jumanji (1995)   \n",
      "2        3             Grumpier Old Men (1995)   \n",
      "3        4            Waiting to Exhale (1995)   \n",
      "4        5  Father of the Bride Part II (1995)   \n",
      "\n",
      "                                        genres  \n",
      "0  Adventure|Animation|Children|Comedy|Fantasy  \n",
      "1                   Adventure|Children|Fantasy  \n",
      "2                               Comedy|Romance  \n",
      "3                         Comedy|Drama|Romance  \n",
      "4                                       Comedy  \n",
      "movieId     int64\n",
      "title      object\n",
      "genres     object\n",
      "dtype: object\n"
     ]
    }
   ],
   "source": [
    "print(rating.head())\n",
    "print(rating.dtypes)\n",
    "print(movie.head())\n",
    "print(movie.dtypes)"
   ]
  },
  {
   "cell_type": "markdown",
   "metadata": {},
   "source": [
    "###### Convert attributes to right data types"
   ]
  },
  {
   "cell_type": "code",
   "execution_count": 5,
   "metadata": {},
   "outputs": [],
   "source": [
    "rating = rating.merge(movie,on='movieId',how='inner')"
   ]
  },
  {
   "cell_type": "code",
   "execution_count": 6,
   "metadata": {
    "scrolled": true
   },
   "outputs": [
    {
     "data": {
      "text/html": [
       "<div>\n",
       "<style scoped>\n",
       "    .dataframe tbody tr th:only-of-type {\n",
       "        vertical-align: middle;\n",
       "    }\n",
       "\n",
       "    .dataframe tbody tr th {\n",
       "        vertical-align: top;\n",
       "    }\n",
       "\n",
       "    .dataframe thead th {\n",
       "        text-align: right;\n",
       "    }\n",
       "</style>\n",
       "<table border=\"1\" class=\"dataframe\">\n",
       "  <thead>\n",
       "    <tr style=\"text-align: right;\">\n",
       "      <th></th>\n",
       "      <th>userId</th>\n",
       "      <th>movieId</th>\n",
       "      <th>rating</th>\n",
       "      <th>timestamp</th>\n",
       "      <th>title</th>\n",
       "      <th>genres</th>\n",
       "    </tr>\n",
       "  </thead>\n",
       "  <tbody>\n",
       "    <tr>\n",
       "      <th>0</th>\n",
       "      <td>1</td>\n",
       "      <td>31</td>\n",
       "      <td>2.5</td>\n",
       "      <td>1260759144</td>\n",
       "      <td>Dangerous Minds (1995)</td>\n",
       "      <td>Drama</td>\n",
       "    </tr>\n",
       "    <tr>\n",
       "      <th>1</th>\n",
       "      <td>7</td>\n",
       "      <td>31</td>\n",
       "      <td>3.0</td>\n",
       "      <td>851868750</td>\n",
       "      <td>Dangerous Minds (1995)</td>\n",
       "      <td>Drama</td>\n",
       "    </tr>\n",
       "    <tr>\n",
       "      <th>2</th>\n",
       "      <td>31</td>\n",
       "      <td>31</td>\n",
       "      <td>4.0</td>\n",
       "      <td>1273541953</td>\n",
       "      <td>Dangerous Minds (1995)</td>\n",
       "      <td>Drama</td>\n",
       "    </tr>\n",
       "    <tr>\n",
       "      <th>3</th>\n",
       "      <td>32</td>\n",
       "      <td>31</td>\n",
       "      <td>4.0</td>\n",
       "      <td>834828440</td>\n",
       "      <td>Dangerous Minds (1995)</td>\n",
       "      <td>Drama</td>\n",
       "    </tr>\n",
       "    <tr>\n",
       "      <th>4</th>\n",
       "      <td>36</td>\n",
       "      <td>31</td>\n",
       "      <td>3.0</td>\n",
       "      <td>847057202</td>\n",
       "      <td>Dangerous Minds (1995)</td>\n",
       "      <td>Drama</td>\n",
       "    </tr>\n",
       "  </tbody>\n",
       "</table>\n",
       "</div>"
      ],
      "text/plain": [
       "   userId  movieId  rating   timestamp                   title genres\n",
       "0       1       31     2.5  1260759144  Dangerous Minds (1995)  Drama\n",
       "1       7       31     3.0   851868750  Dangerous Minds (1995)  Drama\n",
       "2      31       31     4.0  1273541953  Dangerous Minds (1995)  Drama\n",
       "3      32       31     4.0   834828440  Dangerous Minds (1995)  Drama\n",
       "4      36       31     3.0   847057202  Dangerous Minds (1995)  Drama"
      ]
     },
     "execution_count": 6,
     "metadata": {},
     "output_type": "execute_result"
    }
   ],
   "source": [
    "rating.head()"
   ]
  },
  {
   "cell_type": "code",
   "execution_count": 7,
   "metadata": {},
   "outputs": [],
   "source": [
    "rating.userId = rating.userId.astype(\"category\")\n",
    "rating.movieId = rating.movieId.astype(\"category\")\n",
    "rating.genres = rating.genres.astype(\"category\")"
   ]
  },
  {
   "cell_type": "code",
   "execution_count": 8,
   "metadata": {},
   "outputs": [
    {
     "data": {
      "text/plain": [
       "userId       category\n",
       "movieId      category\n",
       "rating        float64\n",
       "timestamp       int64\n",
       "title          object\n",
       "genres       category\n",
       "dtype: object"
      ]
     },
     "execution_count": 8,
     "metadata": {},
     "output_type": "execute_result"
    }
   ],
   "source": [
    "rating.dtypes"
   ]
  },
  {
   "cell_type": "markdown",
   "metadata": {},
   "source": [
    "###### Check for Missing Values"
   ]
  },
  {
   "cell_type": "code",
   "execution_count": 9,
   "metadata": {},
   "outputs": [
    {
     "data": {
      "text/plain": [
       "userId       0\n",
       "movieId      0\n",
       "rating       0\n",
       "timestamp    0\n",
       "title        0\n",
       "genres       0\n",
       "dtype: int64"
      ]
     },
     "execution_count": 9,
     "metadata": {},
     "output_type": "execute_result"
    }
   ],
   "source": [
    "rating.isnull().sum()"
   ]
  },
  {
   "cell_type": "code",
   "execution_count": 10,
   "metadata": {},
   "outputs": [
    {
     "data": {
      "text/plain": [
       "array([  1,   2,   3,   4,   5,   6,   7,   8,   9,  10,  11,  12,  13,\n",
       "        14,  15,  16,  17,  18,  19,  20,  21,  22,  23,  24,  25,  26,\n",
       "        27,  28,  29,  30,  31,  32,  34,  35,  36,  37,  38,  39,  40,\n",
       "        41,  42,  43,  44,  45,  46,  47,  48,  49,  50,  52,  53,  54,\n",
       "        55,  57,  58,  59,  60,  61,  62,  63,  64,  65,  66,  68,  69,\n",
       "        70,  71,  72,  73,  74,  76,  77,  78,  79,  80,  81,  82,  83,\n",
       "        84,  85,  86,  87,  88,  89,  92,  93,  94,  95,  96,  97,  98,\n",
       "        99, 100, 101, 102, 103, 104, 105, 107, 108])"
      ]
     },
     "execution_count": 10,
     "metadata": {},
     "output_type": "execute_result"
    }
   ],
   "source": [
    "np.unique(rating.movieId.values)[0:100]"
   ]
  },
  {
   "cell_type": "code",
   "execution_count": 11,
   "metadata": {},
   "outputs": [
    {
     "data": {
      "text/plain": [
       "array(['(no genres listed)', 'Action', 'Action|Adventure',\n",
       "       'Action|Adventure|Animation',\n",
       "       'Action|Adventure|Animation|Children',\n",
       "       'Action|Adventure|Animation|Children|Comedy',\n",
       "       'Action|Adventure|Animation|Children|Comedy|Fantasy',\n",
       "       'Action|Adventure|Animation|Children|Comedy|IMAX',\n",
       "       'Action|Adventure|Animation|Children|Comedy|Romance',\n",
       "       'Action|Adventure|Animation|Children|Comedy|Sci-Fi'], dtype=object)"
      ]
     },
     "execution_count": 11,
     "metadata": {},
     "output_type": "execute_result"
    }
   ],
   "source": [
    "np.unique(rating.genres.values)[0:10]"
   ]
  },
  {
   "cell_type": "code",
   "execution_count": 12,
   "metadata": {},
   "outputs": [],
   "source": [
    "userid = rating.userId.cat.codes.values\n",
    "movieid = rating.movieId.cat.codes.values\n",
    "genreid = rating.genres.cat.codes.values"
   ]
  },
  {
   "cell_type": "code",
   "execution_count": 13,
   "metadata": {},
   "outputs": [
    {
     "data": {
      "text/plain": [
       "array([ 0,  1,  2,  3,  4,  5,  6,  7,  8,  9, 10, 11, 12, 13, 14, 15, 16,\n",
       "       17, 18, 19, 20, 21, 22, 23, 24, 25, 26, 27, 28, 29, 30, 31, 32, 33,\n",
       "       34, 35, 36, 37, 38, 39, 40, 41, 42, 43, 44, 45, 46, 47, 48, 49, 50,\n",
       "       51, 52, 53, 54, 55, 56, 57, 58, 59, 60, 61, 62, 63, 64, 65, 66, 67,\n",
       "       68, 69, 70, 71, 72, 73, 74, 75, 76, 77, 78, 79, 80, 81, 82, 83, 84,\n",
       "       85, 86, 87, 88, 89, 90, 91, 92, 93, 94, 95, 96, 97, 98, 99],\n",
       "      dtype=int16)"
      ]
     },
     "execution_count": 13,
     "metadata": {},
     "output_type": "execute_result"
    }
   ],
   "source": [
    "np.unique(genreid)[0:100]"
   ]
  },
  {
   "cell_type": "code",
   "execution_count": 14,
   "metadata": {},
   "outputs": [],
   "source": [
    "n_users = len(rating.userId.unique())\n",
    "n_movies = len(rating.movieId.unique())\n",
    "n_genres = len(rating.genres.unique())"
   ]
  },
  {
   "cell_type": "markdown",
   "metadata": {},
   "source": [
    "###### Adding Cat Code Values to original dataframe"
   ]
  },
  {
   "cell_type": "code",
   "execution_count": 15,
   "metadata": {},
   "outputs": [],
   "source": [
    "rating[\"userid_catcode\"]=userid\n",
    "rating[\"movieid_catcode\"]=movieid\n",
    "rating[\"genreid_catcode\"]=genreid"
   ]
  },
  {
   "cell_type": "code",
   "execution_count": 16,
   "metadata": {},
   "outputs": [],
   "source": [
    "embedding_dim = 50"
   ]
  },
  {
   "cell_type": "markdown",
   "metadata": {},
   "source": [
    "###### Define Metrics"
   ]
  },
  {
   "cell_type": "code",
   "execution_count": 17,
   "metadata": {},
   "outputs": [],
   "source": [
    "from keras import backend as K\n",
    "def mape_error(y_true, y_pred): \n",
    "    return K.mean((K.abs(y_pred - y_true)/y_true), axis=0) * 100"
   ]
  },
  {
   "cell_type": "code",
   "execution_count": 18,
   "metadata": {},
   "outputs": [],
   "source": [
    "def rmse_error(y_true, y_pred):\n",
    "        return K.sqrt(K.mean(K.square(y_pred - y_true), axis=0)) "
   ]
  },
  {
   "cell_type": "code",
   "execution_count": 19,
   "metadata": {},
   "outputs": [],
   "source": [
    "def mse_error(y_true, y_pred):\n",
    "        return K.mean(K.square(y_pred - y_true), axis=0) "
   ]
  },
  {
   "cell_type": "markdown",
   "metadata": {},
   "source": [
    "###### Split the data to Train and Test datasets"
   ]
  },
  {
   "cell_type": "code",
   "execution_count": 20,
   "metadata": {},
   "outputs": [],
   "source": [
    "train_userid, test_userid, \\\n",
    "train_movieid, test_movieid, \\\n",
    "train_genreid, test_genreid, \\\n",
    "train_y, test_y = train_test_split(userid,\n",
    "                                   movieid, \n",
    "                                   genreid,\n",
    "                                   rating.rating, \n",
    "                                   test_size=0.3, random_state=2)"
   ]
  },
  {
   "cell_type": "code",
   "execution_count": 21,
   "metadata": {},
   "outputs": [
    {
     "data": {
      "text/plain": [
       "(70002,)"
      ]
     },
     "execution_count": 21,
     "metadata": {},
     "output_type": "execute_result"
    }
   ],
   "source": [
    "train_y.shape"
   ]
  },
  {
   "cell_type": "code",
   "execution_count": 22,
   "metadata": {
    "scrolled": true
   },
   "outputs": [
    {
     "name": "stderr",
     "output_type": "stream",
     "text": [
      "/nfsroot/data/home/vivekb/.local/lib/python2.7/site-packages/ipykernel_launcher.py:1: FutureWarning: reshape is deprecated and will raise in a subsequent release. Please use .values.reshape(...) instead\n",
      "  \"\"\"Entry point for launching an IPython kernel.\n",
      "/nfsroot/data/home/vivekb/.local/lib/python2.7/site-packages/ipykernel_launcher.py:2: FutureWarning: reshape is deprecated and will raise in a subsequent release. Please use .values.reshape(...) instead\n",
      "  \n"
     ]
    }
   ],
   "source": [
    "train_y = train_y.reshape((-1,1))\n",
    "test_y = test_y.reshape((-1,1))"
   ]
  },
  {
   "cell_type": "code",
   "execution_count": 23,
   "metadata": {},
   "outputs": [
    {
     "data": {
      "text/plain": [
       "array([[4.5],\n",
       "       [3. ],\n",
       "       [1. ],\n",
       "       [5. ],\n",
       "       [4. ],\n",
       "       [2.5],\n",
       "       [2. ],\n",
       "       [2. ],\n",
       "       [2. ],\n",
       "       [5. ]])"
      ]
     },
     "execution_count": 23,
     "metadata": {},
     "output_type": "execute_result"
    }
   ],
   "source": [
    "train_y.shape\n",
    "train_y[0:10]"
   ]
  },
  {
   "cell_type": "markdown",
   "metadata": {},
   "source": [
    "###### Embedding UserIds"
   ]
  },
  {
   "cell_type": "code",
   "execution_count": 24,
   "metadata": {},
   "outputs": [],
   "source": [
    "# encoder_UserID = Sequential()\n",
    "# encoder_UserID.add(Embedding(n_users, embedding_dim, input_length=1,embeddings_regularizer=regularizers.l2(0.00001)))"
   ]
  },
  {
   "cell_type": "markdown",
   "metadata": {},
   "source": [
    "###### Embedding MovieIds"
   ]
  },
  {
   "cell_type": "code",
   "execution_count": 25,
   "metadata": {},
   "outputs": [],
   "source": [
    "# encoder_MovieID = Sequential()\n",
    "# encoder_MovieID.add(Embedding(n_movies, embedding_dim, input_length=1,embeddings_regularizer=regularizers.l2(0.00001)))"
   ]
  },
  {
   "cell_type": "markdown",
   "metadata": {},
   "source": [
    "###### Embedding Genreids"
   ]
  },
  {
   "cell_type": "code",
   "execution_count": 26,
   "metadata": {},
   "outputs": [],
   "source": [
    "# encoder_genreID = Sequential()\n",
    "# encoder_genreID.add(Embedding(n_genres, embedding_dim, input_length=1,embeddings_regularizer=regularizers.l2(0.00001)))\n"
   ]
  },
  {
   "cell_type": "markdown",
   "metadata": {},
   "source": [
    "##### Define MLP "
   ]
  },
  {
   "cell_type": "code",
   "execution_count": 27,
   "metadata": {},
   "outputs": [],
   "source": [
    "n_users = 10000\n",
    "embedding_dim = 50\n",
    "\n",
    "# i = 1x10000\n",
    "# w = 10000x50\n",
    "\n",
    "# shape=(100,) --> 1D array"
   ]
  },
  {
   "cell_type": "code",
   "execution_count": 28,
   "metadata": {},
   "outputs": [],
   "source": [
    "user_inp = Input(shape=(1, ))\n",
    "user_mbd = Embedding(n_users, embedding_dim)(user_inp)\n",
    "\n",
    "movie_inp = Input(shape=(1, ))\n",
    "movie_mbd = Embedding(n_movies, embedding_dim)(movie_inp)\n",
    "\n",
    "genre_inp = Input(shape=(1, ))\n",
    "genre_mbd = Embedding(n_genres, embedding_dim)(genre_inp)\n",
    "\n",
    "merged = concatenate([user_mbd, movie_mbd, genre_mbd])\n",
    "fc1 = Dense(100,activation='relu')(merged)\n",
    "fc2 = Dense(1)(fc1)\n",
    "\n",
    "model = Model(inputs=[user_inp, movie_inp, genre_inp], outputs=fc2)\n",
    "model.compile(optimizer='adam', loss='mse', metrics=[mse_error,rmse_error])"
   ]
  },
  {
   "cell_type": "markdown",
   "metadata": {},
   "source": [
    "###### Train and fit the model"
   ]
  },
  {
   "cell_type": "code",
   "execution_count": 29,
   "metadata": {},
   "outputs": [
    {
     "name": "stdout",
     "output_type": "stream",
     "text": [
      "__________________________________________________________________________________________________\n",
      "Layer (type)                    Output Shape         Param #     Connected to                     \n",
      "==================================================================================================\n",
      "input_1 (InputLayer)            (None, 1)            0                                            \n",
      "__________________________________________________________________________________________________\n",
      "input_2 (InputLayer)            (None, 1)            0                                            \n",
      "__________________________________________________________________________________________________\n",
      "input_3 (InputLayer)            (None, 1)            0                                            \n",
      "__________________________________________________________________________________________________\n",
      "embedding_1 (Embedding)         (None, 1, 50)        500000      input_1[0][0]                    \n",
      "__________________________________________________________________________________________________\n",
      "embedding_2 (Embedding)         (None, 1, 50)        453300      input_2[0][0]                    \n",
      "__________________________________________________________________________________________________\n",
      "embedding_3 (Embedding)         (None, 1, 50)        45050       input_3[0][0]                    \n",
      "__________________________________________________________________________________________________\n",
      "concatenate_1 (Concatenate)     (None, 1, 150)       0           embedding_1[0][0]                \n",
      "                                                                 embedding_2[0][0]                \n",
      "                                                                 embedding_3[0][0]                \n",
      "__________________________________________________________________________________________________\n",
      "dense_1 (Dense)                 (None, 1, 100)       15100       concatenate_1[0][0]              \n",
      "__________________________________________________________________________________________________\n",
      "dense_2 (Dense)                 (None, 1, 1)         101         dense_1[0][0]                    \n",
      "==================================================================================================\n",
      "Total params: 1,013,551\n",
      "Trainable params: 1,013,551\n",
      "Non-trainable params: 0\n",
      "__________________________________________________________________________________________________\n"
     ]
    }
   ],
   "source": [
    "model.summary()"
   ]
  },
  {
   "cell_type": "code",
   "execution_count": 30,
   "metadata": {},
   "outputs": [
    {
     "name": "stdout",
     "output_type": "stream",
     "text": [
      "Train on 70002 samples, validate on 30002 samples\n",
      "Epoch 1/100\n",
      "70002/70002 [==============================] - 49s 700us/step - loss: 3.9563 - mse_error: 3.9563 - rmse_error: 1.7124 - val_loss: 0.8365 - val_mse_error: 0.8365 - val_rmse_error: 0.9140\n",
      "Epoch 2/100\n",
      "70002/70002 [==============================] - 1s 9us/step - loss: 0.7810 - mse_error: 0.7810 - rmse_error: 0.8831 - val_loss: 0.8014 - val_mse_error: 0.8014 - val_rmse_error: 0.8945\n",
      "Epoch 3/100\n",
      "70002/70002 [==============================] - 1s 10us/step - loss: 0.7353 - mse_error: 0.7353 - rmse_error: 0.8568 - val_loss: 0.8077 - val_mse_error: 0.8077 - val_rmse_error: 0.8980\n",
      "Epoch 4/100\n",
      "70002/70002 [==============================] - 1s 10us/step - loss: 0.7174 - mse_error: 0.7174 - rmse_error: 0.8463 - val_loss: 0.8099 - val_mse_error: 0.8099 - val_rmse_error: 0.8992\n",
      "Epoch 5/100\n",
      "70002/70002 [==============================] - 1s 10us/step - loss: 0.7114 - mse_error: 0.7114 - rmse_error: 0.8428 - val_loss: 0.8121 - val_mse_error: 0.8121 - val_rmse_error: 0.9004\n",
      "Epoch 6/100\n",
      "70002/70002 [==============================] - 1s 9us/step - loss: 0.7053 - mse_error: 0.7053 - rmse_error: 0.8390 - val_loss: 0.8135 - val_mse_error: 0.8135 - val_rmse_error: 0.9012\n",
      "Epoch 7/100\n",
      "70002/70002 [==============================] - 1s 9us/step - loss: 0.6980 - mse_error: 0.6980 - rmse_error: 0.8348 - val_loss: 0.8117 - val_mse_error: 0.8117 - val_rmse_error: 0.9002\n",
      "Epoch 8/100\n",
      "70002/70002 [==============================] - 1s 8us/step - loss: 0.6954 - mse_error: 0.6954 - rmse_error: 0.8331 - val_loss: 0.8138 - val_mse_error: 0.8138 - val_rmse_error: 0.9013\n",
      "Epoch 9/100\n",
      "70002/70002 [==============================] - 1s 9us/step - loss: 0.6940 - mse_error: 0.6940 - rmse_error: 0.8324 - val_loss: 0.8216 - val_mse_error: 0.8216 - val_rmse_error: 0.9056\n",
      "Epoch 10/100\n",
      "70002/70002 [==============================] - 1s 10us/step - loss: 0.6912 - mse_error: 0.6912 - rmse_error: 0.8306 - val_loss: 0.8119 - val_mse_error: 0.8119 - val_rmse_error: 0.9003\n",
      "Epoch 11/100\n",
      "70002/70002 [==============================] - 1s 10us/step - loss: 0.6886 - mse_error: 0.6886 - rmse_error: 0.8292 - val_loss: 0.8128 - val_mse_error: 0.8128 - val_rmse_error: 0.9008\n",
      "Epoch 12/100\n",
      "70002/70002 [==============================] - 1s 8us/step - loss: 0.6842 - mse_error: 0.6842 - rmse_error: 0.8265 - val_loss: 0.8125 - val_mse_error: 0.8125 - val_rmse_error: 0.9007\n",
      "Epoch 13/100\n",
      "70002/70002 [==============================] - 1s 9us/step - loss: 0.6833 - mse_error: 0.6833 - rmse_error: 0.8259 - val_loss: 0.8152 - val_mse_error: 0.8152 - val_rmse_error: 0.9021\n",
      "Epoch 14/100\n",
      "70002/70002 [==============================] - 1s 10us/step - loss: 0.6806 - mse_error: 0.6806 - rmse_error: 0.8244 - val_loss: 0.8065 - val_mse_error: 0.8065 - val_rmse_error: 0.8972\n",
      "Epoch 15/100\n",
      "70002/70002 [==============================] - 1s 9us/step - loss: 0.6666 - mse_error: 0.6666 - rmse_error: 0.8157 - val_loss: 0.8167 - val_mse_error: 0.8167 - val_rmse_error: 0.9030\n",
      "Epoch 16/100\n",
      "70002/70002 [==============================] - 1s 8us/step - loss: 0.6666 - mse_error: 0.6666 - rmse_error: 0.8157 - val_loss: 0.8073 - val_mse_error: 0.8073 - val_rmse_error: 0.8977\n",
      "Epoch 17/100\n",
      "70002/70002 [==============================] - 1s 8us/step - loss: 0.6527 - mse_error: 0.6527 - rmse_error: 0.8072 - val_loss: 0.8121 - val_mse_error: 0.8121 - val_rmse_error: 0.9004\n",
      "Epoch 18/100\n",
      "70002/70002 [==============================] - 1s 8us/step - loss: 0.6436 - mse_error: 0.6436 - rmse_error: 0.8015 - val_loss: 0.8112 - val_mse_error: 0.8112 - val_rmse_error: 0.8999\n",
      "Epoch 19/100\n",
      "70002/70002 [==============================] - 1s 8us/step - loss: 0.6344 - mse_error: 0.6344 - rmse_error: 0.7957 - val_loss: 0.8162 - val_mse_error: 0.8162 - val_rmse_error: 0.9027\n",
      "Epoch 20/100\n",
      "70002/70002 [==============================] - 1s 8us/step - loss: 0.6258 - mse_error: 0.6258 - rmse_error: 0.7903 - val_loss: 0.8259 - val_mse_error: 0.8259 - val_rmse_error: 0.9081\n",
      "Epoch 21/100\n",
      "70002/70002 [==============================] - 1s 8us/step - loss: 0.6293 - mse_error: 0.6293 - rmse_error: 0.7925 - val_loss: 0.8224 - val_mse_error: 0.8224 - val_rmse_error: 0.9062\n",
      "Epoch 22/100\n",
      "70002/70002 [==============================] - 1s 9us/step - loss: 0.6203 - mse_error: 0.6203 - rmse_error: 0.7868 - val_loss: 0.8328 - val_mse_error: 0.8328 - val_rmse_error: 0.9119\n",
      "Epoch 23/100\n",
      "  500/70002 [..............................] - ETA: 0s - loss: 0.5701 - mse_error: 0.5701 - rmse_error: 0.7551"
     ]
    },
    {
     "ename": "KeyboardInterrupt",
     "evalue": "",
     "output_type": "error",
     "traceback": [
      "\u001b[0;31m---------------------------------------------------------------------------\u001b[0m",
      "\u001b[0;31mKeyboardInterrupt\u001b[0m                         Traceback (most recent call last)",
      "\u001b[0;32m<ipython-input-30-26accdca81da>\u001b[0m in \u001b[0;36m<module>\u001b[0;34m()\u001b[0m\n\u001b[0;32m----> 1\u001b[0;31m \u001b[0mmodel\u001b[0m\u001b[0;34m.\u001b[0m\u001b[0mfit\u001b[0m\u001b[0;34m(\u001b[0m\u001b[0;34m[\u001b[0m\u001b[0mtrain_userid\u001b[0m\u001b[0;34m,\u001b[0m\u001b[0mtrain_movieid\u001b[0m\u001b[0;34m,\u001b[0m\u001b[0mtrain_genreid\u001b[0m\u001b[0;34m]\u001b[0m\u001b[0;34m,\u001b[0m \u001b[0mtrain_y\u001b[0m\u001b[0;34m.\u001b[0m\u001b[0mreshape\u001b[0m\u001b[0;34m(\u001b[0m\u001b[0;34m-\u001b[0m\u001b[0;36m1\u001b[0m\u001b[0;34m,\u001b[0m\u001b[0;36m1\u001b[0m\u001b[0;34m,\u001b[0m\u001b[0;36m1\u001b[0m\u001b[0;34m)\u001b[0m\u001b[0;34m,\u001b[0m \u001b[0mepochs\u001b[0m\u001b[0;34m=\u001b[0m\u001b[0;36m100\u001b[0m\u001b[0;34m,\u001b[0m \u001b[0mverbose\u001b[0m\u001b[0;34m=\u001b[0m\u001b[0;36m1\u001b[0m\u001b[0;34m,\u001b[0m\u001b[0mbatch_size\u001b[0m\u001b[0;34m=\u001b[0m\u001b[0;36m500\u001b[0m\u001b[0;34m,\u001b[0m\u001b[0mvalidation_data\u001b[0m\u001b[0;34m=\u001b[0m\u001b[0;34m(\u001b[0m\u001b[0;34m[\u001b[0m\u001b[0mtest_userid\u001b[0m\u001b[0;34m,\u001b[0m\u001b[0mtest_movieid\u001b[0m\u001b[0;34m,\u001b[0m\u001b[0mtest_genreid\u001b[0m\u001b[0;34m]\u001b[0m\u001b[0;34m,\u001b[0m \u001b[0mtest_y\u001b[0m\u001b[0;34m.\u001b[0m\u001b[0mreshape\u001b[0m\u001b[0;34m(\u001b[0m\u001b[0;34m-\u001b[0m\u001b[0;36m1\u001b[0m\u001b[0;34m,\u001b[0m\u001b[0;36m1\u001b[0m\u001b[0;34m,\u001b[0m\u001b[0;36m1\u001b[0m\u001b[0;34m)\u001b[0m\u001b[0;34m)\u001b[0m\u001b[0;34m)\u001b[0m\u001b[0;34m\u001b[0m\u001b[0m\n\u001b[0m",
      "\u001b[0;32m/home/vivekb/.local/lib/python2.7/site-packages/keras/engine/training.pyc\u001b[0m in \u001b[0;36mfit\u001b[0;34m(self, x, y, batch_size, epochs, verbose, callbacks, validation_split, validation_data, shuffle, class_weight, sample_weight, initial_epoch, steps_per_epoch, validation_steps, **kwargs)\u001b[0m\n\u001b[1;32m   1037\u001b[0m                                         \u001b[0minitial_epoch\u001b[0m\u001b[0;34m=\u001b[0m\u001b[0minitial_epoch\u001b[0m\u001b[0;34m,\u001b[0m\u001b[0;34m\u001b[0m\u001b[0m\n\u001b[1;32m   1038\u001b[0m                                         \u001b[0msteps_per_epoch\u001b[0m\u001b[0;34m=\u001b[0m\u001b[0msteps_per_epoch\u001b[0m\u001b[0;34m,\u001b[0m\u001b[0;34m\u001b[0m\u001b[0m\n\u001b[0;32m-> 1039\u001b[0;31m                                         validation_steps=validation_steps)\n\u001b[0m\u001b[1;32m   1040\u001b[0m \u001b[0;34m\u001b[0m\u001b[0m\n\u001b[1;32m   1041\u001b[0m     def evaluate(self, x=None, y=None,\n",
      "\u001b[0;32m/home/vivekb/.local/lib/python2.7/site-packages/keras/engine/training_arrays.pyc\u001b[0m in \u001b[0;36mfit_loop\u001b[0;34m(model, f, ins, out_labels, batch_size, epochs, verbose, callbacks, val_f, val_ins, shuffle, callback_metrics, initial_epoch, steps_per_epoch, validation_steps)\u001b[0m\n\u001b[1;32m    197\u001b[0m                     \u001b[0mins_batch\u001b[0m\u001b[0;34m[\u001b[0m\u001b[0mi\u001b[0m\u001b[0;34m]\u001b[0m \u001b[0;34m=\u001b[0m \u001b[0mins_batch\u001b[0m\u001b[0;34m[\u001b[0m\u001b[0mi\u001b[0m\u001b[0;34m]\u001b[0m\u001b[0;34m.\u001b[0m\u001b[0mtoarray\u001b[0m\u001b[0;34m(\u001b[0m\u001b[0;34m)\u001b[0m\u001b[0;34m\u001b[0m\u001b[0m\n\u001b[1;32m    198\u001b[0m \u001b[0;34m\u001b[0m\u001b[0m\n\u001b[0;32m--> 199\u001b[0;31m                 \u001b[0mouts\u001b[0m \u001b[0;34m=\u001b[0m \u001b[0mf\u001b[0m\u001b[0;34m(\u001b[0m\u001b[0mins_batch\u001b[0m\u001b[0;34m)\u001b[0m\u001b[0;34m\u001b[0m\u001b[0m\n\u001b[0m\u001b[1;32m    200\u001b[0m                 \u001b[0mouts\u001b[0m \u001b[0;34m=\u001b[0m \u001b[0mto_list\u001b[0m\u001b[0;34m(\u001b[0m\u001b[0mouts\u001b[0m\u001b[0;34m)\u001b[0m\u001b[0;34m\u001b[0m\u001b[0m\n\u001b[1;32m    201\u001b[0m                 \u001b[0;32mfor\u001b[0m \u001b[0ml\u001b[0m\u001b[0;34m,\u001b[0m \u001b[0mo\u001b[0m \u001b[0;32min\u001b[0m \u001b[0mzip\u001b[0m\u001b[0;34m(\u001b[0m\u001b[0mout_labels\u001b[0m\u001b[0;34m,\u001b[0m \u001b[0mouts\u001b[0m\u001b[0;34m)\u001b[0m\u001b[0;34m:\u001b[0m\u001b[0;34m\u001b[0m\u001b[0m\n",
      "\u001b[0;32m/home/vivekb/.local/lib/python2.7/site-packages/keras/backend/tensorflow_backend.pyc\u001b[0m in \u001b[0;36m__call__\u001b[0;34m(self, inputs)\u001b[0m\n\u001b[1;32m   2695\u001b[0m \u001b[0;34m\u001b[0m\u001b[0m\n\u001b[1;32m   2696\u001b[0m     \u001b[0;32mdef\u001b[0m \u001b[0m__call__\u001b[0m\u001b[0;34m(\u001b[0m\u001b[0mself\u001b[0m\u001b[0;34m,\u001b[0m \u001b[0minputs\u001b[0m\u001b[0;34m)\u001b[0m\u001b[0;34m:\u001b[0m\u001b[0;34m\u001b[0m\u001b[0m\n\u001b[0;32m-> 2697\u001b[0;31m         \u001b[0;32mif\u001b[0m \u001b[0mhasattr\u001b[0m\u001b[0;34m(\u001b[0m\u001b[0mget_session\u001b[0m\u001b[0;34m(\u001b[0m\u001b[0;34m)\u001b[0m\u001b[0;34m,\u001b[0m \u001b[0;34m'_make_callable_from_options'\u001b[0m\u001b[0;34m)\u001b[0m\u001b[0;34m:\u001b[0m\u001b[0;34m\u001b[0m\u001b[0m\n\u001b[0m\u001b[1;32m   2698\u001b[0m             \u001b[0;32mif\u001b[0m \u001b[0mpy_any\u001b[0m\u001b[0;34m(\u001b[0m\u001b[0mis_sparse\u001b[0m\u001b[0;34m(\u001b[0m\u001b[0mx\u001b[0m\u001b[0;34m)\u001b[0m \u001b[0;32mfor\u001b[0m \u001b[0mx\u001b[0m \u001b[0;32min\u001b[0m \u001b[0mself\u001b[0m\u001b[0;34m.\u001b[0m\u001b[0minputs\u001b[0m\u001b[0;34m)\u001b[0m\u001b[0;34m:\u001b[0m\u001b[0;34m\u001b[0m\u001b[0m\n\u001b[1;32m   2699\u001b[0m                 \u001b[0;32mif\u001b[0m \u001b[0mpy_any\u001b[0m\u001b[0;34m(\u001b[0m\u001b[0mis_tensor\u001b[0m\u001b[0;34m(\u001b[0m\u001b[0mx\u001b[0m\u001b[0;34m)\u001b[0m \u001b[0;32mfor\u001b[0m \u001b[0mx\u001b[0m \u001b[0;32min\u001b[0m \u001b[0minputs\u001b[0m\u001b[0;34m)\u001b[0m\u001b[0;34m:\u001b[0m\u001b[0;34m\u001b[0m\u001b[0m\n",
      "\u001b[0;32m/home/vivekb/.local/lib/python2.7/site-packages/keras/backend/tensorflow_backend.pyc\u001b[0m in \u001b[0;36mget_session\u001b[0;34m()\u001b[0m\n\u001b[1;32m    190\u001b[0m             \u001b[0mvariables\u001b[0m \u001b[0;34m=\u001b[0m \u001b[0mtf\u001b[0m\u001b[0;34m.\u001b[0m\u001b[0mglobal_variables\u001b[0m\u001b[0;34m(\u001b[0m\u001b[0;34m)\u001b[0m\u001b[0;34m\u001b[0m\u001b[0m\n\u001b[1;32m    191\u001b[0m             \u001b[0mcandidate_vars\u001b[0m \u001b[0;34m=\u001b[0m \u001b[0;34m[\u001b[0m\u001b[0;34m]\u001b[0m\u001b[0;34m\u001b[0m\u001b[0m\n\u001b[0;32m--> 192\u001b[0;31m             \u001b[0;32mfor\u001b[0m \u001b[0mv\u001b[0m \u001b[0;32min\u001b[0m \u001b[0mvariables\u001b[0m\u001b[0;34m:\u001b[0m\u001b[0;34m\u001b[0m\u001b[0m\n\u001b[0m\u001b[1;32m    193\u001b[0m                 \u001b[0;32mif\u001b[0m \u001b[0;32mnot\u001b[0m \u001b[0mgetattr\u001b[0m\u001b[0;34m(\u001b[0m\u001b[0mv\u001b[0m\u001b[0;34m,\u001b[0m \u001b[0;34m'_keras_initialized'\u001b[0m\u001b[0;34m,\u001b[0m \u001b[0mFalse\u001b[0m\u001b[0;34m)\u001b[0m\u001b[0;34m:\u001b[0m\u001b[0;34m\u001b[0m\u001b[0m\n\u001b[1;32m    194\u001b[0m                     \u001b[0mcandidate_vars\u001b[0m\u001b[0;34m.\u001b[0m\u001b[0mappend\u001b[0m\u001b[0;34m(\u001b[0m\u001b[0mv\u001b[0m\u001b[0;34m)\u001b[0m\u001b[0;34m\u001b[0m\u001b[0m\n",
      "\u001b[0;31mKeyboardInterrupt\u001b[0m: "
     ]
    }
   ],
   "source": [
    "model.fit([train_userid,train_movieid,train_genreid], train_y.reshape(-1,1,1), epochs=100, verbose=1,batch_size=500,validation_data=([test_userid,test_movieid,test_genreid], test_y.reshape(-1,1,1)))"
   ]
  },
  {
   "cell_type": "markdown",
   "metadata": {},
   "source": [
    "###### Evaluating Scores Manually"
   ]
  },
  {
   "cell_type": "code",
   "execution_count": 31,
   "metadata": {},
   "outputs": [
    {
     "name": "stdout",
     "output_type": "stream",
     "text": [
      "30002/30002 [==============================] - 4s 145us/step\n",
      "[0.8623999412294531, 0.8623999412294531, 0.9179448069719368]\n"
     ]
    }
   ],
   "source": [
    "scores= model.evaluate([test_userid,test_movieid,test_genreid],test_y.reshape(-1,1,1))\n",
    "print(scores)"
   ]
  },
  {
   "cell_type": "code",
   "execution_count": 32,
   "metadata": {},
   "outputs": [],
   "source": [
    "test_pred = model.predict([test_userid,test_movieid,test_genreid])"
   ]
  },
  {
   "cell_type": "code",
   "execution_count": 33,
   "metadata": {},
   "outputs": [
    {
     "name": "stdout",
     "output_type": "stream",
     "text": [
      "('mse_score:', 0.8623999425777259)\n"
     ]
    }
   ],
   "source": [
    "mse_score = np.mean(np.square(test_pred.reshape(-1,1) - test_y))\n",
    "print(\"mse_score:\",mse_score)"
   ]
  },
  {
   "cell_type": "markdown",
   "metadata": {},
   "source": [
    "###### Calculate MSE and RMSE Manually"
   ]
  },
  {
   "cell_type": "code",
   "execution_count": 34,
   "metadata": {},
   "outputs": [
    {
     "name": "stdout",
     "output_type": "stream",
     "text": [
      "('rmse_score:', 0.928654910382606)\n"
     ]
    }
   ],
   "source": [
    "rmse_score = np.sqrt(np.mean(np.square(test_pred.reshape(-1,1) - test_y)))\n",
    "print(\"rmse_score:\",rmse_score)\n"
   ]
  },
  {
   "cell_type": "markdown",
   "metadata": {},
   "source": [
    "## Developing Recommendations"
   ]
  },
  {
   "cell_type": "markdown",
   "metadata": {},
   "source": [
    "###### Extracting/Predicting user embeddings"
   ]
  },
  {
   "cell_type": "code",
   "execution_count": 35,
   "metadata": {},
   "outputs": [],
   "source": [
    "encoder_UserID = Model(user_inp, user_mbd)\n",
    "encoder_MovieID = Model(movie_inp, movie_mbd)"
   ]
  },
  {
   "cell_type": "code",
   "execution_count": 36,
   "metadata": {},
   "outputs": [],
   "source": [
    "users_unique = np.unique(userid)\n",
    "users_embeddings = encoder_UserID.predict(users_unique)"
   ]
  },
  {
   "cell_type": "code",
   "execution_count": 37,
   "metadata": {},
   "outputs": [
    {
     "data": {
      "text/plain": [
       "array([[[-0.02864648,  0.02404832, -0.01672194,  0.03472207,\n",
       "         -0.04659946,  0.03847988,  0.04238483,  0.02280261,\n",
       "         -0.03277983,  0.01710645, -0.01257738, -0.03413071,\n",
       "         -0.03574416, -0.03548922,  0.05686403,  0.05906394,\n",
       "         -0.00314287,  0.0086943 ,  0.03430032,  0.02617086,\n",
       "         -0.01856759, -0.02931431,  0.00359461, -0.06082052,\n",
       "          0.0498751 , -0.03115098,  0.03041959,  0.00075134,\n",
       "         -0.03004984,  0.02628771,  0.00534042, -0.01367473,\n",
       "          0.01413259, -0.02479629, -0.01653465, -0.05562741,\n",
       "         -0.03990626, -0.00977885, -0.03099137,  0.01114488,\n",
       "         -0.04286162, -0.00549906,  0.02666238,  0.01336491,\n",
       "         -0.01424601, -0.0255978 ,  0.03819225,  0.02956324,\n",
       "         -0.01353304,  0.01656003]],\n",
       "\n",
       "       [[-0.03743275,  0.06609384, -0.04990283,  0.0969858 ,\n",
       "          0.00324219,  0.02266745, -0.08097883,  0.02348179,\n",
       "          0.10067439,  0.0562802 ,  0.06176184,  0.03668357,\n",
       "         -0.00900587,  0.09635257, -0.01998773, -0.04339548,\n",
       "         -0.00684297, -0.04492188, -0.06937793,  0.10935412,\n",
       "         -0.11019983,  0.05540917,  0.05191642,  0.01676928,\n",
       "         -0.02195364, -0.10044394, -0.03226627, -0.08701654,\n",
       "          0.05261646,  0.05163522,  0.06508684,  0.04473937,\n",
       "         -0.01437056, -0.07744927,  0.0905131 ,  0.02317558,\n",
       "         -0.06430662, -0.07287418,  0.10324236,  0.00267449,\n",
       "         -0.03575117,  0.02516822, -0.05570906,  0.07166451,\n",
       "         -0.03323639, -0.04934002, -0.0693064 ,  0.02473391,\n",
       "          0.05686065,  0.07449286]],\n",
       "\n",
       "       [[ 0.01255963,  0.10751901, -0.02503837,  0.07528625,\n",
       "          0.01801762,  0.02950781, -0.06626487,  0.06830488,\n",
       "          0.07150495, -0.01456084,  0.025391  , -0.00212905,\n",
       "         -0.0284581 ,  0.05804157, -0.09308335, -0.04393582,\n",
       "         -0.01091579,  0.00610798, -0.05451628,  0.12586899,\n",
       "         -0.09538351,  0.07705031, -0.00537621, -0.00093156,\n",
       "         -0.08957577, -0.0914157 ,  0.01943668, -0.01826125,\n",
       "          0.03289039,  0.06126756,  0.06006496,  0.08443808,\n",
       "         -0.05870744,  0.00357341,  0.08891069,  0.0032816 ,\n",
       "         -0.08998242, -0.01320946,  0.05732496, -0.01559977,\n",
       "         -0.03440725,  0.06381854, -0.02532505,  0.04402511,\n",
       "         -0.02860029, -0.02575505, -0.03760384, -0.00988882,\n",
       "          0.10734802,  0.10114242]]], dtype=float32)"
      ]
     },
     "execution_count": 37,
     "metadata": {},
     "output_type": "execute_result"
    }
   ],
   "source": [
    "users_unique[0:3]\n",
    "users_embeddings[0:3]"
   ]
  },
  {
   "cell_type": "code",
   "execution_count": 38,
   "metadata": {},
   "outputs": [],
   "source": [
    "users_embeddings=pd.DataFrame(users_embeddings.reshape(-1,50))\n",
    "users_embeddings[\"userid_catcode\"] = users_unique"
   ]
  },
  {
   "cell_type": "code",
   "execution_count": 39,
   "metadata": {},
   "outputs": [
    {
     "data": {
      "text/html": [
       "<div>\n",
       "<style scoped>\n",
       "    .dataframe tbody tr th:only-of-type {\n",
       "        vertical-align: middle;\n",
       "    }\n",
       "\n",
       "    .dataframe tbody tr th {\n",
       "        vertical-align: top;\n",
       "    }\n",
       "\n",
       "    .dataframe thead th {\n",
       "        text-align: right;\n",
       "    }\n",
       "</style>\n",
       "<table border=\"1\" class=\"dataframe\">\n",
       "  <thead>\n",
       "    <tr style=\"text-align: right;\">\n",
       "      <th></th>\n",
       "      <th>0</th>\n",
       "      <th>1</th>\n",
       "      <th>2</th>\n",
       "      <th>3</th>\n",
       "      <th>4</th>\n",
       "      <th>5</th>\n",
       "      <th>6</th>\n",
       "      <th>7</th>\n",
       "      <th>8</th>\n",
       "      <th>9</th>\n",
       "      <th>...</th>\n",
       "      <th>41</th>\n",
       "      <th>42</th>\n",
       "      <th>43</th>\n",
       "      <th>44</th>\n",
       "      <th>45</th>\n",
       "      <th>46</th>\n",
       "      <th>47</th>\n",
       "      <th>48</th>\n",
       "      <th>49</th>\n",
       "      <th>userid_catcode</th>\n",
       "    </tr>\n",
       "  </thead>\n",
       "  <tbody>\n",
       "    <tr>\n",
       "      <th>0</th>\n",
       "      <td>-0.028646</td>\n",
       "      <td>0.024048</td>\n",
       "      <td>-0.016722</td>\n",
       "      <td>0.034722</td>\n",
       "      <td>-0.046599</td>\n",
       "      <td>0.038480</td>\n",
       "      <td>0.042385</td>\n",
       "      <td>0.022803</td>\n",
       "      <td>-0.032780</td>\n",
       "      <td>0.017106</td>\n",
       "      <td>...</td>\n",
       "      <td>-0.005499</td>\n",
       "      <td>0.026662</td>\n",
       "      <td>0.013365</td>\n",
       "      <td>-0.014246</td>\n",
       "      <td>-0.025598</td>\n",
       "      <td>0.038192</td>\n",
       "      <td>0.029563</td>\n",
       "      <td>-0.013533</td>\n",
       "      <td>0.016560</td>\n",
       "      <td>0</td>\n",
       "    </tr>\n",
       "    <tr>\n",
       "      <th>1</th>\n",
       "      <td>-0.037433</td>\n",
       "      <td>0.066094</td>\n",
       "      <td>-0.049903</td>\n",
       "      <td>0.096986</td>\n",
       "      <td>0.003242</td>\n",
       "      <td>0.022667</td>\n",
       "      <td>-0.080979</td>\n",
       "      <td>0.023482</td>\n",
       "      <td>0.100674</td>\n",
       "      <td>0.056280</td>\n",
       "      <td>...</td>\n",
       "      <td>0.025168</td>\n",
       "      <td>-0.055709</td>\n",
       "      <td>0.071665</td>\n",
       "      <td>-0.033236</td>\n",
       "      <td>-0.049340</td>\n",
       "      <td>-0.069306</td>\n",
       "      <td>0.024734</td>\n",
       "      <td>0.056861</td>\n",
       "      <td>0.074493</td>\n",
       "      <td>1</td>\n",
       "    </tr>\n",
       "    <tr>\n",
       "      <th>2</th>\n",
       "      <td>0.012560</td>\n",
       "      <td>0.107519</td>\n",
       "      <td>-0.025038</td>\n",
       "      <td>0.075286</td>\n",
       "      <td>0.018018</td>\n",
       "      <td>0.029508</td>\n",
       "      <td>-0.066265</td>\n",
       "      <td>0.068305</td>\n",
       "      <td>0.071505</td>\n",
       "      <td>-0.014561</td>\n",
       "      <td>...</td>\n",
       "      <td>0.063819</td>\n",
       "      <td>-0.025325</td>\n",
       "      <td>0.044025</td>\n",
       "      <td>-0.028600</td>\n",
       "      <td>-0.025755</td>\n",
       "      <td>-0.037604</td>\n",
       "      <td>-0.009889</td>\n",
       "      <td>0.107348</td>\n",
       "      <td>0.101142</td>\n",
       "      <td>2</td>\n",
       "    </tr>\n",
       "  </tbody>\n",
       "</table>\n",
       "<p>3 rows × 51 columns</p>\n",
       "</div>"
      ],
      "text/plain": [
       "          0         1         2         3         4         5         6  \\\n",
       "0 -0.028646  0.024048 -0.016722  0.034722 -0.046599  0.038480  0.042385   \n",
       "1 -0.037433  0.066094 -0.049903  0.096986  0.003242  0.022667 -0.080979   \n",
       "2  0.012560  0.107519 -0.025038  0.075286  0.018018  0.029508 -0.066265   \n",
       "\n",
       "          7         8         9       ...              41        42        43  \\\n",
       "0  0.022803 -0.032780  0.017106       ...       -0.005499  0.026662  0.013365   \n",
       "1  0.023482  0.100674  0.056280       ...        0.025168 -0.055709  0.071665   \n",
       "2  0.068305  0.071505 -0.014561       ...        0.063819 -0.025325  0.044025   \n",
       "\n",
       "         44        45        46        47        48        49  userid_catcode  \n",
       "0 -0.014246 -0.025598  0.038192  0.029563 -0.013533  0.016560               0  \n",
       "1 -0.033236 -0.049340 -0.069306  0.024734  0.056861  0.074493               1  \n",
       "2 -0.028600 -0.025755 -0.037604 -0.009889  0.107348  0.101142               2  \n",
       "\n",
       "[3 rows x 51 columns]"
      ]
     },
     "execution_count": 39,
     "metadata": {},
     "output_type": "execute_result"
    }
   ],
   "source": [
    "users_embeddings[0:3]"
   ]
  },
  {
   "cell_type": "code",
   "execution_count": 40,
   "metadata": {},
   "outputs": [],
   "source": [
    "movies_unique = np.unique(movieid)\n",
    "movies_embeddings=encoder_MovieID.predict(movies_unique)"
   ]
  },
  {
   "cell_type": "code",
   "execution_count": 41,
   "metadata": {},
   "outputs": [],
   "source": [
    "movies_embeddings=pd.DataFrame(movies_embeddings.reshape(-1,50))\n",
    "movies_embeddings[\"movieid_catcode\"] = movies_unique"
   ]
  },
  {
   "cell_type": "markdown",
   "metadata": {},
   "source": [
    "##### Identify nearest neighbours for a movie based on k-Nearest Neighbours Algorithm"
   ]
  },
  {
   "cell_type": "code",
   "execution_count": 42,
   "metadata": {},
   "outputs": [],
   "source": [
    "from sklearn.neighbors import NearestNeighbors"
   ]
  },
  {
   "cell_type": "code",
   "execution_count": 43,
   "metadata": {},
   "outputs": [],
   "source": [
    "nbrs = NearestNeighbors(n_neighbors=10, algorithm='auto').fit(movies_embeddings.drop([\"movieid_catcode\"],axis=1))\n",
    "movie_distances, movie_nbrs = nbrs.kneighbors(movies_embeddings.drop([\"movieid_catcode\"],axis=1))\n",
    "movie_nbrs=pd.DataFrame(movie_nbrs)\n",
    "movie_nbrs.columns=[\"movieid_catcode\",\"NN1\",\"NN2\",\"NN3\",\"NN4\",\"NN5\",\"NN6\",\"NN7\",\"NN8\",\"NN9\"]"
   ]
  },
  {
   "cell_type": "markdown",
   "metadata": {},
   "source": [
    "###### Define Recommender Function"
   ]
  },
  {
   "cell_type": "code",
   "execution_count": 46,
   "metadata": {},
   "outputs": [],
   "source": [
    "def recommender(rating,movie_nbrs,model,uid,n):\n",
    "    \n",
    "    # Mapping the userid to its Cat Code\n",
    "    uid_catcode=rating[rating.userId==uid][\"userid_catcode\"].unique()\n",
    "    \n",
    "    #Subsetting the records of the userid\n",
    "    movies=(rating[rating.userid_catcode==uid_catcode[0]])\n",
    "    \n",
    "    #Sorting the user movies based on given ratings\n",
    "    if len(movies)>=n :\n",
    "        movies=movies.sort_values(\"rating\",ascending=False)\n",
    "        movies=list((movies[0:n][\"movieid_catcode\"]))\n",
    "    else :\n",
    "        movies=list(movies[\"movieid_catcode\"])\n",
    "    print(len(movies))\n",
    "    \n",
    "   \n",
    "    Movie_nbrs=movie_nbrs[movie_nbrs.movieid_catcode.isin(movies)]\n",
    "    print(Movie_nbrs.shape)\n",
    "    Movie_nbrs=Movie_nbrs.drop(\"movieid_catcode\",axis=1)\n",
    "    print(Movie_nbrs.shape)\n",
    "    \n",
    "    Movie_nbrs=pd.DataFrame(np.unique(Movie_nbrs.values.flatten()))\n",
    "    Movie_nbrs.columns=[\"movieid_catcode\"]\n",
    "    Movie_nbrs=Movie_nbrs[~(Movie_nbrs[\"movieid_catcode\"].isin(list(rating[rating.userid_catcode==uid_catcode[0]][\"movieid_catcode\"])))]\n",
    "    genre_nbrs=rating[rating.movieid_catcode.isin(Movie_nbrs.movieid_catcode)][\"genreid_catcode\"]\n",
    "    genre_nbrs.columns=[\"genre_id\"]\n",
    "    \n",
    "    \n",
    "    if len(Movie_nbrs)>0:\n",
    "        usid=np.repeat(uid_catcode[0], len(Movie_nbrs))\n",
    "        Movie_nbrs=Movie_nbrs.movieid_catcode.values\n",
    "        genre_nbrs = genre_nbrs.values\n",
    "        test_pred = model.predict([usid,Movie_nbrs,genre_nbrs]).reshape(-1)\n",
    "        \n",
    "        r_Df=pd.DataFrame({\"movieid_catcode\":Movie_nbrs})\n",
    "        r_Df[\"rating\"]=test_pred\n",
    "        \n",
    "        Movie_catcodes=rating[[\"movieId\",\"movieid_catcode\",\"title\"]]\n",
    "        Movie_catcodes=Movie_catcodes.drop_duplicates()\n",
    "        r_Df=pd.merge(r_Df,Movie_catcodes,how=\"left\",on=[\"movieid_catcode\"])\n",
    "        r_Df=r_Df.sort_values(\"rating\",ascending=False)\n",
    "        r_Df=r_Df.iloc[0:n]\n",
    "        r_Df[\"userId\"] = uid\n",
    "        return(r_Df)\n",
    "    else :\n",
    "        print(\"Try with another n value\")\n",
    "        r_Df=None\n",
    "        return(r_Df)"
   ]
  },
  {
   "cell_type": "markdown",
   "metadata": {},
   "source": [
    "###### Recommend movie for a user"
   ]
  },
  {
   "cell_type": "code",
   "execution_count": 47,
   "metadata": {},
   "outputs": [
    {
     "name": "stdout",
     "output_type": "stream",
     "text": [
      "5\n",
      "(5, 10)\n",
      "(5, 9)\n"
     ]
    },
    {
     "ename": "ValueError",
     "evalue": "Buffer dtype mismatch, expected 'Python object' but got 'long'",
     "output_type": "error",
     "traceback": [
      "\u001b[0;31m---------------------------------------------------------------------------\u001b[0m",
      "\u001b[0;31mValueError\u001b[0m                                Traceback (most recent call last)",
      "\u001b[0;31mValueError\u001b[0m: Buffer dtype mismatch, expected 'Python object' but got 'long'"
     ]
    },
    {
     "name": "stderr",
     "output_type": "stream",
     "text": [
      "Exception ValueError: \"Buffer dtype mismatch, expected 'Python object' but got 'long'\" in 'pandas._libs.lib.is_bool_array' ignored\n"
     ]
    }
   ],
   "source": [
    "uid=605\n",
    "n=5\n",
    "model = model\n",
    "rec=recommender(rating,movie_nbrs,model,uid,n)"
   ]
  },
  {
   "cell_type": "code",
   "execution_count": 48,
   "metadata": {
    "scrolled": true
   },
   "outputs": [
    {
     "data": {
      "text/html": [
       "<div>\n",
       "<style scoped>\n",
       "    .dataframe tbody tr th:only-of-type {\n",
       "        vertical-align: middle;\n",
       "    }\n",
       "\n",
       "    .dataframe tbody tr th {\n",
       "        vertical-align: top;\n",
       "    }\n",
       "\n",
       "    .dataframe thead th {\n",
       "        text-align: right;\n",
       "    }\n",
       "</style>\n",
       "<table border=\"1\" class=\"dataframe\">\n",
       "  <thead>\n",
       "    <tr style=\"text-align: right;\">\n",
       "      <th></th>\n",
       "      <th>movieid_catcode</th>\n",
       "      <th>rating</th>\n",
       "      <th>movieId</th>\n",
       "      <th>title</th>\n",
       "      <th>userId</th>\n",
       "    </tr>\n",
       "  </thead>\n",
       "  <tbody>\n",
       "    <tr>\n",
       "      <th>31</th>\n",
       "      <td>7589</td>\n",
       "      <td>3.714301</td>\n",
       "      <td>80219</td>\n",
       "      <td>Machete (2010)</td>\n",
       "      <td>605</td>\n",
       "    </tr>\n",
       "    <tr>\n",
       "      <th>28</th>\n",
       "      <td>7411</td>\n",
       "      <td>3.698900</td>\n",
       "      <td>73587</td>\n",
       "      <td>Soul Kitchen (2009)</td>\n",
       "      <td>605</td>\n",
       "    </tr>\n",
       "    <tr>\n",
       "      <th>17</th>\n",
       "      <td>3918</td>\n",
       "      <td>3.695660</td>\n",
       "      <td>5062</td>\n",
       "      <td>Seconds (1966)</td>\n",
       "      <td>605</td>\n",
       "    </tr>\n",
       "    <tr>\n",
       "      <th>42</th>\n",
       "      <td>8831</td>\n",
       "      <td>3.693542</td>\n",
       "      <td>132333</td>\n",
       "      <td>Seve (2014)</td>\n",
       "      <td>605</td>\n",
       "    </tr>\n",
       "    <tr>\n",
       "      <th>40</th>\n",
       "      <td>8458</td>\n",
       "      <td>3.680357</td>\n",
       "      <td>107649</td>\n",
       "      <td>Borgman (2013)</td>\n",
       "      <td>605</td>\n",
       "    </tr>\n",
       "  </tbody>\n",
       "</table>\n",
       "</div>"
      ],
      "text/plain": [
       "    movieid_catcode    rating movieId                title  userId\n",
       "31             7589  3.714301   80219       Machete (2010)     605\n",
       "28             7411  3.698900   73587  Soul Kitchen (2009)     605\n",
       "17             3918  3.695660    5062       Seconds (1966)     605\n",
       "42             8831  3.693542  132333          Seve (2014)     605\n",
       "40             8458  3.680357  107649       Borgman (2013)     605"
      ]
     },
     "execution_count": 48,
     "metadata": {},
     "output_type": "execute_result"
    }
   ],
   "source": [
    "rec"
   ]
  },
  {
   "cell_type": "code",
   "execution_count": null,
   "metadata": {},
   "outputs": [],
   "source": []
  },
  {
   "cell_type": "code",
   "execution_count": null,
   "metadata": {},
   "outputs": [],
   "source": []
  }
 ],
 "metadata": {
  "kernelspec": {
   "display_name": "Python 2",
   "language": "python",
   "name": "python2"
  },
  "language_info": {
   "codemirror_mode": {
    "name": "ipython",
    "version": 2
   },
   "file_extension": ".py",
   "mimetype": "text/x-python",
   "name": "python",
   "nbconvert_exporter": "python",
   "pygments_lexer": "ipython2",
   "version": "2.7.5"
  }
 },
 "nbformat": 4,
 "nbformat_minor": 2
}
